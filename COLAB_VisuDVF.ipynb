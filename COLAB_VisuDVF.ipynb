{
 "cells": [
  {
   "cell_type": "code",
   "execution_count": 5,
   "metadata": {
    "colab": {
     "base_uri": "https://localhost:8080/"
    },
    "id": "lv_IC-j9x3vg",
    "outputId": "c4b5334e-2707-467b-e717-e2dc25af7290"
   },
   "outputs": [],
   "source": [
    "#Importations\n",
    "import pandas as pd\n",
    "import numpy as np\n",
    "import matplotlib.pyplot as plt\n",
    "import plotly.express as px\n",
    "\n",
    "#unzip -u /content/valeursfoncieres.zip\n",
    "data = pd.read_csv('valeursfoncieres-2022.txt', sep='|', decimal=',')\n",
    "data2019 = pd.read_csv('valeursfoncieres-2019.txt', sep='|', decimal=',')\n",
    "data2021 = pd.read_csv('valeursfoncieres-2021.txt', sep='|', decimal=',')"
   ]
  },
  {
   "cell_type": "markdown",
   "metadata": {
    "id": "mvCBrELARhPK"
   },
   "source": [
    "# Nouvelle section"
   ]
  },
  {
   "cell_type": "code",
   "execution_count": 7,
   "metadata": {
    "colab": {
     "base_uri": "https://localhost:8080/",
     "height": 592
    },
    "id": "g1LgKYvwyvy9",
    "outputId": "6e19d433-eec7-4a7f-f895-05ed5c30f36b"
   },
   "outputs": [
    {
     "data": {
      "text/html": [
       "<div>\n",
       "<style scoped>\n",
       "    .dataframe tbody tr th:only-of-type {\n",
       "        vertical-align: middle;\n",
       "    }\n",
       "\n",
       "    .dataframe tbody tr th {\n",
       "        vertical-align: top;\n",
       "    }\n",
       "\n",
       "    .dataframe thead th {\n",
       "        text-align: right;\n",
       "    }\n",
       "</style>\n",
       "<table border=\"1\" class=\"dataframe\">\n",
       "  <thead>\n",
       "    <tr style=\"text-align: right;\">\n",
       "      <th></th>\n",
       "      <th>Identifiant de document</th>\n",
       "      <th>Reference document</th>\n",
       "      <th>1 Articles CGI</th>\n",
       "      <th>2 Articles CGI</th>\n",
       "      <th>3 Articles CGI</th>\n",
       "      <th>4 Articles CGI</th>\n",
       "      <th>5 Articles CGI</th>\n",
       "      <th>No disposition</th>\n",
       "      <th>Date mutation</th>\n",
       "      <th>Nature mutation</th>\n",
       "      <th>...</th>\n",
       "      <th>5eme lot</th>\n",
       "      <th>Surface Carrez du 5eme lot</th>\n",
       "      <th>Nombre de lots</th>\n",
       "      <th>Code type local</th>\n",
       "      <th>Type local</th>\n",
       "      <th>Surface reelle bati</th>\n",
       "      <th>Nombre pieces principales</th>\n",
       "      <th>Nature culture</th>\n",
       "      <th>Nature culture speciale</th>\n",
       "      <th>Surface terrain</th>\n",
       "    </tr>\n",
       "  </thead>\n",
       "  <tbody>\n",
       "    <tr>\n",
       "      <th>0</th>\n",
       "      <td>NaN</td>\n",
       "      <td>NaN</td>\n",
       "      <td>NaN</td>\n",
       "      <td>NaN</td>\n",
       "      <td>NaN</td>\n",
       "      <td>NaN</td>\n",
       "      <td>NaN</td>\n",
       "      <td>1</td>\n",
       "      <td>2022-03-01</td>\n",
       "      <td>Vente</td>\n",
       "      <td>...</td>\n",
       "      <td>NaN</td>\n",
       "      <td>NaN</td>\n",
       "      <td>1</td>\n",
       "      <td>2.0</td>\n",
       "      <td>Appartement</td>\n",
       "      <td>24.0</td>\n",
       "      <td>1.0</td>\n",
       "      <td>NaN</td>\n",
       "      <td>NaN</td>\n",
       "      <td>NaN</td>\n",
       "    </tr>\n",
       "    <tr>\n",
       "      <th>1</th>\n",
       "      <td>NaN</td>\n",
       "      <td>NaN</td>\n",
       "      <td>NaN</td>\n",
       "      <td>NaN</td>\n",
       "      <td>NaN</td>\n",
       "      <td>NaN</td>\n",
       "      <td>NaN</td>\n",
       "      <td>1</td>\n",
       "      <td>2022-03-01</td>\n",
       "      <td>Vente</td>\n",
       "      <td>...</td>\n",
       "      <td>NaN</td>\n",
       "      <td>NaN</td>\n",
       "      <td>0</td>\n",
       "      <td>NaN</td>\n",
       "      <td>NaN</td>\n",
       "      <td>NaN</td>\n",
       "      <td>NaN</td>\n",
       "      <td>S</td>\n",
       "      <td>NaN</td>\n",
       "      <td>84.0</td>\n",
       "    </tr>\n",
       "    <tr>\n",
       "      <th>2</th>\n",
       "      <td>NaN</td>\n",
       "      <td>NaN</td>\n",
       "      <td>NaN</td>\n",
       "      <td>NaN</td>\n",
       "      <td>NaN</td>\n",
       "      <td>NaN</td>\n",
       "      <td>NaN</td>\n",
       "      <td>1</td>\n",
       "      <td>2022-03-01</td>\n",
       "      <td>Vente</td>\n",
       "      <td>...</td>\n",
       "      <td>NaN</td>\n",
       "      <td>NaN</td>\n",
       "      <td>0</td>\n",
       "      <td>NaN</td>\n",
       "      <td>NaN</td>\n",
       "      <td>NaN</td>\n",
       "      <td>NaN</td>\n",
       "      <td>S</td>\n",
       "      <td>NaN</td>\n",
       "      <td>88.0</td>\n",
       "    </tr>\n",
       "    <tr>\n",
       "      <th>3</th>\n",
       "      <td>NaN</td>\n",
       "      <td>NaN</td>\n",
       "      <td>NaN</td>\n",
       "      <td>NaN</td>\n",
       "      <td>NaN</td>\n",
       "      <td>NaN</td>\n",
       "      <td>NaN</td>\n",
       "      <td>1</td>\n",
       "      <td>2022-03-01</td>\n",
       "      <td>Vente</td>\n",
       "      <td>...</td>\n",
       "      <td>NaN</td>\n",
       "      <td>NaN</td>\n",
       "      <td>1</td>\n",
       "      <td>2.0</td>\n",
       "      <td>Appartement</td>\n",
       "      <td>140.0</td>\n",
       "      <td>3.0</td>\n",
       "      <td>NaN</td>\n",
       "      <td>NaN</td>\n",
       "      <td>NaN</td>\n",
       "    </tr>\n",
       "    <tr>\n",
       "      <th>4</th>\n",
       "      <td>NaN</td>\n",
       "      <td>NaN</td>\n",
       "      <td>NaN</td>\n",
       "      <td>NaN</td>\n",
       "      <td>NaN</td>\n",
       "      <td>NaN</td>\n",
       "      <td>NaN</td>\n",
       "      <td>1</td>\n",
       "      <td>2022-04-01</td>\n",
       "      <td>Vente</td>\n",
       "      <td>...</td>\n",
       "      <td>NaN</td>\n",
       "      <td>NaN</td>\n",
       "      <td>0</td>\n",
       "      <td>NaN</td>\n",
       "      <td>NaN</td>\n",
       "      <td>NaN</td>\n",
       "      <td>NaN</td>\n",
       "      <td>T</td>\n",
       "      <td>NaN</td>\n",
       "      <td>510.0</td>\n",
       "    </tr>\n",
       "    <tr>\n",
       "      <th>...</th>\n",
       "      <td>...</td>\n",
       "      <td>...</td>\n",
       "      <td>...</td>\n",
       "      <td>...</td>\n",
       "      <td>...</td>\n",
       "      <td>...</td>\n",
       "      <td>...</td>\n",
       "      <td>...</td>\n",
       "      <td>...</td>\n",
       "      <td>...</td>\n",
       "      <td>...</td>\n",
       "      <td>...</td>\n",
       "      <td>...</td>\n",
       "      <td>...</td>\n",
       "      <td>...</td>\n",
       "      <td>...</td>\n",
       "      <td>...</td>\n",
       "      <td>...</td>\n",
       "      <td>...</td>\n",
       "      <td>...</td>\n",
       "      <td>...</td>\n",
       "    </tr>\n",
       "    <tr>\n",
       "      <th>3803880</th>\n",
       "      <td>NaN</td>\n",
       "      <td>NaN</td>\n",
       "      <td>NaN</td>\n",
       "      <td>NaN</td>\n",
       "      <td>NaN</td>\n",
       "      <td>NaN</td>\n",
       "      <td>NaN</td>\n",
       "      <td>1</td>\n",
       "      <td>2022-12-30</td>\n",
       "      <td>Vente</td>\n",
       "      <td>...</td>\n",
       "      <td>NaN</td>\n",
       "      <td>NaN</td>\n",
       "      <td>1</td>\n",
       "      <td>4.0</td>\n",
       "      <td>Local industriel. commercial ou assimilé</td>\n",
       "      <td>327.0</td>\n",
       "      <td>0.0</td>\n",
       "      <td>NaN</td>\n",
       "      <td>NaN</td>\n",
       "      <td>NaN</td>\n",
       "    </tr>\n",
       "    <tr>\n",
       "      <th>3803881</th>\n",
       "      <td>NaN</td>\n",
       "      <td>NaN</td>\n",
       "      <td>NaN</td>\n",
       "      <td>NaN</td>\n",
       "      <td>NaN</td>\n",
       "      <td>NaN</td>\n",
       "      <td>NaN</td>\n",
       "      <td>1</td>\n",
       "      <td>2022-12-19</td>\n",
       "      <td>Vente</td>\n",
       "      <td>...</td>\n",
       "      <td>NaN</td>\n",
       "      <td>NaN</td>\n",
       "      <td>2</td>\n",
       "      <td>3.0</td>\n",
       "      <td>Dépendance</td>\n",
       "      <td>0.0</td>\n",
       "      <td>0.0</td>\n",
       "      <td>NaN</td>\n",
       "      <td>NaN</td>\n",
       "      <td>NaN</td>\n",
       "    </tr>\n",
       "    <tr>\n",
       "      <th>3803882</th>\n",
       "      <td>NaN</td>\n",
       "      <td>NaN</td>\n",
       "      <td>NaN</td>\n",
       "      <td>NaN</td>\n",
       "      <td>NaN</td>\n",
       "      <td>NaN</td>\n",
       "      <td>NaN</td>\n",
       "      <td>1</td>\n",
       "      <td>2022-12-19</td>\n",
       "      <td>Vente</td>\n",
       "      <td>...</td>\n",
       "      <td>NaN</td>\n",
       "      <td>NaN</td>\n",
       "      <td>2</td>\n",
       "      <td>2.0</td>\n",
       "      <td>Appartement</td>\n",
       "      <td>40.0</td>\n",
       "      <td>3.0</td>\n",
       "      <td>NaN</td>\n",
       "      <td>NaN</td>\n",
       "      <td>NaN</td>\n",
       "    </tr>\n",
       "    <tr>\n",
       "      <th>3803883</th>\n",
       "      <td>NaN</td>\n",
       "      <td>NaN</td>\n",
       "      <td>NaN</td>\n",
       "      <td>NaN</td>\n",
       "      <td>NaN</td>\n",
       "      <td>NaN</td>\n",
       "      <td>NaN</td>\n",
       "      <td>1</td>\n",
       "      <td>2022-12-30</td>\n",
       "      <td>Vente</td>\n",
       "      <td>...</td>\n",
       "      <td>NaN</td>\n",
       "      <td>NaN</td>\n",
       "      <td>1</td>\n",
       "      <td>3.0</td>\n",
       "      <td>Dépendance</td>\n",
       "      <td>0.0</td>\n",
       "      <td>0.0</td>\n",
       "      <td>NaN</td>\n",
       "      <td>NaN</td>\n",
       "      <td>NaN</td>\n",
       "    </tr>\n",
       "    <tr>\n",
       "      <th>3803884</th>\n",
       "      <td>NaN</td>\n",
       "      <td>NaN</td>\n",
       "      <td>NaN</td>\n",
       "      <td>NaN</td>\n",
       "      <td>NaN</td>\n",
       "      <td>NaN</td>\n",
       "      <td>NaN</td>\n",
       "      <td>1</td>\n",
       "      <td>2022-11-21</td>\n",
       "      <td>Vente</td>\n",
       "      <td>...</td>\n",
       "      <td>NaN</td>\n",
       "      <td>NaN</td>\n",
       "      <td>1</td>\n",
       "      <td>3.0</td>\n",
       "      <td>Dépendance</td>\n",
       "      <td>0.0</td>\n",
       "      <td>0.0</td>\n",
       "      <td>NaN</td>\n",
       "      <td>NaN</td>\n",
       "      <td>NaN</td>\n",
       "    </tr>\n",
       "  </tbody>\n",
       "</table>\n",
       "<p>3803885 rows × 42 columns</p>\n",
       "</div>"
      ],
      "text/plain": [
       "         Identifiant de document  Reference document  1 Articles CGI  \\\n",
       "0                            NaN                 NaN             NaN   \n",
       "1                            NaN                 NaN             NaN   \n",
       "2                            NaN                 NaN             NaN   \n",
       "3                            NaN                 NaN             NaN   \n",
       "4                            NaN                 NaN             NaN   \n",
       "...                          ...                 ...             ...   \n",
       "3803880                      NaN                 NaN             NaN   \n",
       "3803881                      NaN                 NaN             NaN   \n",
       "3803882                      NaN                 NaN             NaN   \n",
       "3803883                      NaN                 NaN             NaN   \n",
       "3803884                      NaN                 NaN             NaN   \n",
       "\n",
       "         2 Articles CGI  3 Articles CGI  4 Articles CGI  5 Articles CGI  \\\n",
       "0                   NaN             NaN             NaN             NaN   \n",
       "1                   NaN             NaN             NaN             NaN   \n",
       "2                   NaN             NaN             NaN             NaN   \n",
       "3                   NaN             NaN             NaN             NaN   \n",
       "4                   NaN             NaN             NaN             NaN   \n",
       "...                 ...             ...             ...             ...   \n",
       "3803880             NaN             NaN             NaN             NaN   \n",
       "3803881             NaN             NaN             NaN             NaN   \n",
       "3803882             NaN             NaN             NaN             NaN   \n",
       "3803883             NaN             NaN             NaN             NaN   \n",
       "3803884             NaN             NaN             NaN             NaN   \n",
       "\n",
       "         No disposition Date mutation Nature mutation  ...  5eme lot  \\\n",
       "0                     1    2022-03-01           Vente  ...       NaN   \n",
       "1                     1    2022-03-01           Vente  ...       NaN   \n",
       "2                     1    2022-03-01           Vente  ...       NaN   \n",
       "3                     1    2022-03-01           Vente  ...       NaN   \n",
       "4                     1    2022-04-01           Vente  ...       NaN   \n",
       "...                 ...           ...             ...  ...       ...   \n",
       "3803880               1    2022-12-30           Vente  ...       NaN   \n",
       "3803881               1    2022-12-19           Vente  ...       NaN   \n",
       "3803882               1    2022-12-19           Vente  ...       NaN   \n",
       "3803883               1    2022-12-30           Vente  ...       NaN   \n",
       "3803884               1    2022-11-21           Vente  ...       NaN   \n",
       "\n",
       "         Surface Carrez du 5eme lot Nombre de lots Code type local  \\\n",
       "0                               NaN              1             2.0   \n",
       "1                               NaN              0             NaN   \n",
       "2                               NaN              0             NaN   \n",
       "3                               NaN              1             2.0   \n",
       "4                               NaN              0             NaN   \n",
       "...                             ...            ...             ...   \n",
       "3803880                         NaN              1             4.0   \n",
       "3803881                         NaN              2             3.0   \n",
       "3803882                         NaN              2             2.0   \n",
       "3803883                         NaN              1             3.0   \n",
       "3803884                         NaN              1             3.0   \n",
       "\n",
       "                                       Type local Surface reelle bati  \\\n",
       "0                                     Appartement                24.0   \n",
       "1                                             NaN                 NaN   \n",
       "2                                             NaN                 NaN   \n",
       "3                                     Appartement               140.0   \n",
       "4                                             NaN                 NaN   \n",
       "...                                           ...                 ...   \n",
       "3803880  Local industriel. commercial ou assimilé               327.0   \n",
       "3803881                                Dépendance                 0.0   \n",
       "3803882                               Appartement                40.0   \n",
       "3803883                                Dépendance                 0.0   \n",
       "3803884                                Dépendance                 0.0   \n",
       "\n",
       "         Nombre pieces principales Nature culture  Nature culture speciale  \\\n",
       "0                              1.0            NaN                      NaN   \n",
       "1                              NaN              S                      NaN   \n",
       "2                              NaN              S                      NaN   \n",
       "3                              3.0            NaN                      NaN   \n",
       "4                              NaN              T                      NaN   \n",
       "...                            ...            ...                      ...   \n",
       "3803880                        0.0            NaN                      NaN   \n",
       "3803881                        0.0            NaN                      NaN   \n",
       "3803882                        3.0            NaN                      NaN   \n",
       "3803883                        0.0            NaN                      NaN   \n",
       "3803884                        0.0            NaN                      NaN   \n",
       "\n",
       "         Surface terrain  \n",
       "0                    NaN  \n",
       "1                   84.0  \n",
       "2                   88.0  \n",
       "3                    NaN  \n",
       "4                  510.0  \n",
       "...                  ...  \n",
       "3803880              NaN  \n",
       "3803881              NaN  \n",
       "3803882              NaN  \n",
       "3803883              NaN  \n",
       "3803884              NaN  \n",
       "\n",
       "[3803885 rows x 42 columns]"
      ]
     },
     "execution_count": 7,
     "metadata": {},
     "output_type": "execute_result"
    }
   ],
   "source": [
    "#Formatage\n",
    "#Retraits de colonnes\n",
    "data.drop('Identifiant de document', axis=1)\n",
    "data.drop('Reference document', axis=1)\n",
    "data.drop('1 Articles CGI', axis=1)\n",
    "data.drop('2 Articles CGI', axis=1)\n",
    "data.drop('3 Articles CGI', axis=1)\n",
    "data.drop('4 Articles CGI', axis=1)\n",
    "data.drop('5 Articles CGI', axis=1)\n",
    "data.drop('Identifiant local', axis=1)"
   ]
  },
  {
   "cell_type": "code",
   "execution_count": 10,
   "metadata": {
    "colab": {
     "base_uri": "https://localhost:8080/"
    },
    "id": "ekLbpoTuy0lN",
    "outputId": "315f8bef-8edf-4483-8a3e-8f6311f9d8c1"
   },
   "outputs": [],
   "source": [
    "#Format des dates \n",
    "data['Date mutation'] = pd.to_datetime(data['Date mutation'])\n",
    "\n",
    "#Format de l'alias lié à la Corse (2A/2B)\n",
    "data['Code departement'] = data['Code departement'].astype(str).str.replace('2A','20').str.replace('2B','20').str.replace('971','97').str.replace('972','97').str.replace('973','97').str.replace('974','97').str.replace('976','97').astype(int)"
   ]
  },
  {
   "cell_type": "code",
   "execution_count": null,
   "metadata": {
    "id": "JSG0KiJvy0w8"
   },
   "outputs": [],
   "source": [
    "#Exemples de visualisation\n",
    "#https://plotly.com/python/plotly-express/\n",
    "#https://egallic.fr/Enseignement/Python/visualisation-de-donnees.html\n",
    "#https://gvallverdu.gitbooks.io/python_sciences/content/pandas_capp.html\n",
    "\n",
    "datafiltre = data[data['Valeur fonciere'] < 300000000]\n",
    "fig = px.scatter(datafiltre['Date mutation'], datafiltre['Valeur fonciere'])\n",
    "fig.show()"
   ]
  },
  {
   "cell_type": "code",
   "execution_count": 12,
   "metadata": {
    "colab": {
     "base_uri": "https://localhost:8080/",
     "height": 637
    },
    "id": "e1MBnH8nXs1l",
    "outputId": "f81a5dc9-78dd-4e91-b53c-03ba01669b7e"
   },
   "outputs": [
    {
     "data": {
      "text/plain": [
       "Text(0.5, 1.0, 'Volume de ventes (en M€) par mois')"
      ]
     },
     "execution_count": 12,
     "metadata": {},
     "output_type": "execute_result"
    },
    {
     "data": {
      "image/png": "[encoded data removed]",
      "text/plain": [
       "<Figure size 432x288 with 1 Axes>"
      ]
     },
     "metadata": {
      "needs_background": "light"
     },
     "output_type": "display_data"
    }
   ],
   "source": [
    "nombreventes_mois = data.groupby('Date mutation').sum()\n",
    "nombreventes_mois = nombreventes_mois.groupby([nombreventes_mois.index.year.values,nombreventes_mois.index.month.values]).sum()\n",
    "nombreventes_mois['mois'] = nombreventes_mois.index\n",
    "#bins = np.arange(0, nombreventes_mois['Valeur fonciere'].max(), 1000000000)\n",
    "\n",
    "nombreventes_mois.plot.bar(x='mois', y='Valeur fonciere')\n",
    "plt.title('Volume de ventes (en M€) par mois')"
   ]
  },
  {
   "cell_type": "code",
   "execution_count": null,
   "metadata": {
    "id": "HHO4E1nLXm83"
   },
   "outputs": [],
   "source": [
    "#Surface moyenne des terrains en fonction du département de vente\n",
    "surfacemoyenne_dpt = "
   ]
  },
  {
   "cell_type": "code",
   "execution_count": 13,
   "metadata": {
    "colab": {
     "base_uri": "https://localhost:8080/",
     "height": 542
    },
    "id": "Qy5CupblXw5S",
    "outputId": "512c8059-20a8-4646-8e3a-d78729dbba24"
   },
   "outputs": [
    {
     "data": {
      "image/png": "[encoded data removed]",
      "text/plain": [
       "<Figure size 432x288 with 1 Axes>"
      ]
     },
     "metadata": {
      "needs_background": "light"
     },
     "output_type": "display_data"
    }
   ],
   "source": [
    "#Département comportant le plus de transactions (par mois)\n",
    "nombreventes_dpt = data.groupby('Code departement').sum()\n",
    "nombreventes_dpt['count'] = data['Code departement'].value_counts()\n",
    "nombreventes_dpt['dept'] = nombreventes_dpt.index\n",
    "\n",
    "nombreventes_dpt = nombreventes_dpt.sort_values(by=['count'], axis=0, ascending=False)\n",
    "\n",
    "nombreventes_dpt_10_pgrand = nombreventes_dpt.head(10)\n",
    "nombreventes_dpt_10_ppetit = nombreventes_dpt.tail(10)\n",
    "#nombrevente_dpt = nombrevente_dpt.groupby([nombrevente_dpt.index.year.values,nombrevente_dpt.index.month.values]).sum()\n",
    "\n",
    "nombreventes_dpt_10_pgrand.sort_values(by=['count'], axis=0).plot.barh(y='count')\n",
    "plt.title('Volume de vente (en nombre) pour les 10 plus gros départements vendeurs')\n",
    "plt.show()"
   ]
  },
  {
   "cell_type": "code",
   "execution_count": 14,
   "metadata": {
    "colab": {
     "base_uri": "https://localhost:8080/",
     "height": 453
    },
    "id": "fxf8uilBXxc7",
    "outputId": "cc184692-8cff-4769-a433-ea42cae1277e"
   },
   "outputs": [
    {
     "data": {
      "image/png": "[encoded data removed]",
      "text/plain": [
       "<Figure size 432x288 with 1 Axes>"
      ]
     },
     "metadata": {
      "needs_background": "light"
     },
     "output_type": "display_data"
    }
   ],
   "source": [
    "nombreventes_dpt_10_ppetit.plot.barh(y='count')\n",
    "plt.title('Volume de vente (en nombre) pour les 10 plus petits départements vendeurs')\n",
    "plt.show()"
   ]
  },
  {
   "cell_type": "code",
   "execution_count": null,
   "metadata": {
    "colab": {
     "base_uri": "https://localhost:8080/",
     "height": 542
    },
    "id": "Dahi0MGCZm06",
    "outputId": "09fe69c2-0803-40a1-c526-496f9e0ae300"
   },
   "outputs": [],
   "source": [
    "#Répartition des départements en fonction du volume de transactions\n",
    "rep_dep_vol_transac = nombreventes_dpt\n",
    "rep_dep_vol_transac.loc[rep_dep_vol_transac['count'] < 50000, 'dept'] = 'Reste des départements'\n",
    "fig = px.pie(rep_dep_vol_transac, values='count', names='dept', title='Répartition des départements en fonction du volume de transactions en 2022')\n",
    "fig.show()"
   ]
  },
  {
   "cell_type": "code",
   "execution_count": null,
   "metadata": {
    "id": "a_uje9lVbSf2"
   },
   "outputs": [],
   "source": [
    "#Tendance d'évolution de la valeur foncière médiane en 2018, 2019, 2021 et 2022\n",
    "import statsmodels.api as sm\n",
    "fig = px.scatter(data, x=\"Date mutation\", y=\"Valeur fonciere\", trendline=\"ols\")\n",
    "fig.show()"
   ]
  },
  {
   "cell_type": "code",
   "execution_count": null,
   "metadata": {
    "id": "_WSJdb0BhOyL"
   },
   "outputs": [],
   "source": []
  }
 ],
 "metadata": {
  "accelerator": "GPU",
  "colab": {
   "gpuType": "T4",
   "provenance": []
  },
  "gpuClass": "standard",
  "kernelspec": {
   "display_name": "Python 3",
   "language": "python",
   "name": "python3"
  },
  "language_info": {
   "codemirror_mode": {
    "name": "ipython",
    "version": 3
   },
   "file_extension": ".py",
   "mimetype": "text/x-python",
   "name": "python",
   "nbconvert_exporter": "python",
   "pygments_lexer": "ipython3",
   "version": "3.8.5"
  }
 },
 "nbformat": 4,
 "nbformat_minor": 1
}
