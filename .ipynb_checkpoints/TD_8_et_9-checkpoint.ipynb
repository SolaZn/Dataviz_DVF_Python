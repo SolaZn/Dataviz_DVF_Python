{
 "cells": [
  {
   "cell_type": "code",
   "execution_count": 1,
   "metadata": {
    "colab": {
     "base_uri": "https://localhost:8080/",
     "height": 380
    },
    "id": "ybT0EC4DwP2k",
    "outputId": "ae726c4e-edc9-4cb6-b038-b69b254521f9"
   },
   "outputs": [
    {
     "name": "stderr",
     "output_type": "stream",
     "text": [
      "C:\\Users\\pierr\\anaconda3\\lib\\site-packages\\IPython\\core\\interactiveshell.py:3071: DtypeWarning: Columns (18,23,24,26,28,29,31,33,41) have mixed types.Specify dtype option on import or set low_memory=False.\n",
      "  has_raised = await self.run_ast_nodes(code_ast.body, cell_name,\n"
     ]
    },
    {
     "name": "stdout",
     "output_type": "stream",
     "text": [
      "         Identifiant de document  Reference document  1 Articles CGI  \\\n",
      "0                            NaN                 NaN             NaN   \n",
      "1                            NaN                 NaN             NaN   \n",
      "2                            NaN                 NaN             NaN   \n",
      "3                            NaN                 NaN             NaN   \n",
      "4                            NaN                 NaN             NaN   \n",
      "...                          ...                 ...             ...   \n",
      "3803880                      NaN                 NaN             NaN   \n",
      "3803881                      NaN                 NaN             NaN   \n",
      "3803882                      NaN                 NaN             NaN   \n",
      "3803883                      NaN                 NaN             NaN   \n",
      "3803884                      NaN                 NaN             NaN   \n",
      "\n",
      "         2 Articles CGI  3 Articles CGI  4 Articles CGI  5 Articles CGI  \\\n",
      "0                   NaN             NaN             NaN             NaN   \n",
      "1                   NaN             NaN             NaN             NaN   \n",
      "2                   NaN             NaN             NaN             NaN   \n",
      "3                   NaN             NaN             NaN             NaN   \n",
      "4                   NaN             NaN             NaN             NaN   \n",
      "...                 ...             ...             ...             ...   \n",
      "3803880             NaN             NaN             NaN             NaN   \n",
      "3803881             NaN             NaN             NaN             NaN   \n",
      "3803882             NaN             NaN             NaN             NaN   \n",
      "3803883             NaN             NaN             NaN             NaN   \n",
      "3803884             NaN             NaN             NaN             NaN   \n",
      "\n",
      "         No disposition Date mutation Nature mutation  ...  \\\n",
      "0                     1    03/01/2022           Vente  ...   \n",
      "1                     1    03/01/2022           Vente  ...   \n",
      "2                     1    03/01/2022           Vente  ...   \n",
      "3                     1    03/01/2022           Vente  ...   \n",
      "4                     1    04/01/2022           Vente  ...   \n",
      "...                 ...           ...             ...  ...   \n",
      "3803880               1    30/12/2022           Vente  ...   \n",
      "3803881               1    19/12/2022           Vente  ...   \n",
      "3803882               1    19/12/2022           Vente  ...   \n",
      "3803883               1    30/12/2022           Vente  ...   \n",
      "3803884               1    21/11/2022           Vente  ...   \n",
      "\n",
      "        Surface Carrez du 5eme lot  Nombre de lots Code type local  \\\n",
      "0                              NaN               1             2.0   \n",
      "1                              NaN               0             NaN   \n",
      "2                              NaN               0             NaN   \n",
      "3                              NaN               1             2.0   \n",
      "4                              NaN               0             NaN   \n",
      "...                            ...             ...             ...   \n",
      "3803880                        NaN               1             4.0   \n",
      "3803881                        NaN               2             3.0   \n",
      "3803882                        NaN               2             2.0   \n",
      "3803883                        NaN               1             3.0   \n",
      "3803884                        NaN               1             3.0   \n",
      "\n",
      "                                       Type local Identifiant local  \\\n",
      "0                                     Appartement               NaN   \n",
      "1                                             NaN               NaN   \n",
      "2                                             NaN               NaN   \n",
      "3                                     Appartement               NaN   \n",
      "4                                             NaN               NaN   \n",
      "...                                           ...               ...   \n",
      "3803880  Local industriel. commercial ou assimilé               NaN   \n",
      "3803881                                Dépendance               NaN   \n",
      "3803882                               Appartement               NaN   \n",
      "3803883                                Dépendance               NaN   \n",
      "3803884                                Dépendance               NaN   \n",
      "\n",
      "        Surface reelle bati  Nombre pieces principales Nature culture  \\\n",
      "0                      24.0                        1.0            NaN   \n",
      "1                       NaN                        NaN              S   \n",
      "2                       NaN                        NaN              S   \n",
      "3                     140.0                        3.0            NaN   \n",
      "4                       NaN                        NaN              T   \n",
      "...                     ...                        ...            ...   \n",
      "3803880               327.0                        0.0            NaN   \n",
      "3803881                 0.0                        0.0            NaN   \n",
      "3803882                40.0                        3.0            NaN   \n",
      "3803883                 0.0                        0.0            NaN   \n",
      "3803884                 0.0                        0.0            NaN   \n",
      "\n",
      "        Nature culture speciale  Surface terrain  \n",
      "0                           NaN              NaN  \n",
      "1                           NaN             84.0  \n",
      "2                           NaN             88.0  \n",
      "3                           NaN              NaN  \n",
      "4                           NaN            510.0  \n",
      "...                         ...              ...  \n",
      "3803880                     NaN              NaN  \n",
      "3803881                     NaN              NaN  \n",
      "3803882                     NaN              NaN  \n",
      "3803883                     NaN              NaN  \n",
      "3803884                     NaN              NaN  \n",
      "\n",
      "[3803885 rows x 43 columns]\n"
     ]
    }
   ],
   "source": [
    "#Importations\n",
    "import pandas as pd\n",
    "import numpy as np\n",
    "\n",
    "data = pd.read_csv('valeursfoncieres-2022.txt', sep='|')\n",
    "print(data)"
   ]
  },
  {
   "cell_type": "code",
   "execution_count": null,
   "metadata": {
    "id": "twVo7gzW7wY8"
   },
   "outputs": [],
   "source": [
    "from google.colab import files\n",
    "\n",
    "with open('example.txt', 'w') as f:\n",
    "  f.write('some content')\n",
    "\n",
    "files.download('example.txt')"
   ]
  },
  {
   "cell_type": "code",
   "execution_count": null,
   "metadata": {
    "id": "Qa_TOePV91dL"
   },
   "outputs": [],
   "source": [
    "from google.colab import drive\n",
    "drive.mount('/gdrive')\n",
    "%cd /gdrive"
   ]
  },
  {
   "cell_type": "code",
   "execution_count": null,
   "metadata": {
    "id": "zRj7LeINy0Sr"
   },
   "outputs": [],
   "source": []
  },
  {
   "cell_type": "code",
   "execution_count": 2,
   "metadata": {
    "id": "QRVihXCYwUNY"
   },
   "outputs": [
    {
     "data": {
      "text/plain": [
       "0         NaN\n",
       "1         NaN\n",
       "2         NaN\n",
       "3         NaN\n",
       "4         NaN\n",
       "           ..\n",
       "3803880   NaN\n",
       "3803881   NaN\n",
       "3803882   NaN\n",
       "3803883   NaN\n",
       "3803884   NaN\n",
       "Name: Identifiant local, Length: 3803885, dtype: float64"
      ]
     },
     "execution_count": 2,
     "metadata": {},
     "output_type": "execute_result"
    }
   ],
   "source": [
    "#1 à 7, 38, \n",
    "data.pop('Identifiant de document')\n",
    "data.pop('Reference document')\n",
    "data.pop('1 Articles CGI')\n",
    "data.pop('2 Articles CGI')\n",
    "data.pop('3 Articles CGI')\n",
    "data.pop('4 Articles CGI')\n",
    "data.pop('5 Articles CGI')\n",
    "data.pop('Identifiant local')"
   ]
  },
  {
   "cell_type": "code",
   "execution_count": null,
   "metadata": {
    "id": "mLd-wAnfwZ4f"
   },
   "outputs": [],
   "source": [
    "print(data)"
   ]
  },
  {
   "cell_type": "code",
   "execution_count": 3,
   "metadata": {
    "id": "V4FJ05smwcj7"
   },
   "outputs": [
    {
     "name": "stdout",
     "output_type": "stream",
     "text": [
      "POTAG    37160\n",
      "PARC     16793\n",
      "PATUR    15578\n",
      "PIN      10825\n",
      "FRICH     9670\n",
      "         ...  \n",
      "ROUI         1\n",
      "CERCL        1\n",
      "GLAIS        1\n",
      "TAMAR        1\n",
      "EAU          1\n",
      "Name: Nature culture speciale, Length: 124, dtype: int64\n",
      "\n",
      "\n",
      "1      3619806\n",
      "2       157088\n",
      "3        18501\n",
      "4         2512\n",
      "5         1108\n",
      "        ...   \n",
      "798          1\n",
      "797          1\n",
      "796          1\n",
      "795          1\n",
      "604          1\n",
      "Name: No disposition, Length: 1203, dtype: int64\n"
     ]
    }
   ],
   "source": [
    "print(data['Nature culture speciale'].value_counts())\n",
    "print('\\n')\n",
    "print(data['No disposition'].value_counts())"
   ]
  },
  {
   "cell_type": "markdown",
   "metadata": {
    "id": "CJou4w9EwgPC"
   },
   "source": [
    "# Première visualisation test\n",
    "\n",
    "\n",
    "\n",
    "---\n",
    "\n",
    "--> Volume de ventes (en terme de nombre) en fonction du mois de l'année 2022\n",
    "\n"
   ]
  },
  {
   "cell_type": "code",
   "execution_count": 4,
   "metadata": {
    "id": "p9ANMFpawe4o"
   },
   "outputs": [
    {
     "name": "stdout",
     "output_type": "stream",
     "text": [
      "0         2022-03-01\n",
      "1         2022-03-01\n",
      "2         2022-03-01\n",
      "3         2022-03-01\n",
      "4         2022-04-01\n",
      "             ...    \n",
      "3803880   2022-12-30\n",
      "3803881   2022-12-19\n",
      "3803882   2022-12-19\n",
      "3803883   2022-12-30\n",
      "3803884   2022-11-21\n",
      "Name: Date mutation, Length: 3803885, dtype: datetime64[ns]\n"
     ]
    }
   ],
   "source": [
    "#On aura besoin des colonnes \"Date de mutation\"\n",
    "viz1 = pd.to_datetime(data['Date mutation'])\n",
    "#viz1_monthly = viz1.groupby(viz1.dt.month)\n",
    "#viz1 = viz1.apply(lambda date: [date[:-3] for date in viz1])\n",
    "print(viz1)"
   ]
  },
  {
   "cell_type": "code",
   "execution_count": 5,
   "metadata": {
    "id": "55zOiHnywyp6"
   },
   "outputs": [
    {
     "name": "stdout",
     "output_type": "stream",
     "text": [
      "0            55000.0\n",
      "1           143000.0\n",
      "2           143000.0\n",
      "3           143000.0\n",
      "4              300.0\n",
      "             ...    \n",
      "3803880    3500000.0\n",
      "3803881     525000.0\n",
      "3803882     525000.0\n",
      "3803883      15500.0\n",
      "3803884      30000.0\n",
      "Name: Valeur fonciere, Length: 3803885, dtype: float64\n"
     ]
    }
   ],
   "source": [
    "data['Valeur fonciere'] = data['Valeur fonciere'].str.replace(',','.')\n",
    "data['Valeur fonciere'] = data['Valeur fonciere'].astype(float)\n",
    "print(data['Valeur fonciere'])\n",
    "\n",
    "#import matplotlib.pyplot as plt\n",
    "#plt.scatter(data['Valeur fonciere'], viz1)"
   ]
  },
  {
   "cell_type": "code",
   "execution_count": 6,
   "metadata": {
    "id": "hqUDCGj2w1UR"
   },
   "outputs": [
    {
     "name": "stdout",
     "output_type": "stream",
     "text": [
      "0           24.10\n",
      "1             NaN\n",
      "2             NaN\n",
      "3          123.23\n",
      "4             NaN\n",
      "            ...  \n",
      "3803880       NaN\n",
      "3803881     46.65\n",
      "3803882     46.65\n",
      "3803883       NaN\n",
      "3803884       NaN\n",
      "Name: Surface Carrez du 1er lot, Length: 3803885, dtype: float64\n"
     ]
    }
   ],
   "source": [
    "data['Surface Carrez du 1er lot'] = data['Surface Carrez du 1er lot'].str.replace(',','.')\n",
    "data['Surface Carrez du 1er lot'] = data['Surface Carrez du 1er lot'].astype(float)\n",
    "print(data['Surface Carrez du 1er lot'])\n"
   ]
  },
  {
   "cell_type": "code",
   "execution_count": 7,
   "metadata": {
    "id": "eP4bGBLQy2jg"
   },
   "outputs": [
    {
     "name": "stdout",
     "output_type": "stream",
     "text": [
      "0         NaN\n",
      "1         NaN\n",
      "2         NaN\n",
      "3         NaN\n",
      "4         NaN\n",
      "           ..\n",
      "3803880   NaN\n",
      "3803881   NaN\n",
      "3803882   NaN\n",
      "3803883   NaN\n",
      "3803884   NaN\n",
      "Name: Surface Carrez du 2eme lot, Length: 3803885, dtype: float64\n"
     ]
    }
   ],
   "source": [
    "data['Surface Carrez du 2eme lot'] = data['Surface Carrez du 2eme lot'].str.replace(',','.')\n",
    "data['Surface Carrez du 2eme lot'] = data['Surface Carrez du 2eme lot'].astype(float)\n",
    "print(data['Surface Carrez du 2eme lot'])"
   ]
  },
  {
   "cell_type": "code",
   "execution_count": null,
   "metadata": {
    "id": "0Ojkx2vJy3dE"
   },
   "outputs": [],
   "source": [
    "data['Surface Carrez du 3eme lot'] = data['Surface Carrez du 3eme lot'].str.replace(',','.')\n",
    "data['Surface Carrez du 3eme lot'] = data['Surface Carrez du 3eme lot'].astype(float)\n",
    "print(data['Surface Carrez du 3eme lot'])"
   ]
  },
  {
   "cell_type": "code",
   "execution_count": null,
   "metadata": {
    "id": "ypsmDBpay5fL"
   },
   "outputs": [],
   "source": [
    "data['Surface Carrez du 4eme lot'] = data['Surface Carrez du 4eme lot'].str.replace(',','.')\n",
    "data['Surface Carrez du 4eme lot'] = data['Surface Carrez du 4eme lot'].astype(float)\n",
    "print(data['Surface Carrez du 4eme lot'])"
   ]
  },
  {
   "cell_type": "code",
   "execution_count": null,
   "metadata": {
    "id": "DOXTeATxy7x_"
   },
   "outputs": [],
   "source": [
    "data['Surface Carrez du 5eme lot'] = data['Surface Carrez du 5eme lot'].str.replace(',','.')\n",
    "data['Surface Carrez du 5eme lot'] = data['Surface Carrez du 5eme lot'].astype(float)\n",
    "print(data['Surface Carrez du 5eme lot'])"
   ]
  },
  {
   "cell_type": "code",
   "execution_count": null,
   "metadata": {
    "id": "XEd6Cz_F1ojP"
   },
   "outputs": [],
   "source": [
    "print(data)"
   ]
  }
 ],
 "metadata": {
  "accelerator": "GPU",
  "colab": {
   "gpuType": "T4",
   "provenance": []
  },
  "gpuClass": "standard",
  "kernelspec": {
   "display_name": "Python 3",
   "language": "python",
   "name": "python3"
  },
  "language_info": {
   "codemirror_mode": {
    "name": "ipython",
    "version": 3
   },
   "file_extension": ".py",
   "mimetype": "text/x-python",
   "name": "python",
   "nbconvert_exporter": "python",
   "pygments_lexer": "ipython3",
   "version": "3.8.3"
  }
 },
 "nbformat": 4,
 "nbformat_minor": 1
}
