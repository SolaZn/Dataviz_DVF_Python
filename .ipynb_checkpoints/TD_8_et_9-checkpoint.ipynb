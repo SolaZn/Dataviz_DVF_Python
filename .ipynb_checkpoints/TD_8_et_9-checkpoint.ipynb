{
 "cells": [
  {
   "cell_type": "markdown",
   "metadata": {
    "id": "bAVAzr0YQCsU"
   },
   "source": []
  },
  {
   "cell_type": "code",
   "execution_count": 2,
   "metadata": {
    "colab": {
     "base_uri": "https://localhost:8080/"
    },
    "id": "lv_IC-j9x3vg",
    "outputId": "4d803080-76d6-430c-96ed-4d550d3baf06"
   },
   "outputs": [],
   "source": [
    "#Importations\n",
    "import pandas as pd\n",
    "import numpy as np\n",
    "import matplotlib.pyplot as plt\n",
    "import plotly.express as px\n",
    "import json\n",
    "\n",
    "#!unzip -u /content/valeursfoncieres.zip"
   ]
  },
  {
   "cell_type": "code",
   "execution_count": 3,
   "metadata": {
    "colab": {
     "base_uri": "https://localhost:8080/"
    },
    "id": "1JZhtjFNu9dz",
    "outputId": "7ccae261-aa3b-4420-a6b1-ce2682657447"
   },
   "outputs": [
    {
     "name": "stderr",
     "output_type": "stream",
     "text": [
      "C:\\Users\\zakan\\anaconda3\\lib\\site-packages\\IPython\\core\\interactiveshell.py:3146: DtypeWarning: Columns (18,23,24,26,28,41) have mixed types.Specify dtype option on import or set low_memory=False.\n",
      "  has_raised = await self.run_ast_nodes(code_ast.body, cell_name,\n"
     ]
    }
   ],
   "source": [
    "data = pd.read_csv('valeursfoncieres-2022.txt', sep='|', decimal=',')"
   ]
  },
  {
   "cell_type": "code",
   "execution_count": 43,
   "metadata": {
    "id": "g1LgKYvwyvy9"
   },
   "outputs": [
    {
     "name": "stdout",
     "output_type": "stream",
     "text": [
      "         Identifiant de document  Reference document  1 Articles CGI  \\\n",
      "3693050                      NaN                 NaN             NaN   \n",
      "3693051                      NaN                 NaN             NaN   \n",
      "3693052                      NaN                 NaN             NaN   \n",
      "3693053                      NaN                 NaN             NaN   \n",
      "3693054                      NaN                 NaN             NaN   \n",
      "...                          ...                 ...             ...   \n",
      "3706363                      NaN                 NaN             NaN   \n",
      "3706364                      NaN                 NaN             NaN   \n",
      "3706365                      NaN                 NaN             NaN   \n",
      "3706366                      NaN                 NaN             NaN   \n",
      "3706367                      NaN                 NaN             NaN   \n",
      "\n",
      "         2 Articles CGI  3 Articles CGI  4 Articles CGI  5 Articles CGI  \\\n",
      "3693050             NaN             NaN             NaN             NaN   \n",
      "3693051             NaN             NaN             NaN             NaN   \n",
      "3693052             NaN             NaN             NaN             NaN   \n",
      "3693053             NaN             NaN             NaN             NaN   \n",
      "3693054             NaN             NaN             NaN             NaN   \n",
      "...                 ...             ...             ...             ...   \n",
      "3706363             NaN             NaN             NaN             NaN   \n",
      "3706364             NaN             NaN             NaN             NaN   \n",
      "3706365             NaN             NaN             NaN             NaN   \n",
      "3706366             NaN             NaN             NaN             NaN   \n",
      "3706367             NaN             NaN             NaN             NaN   \n",
      "\n",
      "         No disposition Date mutation Nature mutation  ...  Nombre de lots  \\\n",
      "3693050               1    2022-05-01           Vente  ...               1   \n",
      "3693051               1    2022-05-01           Vente  ...               1   \n",
      "3693052               1    2022-05-01           Vente  ...               1   \n",
      "3693053               1    2022-05-01           Vente  ...               1   \n",
      "3693054               1    2022-05-01           Vente  ...               1   \n",
      "...                 ...           ...             ...  ...             ...   \n",
      "3706363               1    2022-10-06    Adjudication  ...               0   \n",
      "3706364               1    2022-10-06    Adjudication  ...               0   \n",
      "3706365               1    2022-12-29           Vente  ...               0   \n",
      "3706366               1    2022-12-05    Adjudication  ...               1   \n",
      "3706367               1    2022-12-05    Adjudication  ...               1   \n",
      "\n",
      "         Code type local                                Type local  \\\n",
      "3693050              2.0                               Appartement   \n",
      "3693051              3.0                                Dépendance   \n",
      "3693052              3.0                                Dépendance   \n",
      "3693053              3.0                                Dépendance   \n",
      "3693054              3.0                                Dépendance   \n",
      "...                  ...                                       ...   \n",
      "3706363              2.0                               Appartement   \n",
      "3706364              2.0                               Appartement   \n",
      "3706365              4.0  Local industriel. commercial ou assimilé   \n",
      "3706366              2.0                               Appartement   \n",
      "3706367              3.0                                Dépendance   \n",
      "\n",
      "        Identifiant local Surface reelle bati Nombre pieces principales  \\\n",
      "3693050               NaN               124.0                       5.0   \n",
      "3693051               NaN                 0.0                       0.0   \n",
      "3693052               NaN                 0.0                       0.0   \n",
      "3693053               NaN                 0.0                       0.0   \n",
      "3693054               NaN                 0.0                       0.0   \n",
      "...                   ...                 ...                       ...   \n",
      "3706363               NaN               100.0                       5.0   \n",
      "3706364               NaN               100.0                       3.0   \n",
      "3706365               NaN               416.0                       0.0   \n",
      "3706366               NaN                36.0                       2.0   \n",
      "3706367               NaN                 0.0                       0.0   \n",
      "\n",
      "         Nature culture Nature culture speciale Surface terrain Code INSEE  \n",
      "3693050             NaN                     NaN             NaN      97411  \n",
      "3693051             NaN                     NaN             NaN      97411  \n",
      "3693052             NaN                     NaN             NaN      97411  \n",
      "3693053             NaN                     NaN             NaN      97411  \n",
      "3693054             NaN                     NaN             NaN      97411  \n",
      "...                 ...                     ...             ...        ...  \n",
      "3706363              AB                     NaN          1101.0      97416  \n",
      "3706364              AB                     NaN          1101.0      97416  \n",
      "3706365               S                     NaN           643.0      97411  \n",
      "3706366             NaN                     NaN             NaN      97411  \n",
      "3706367             NaN                     NaN             NaN      97411  \n",
      "\n",
      "[13318 rows x 44 columns]\n",
      "Vaucluse\n"
     ]
    }
   ],
   "source": [
    "#Formatage\n",
    "#Retraits de colonnes\n",
    "data.drop('Identifiant de document', axis=1)\n",
    "data.drop('Reference document', axis=1)\n",
    "data.drop('1 Articles CGI', axis=1)\n",
    "data.drop('2 Articles CGI', axis=1)\n",
    "data.drop('3 Articles CGI', axis=1)\n",
    "data.drop('4 Articles CGI', axis=1)\n",
    "data.drop('5 Articles CGI', axis=1)\n",
    "data.drop('Identifiant local', axis=1)\n",
    "\n",
    "#Format des dates \n",
    "data['Date mutation'] = pd.to_datetime(data['Date mutation'])\n",
    "\n",
    "def formatCodeCommune(codeCommune):\n",
    "    codeCommune = str(codeCommune)\n",
    "    if len(codeCommune) - 3 != 0:\n",
    "        s = '0' * -(len(codeCommune) - 3)\n",
    "        codeCommune = s + codeCommune\n",
    "    return codeCommune\n",
    "\n",
    "def formatCodeINSEE(codeINSEE):\n",
    "    if len(codeINSEE) > 5:\n",
    "        codeINSEE = codeINSEE.replace('0', '', 1)\n",
    "    return codeINSEE\n",
    "    \n",
    "#Format des codes département et des codes commune\n",
    "data['Code departement'] = data['Code departement'].astype(str).apply(lambda x: '0'+x if len(x) == 1 else x) #pour avoir des codes département à deux/trois chiffres uniquement\n",
    "data['Code commune'] = data['Code commune'].astype(str).apply(lambda x: formatCodeCommune(x))\n",
    "data['Code INSEE'] = data['Code departement'] + data['Code commune']\n",
    "data['Code INSEE'] = data['Code INSEE'].apply(lambda x: formatCodeINSEE(x))\n",
    "\n",
    "dataOutre = data[data['Code departement'] == '974']\n",
    "print(dataOutre)\n",
    "\n",
    "#Ajout des descriptions de département et régions\n",
    "departements = {\n",
    "    \"01\": \"Ain\",\n",
    "    \"02\": \"Aisne\",\n",
    "    \"03\": \"Allier\",\n",
    "    \"04\": \"Alpes-de-Haute-Provence\",\n",
    "    \"05\": \"Hautes-Alpes\",\n",
    "    \"06\": \"Alpes-Maritimes\",\n",
    "    \"07\": \"Ardèche\",\n",
    "    \"08\": \"Ardennes\",\n",
    "    \"09\": \"Ariège\",\n",
    "    \"10\": \"Aube\",\n",
    "    \"11\": \"Aude\",\n",
    "    \"12\": \"Aveyron\",\n",
    "    \"13\": \"Bouches-du-Rhône\",\n",
    "    \"14\": \"Calvados\",\n",
    "    \"15\": \"Cantal\",\n",
    "    \"16\": \"Charente\",\n",
    "    \"17\": \"Charente-Maritime\",\n",
    "    \"18\": \"Cher\",\n",
    "    \"19\": \"Corrèze\",\n",
    "    \"21\": \"Côte-d'Or\",\n",
    "    \"22\": \"Côtes-d'Armor\",\n",
    "    \"23\": \"Creuse\",\n",
    "    \"24\": \"Dordogne\",\n",
    "    \"25\": \"Doubs\",\n",
    "    \"26\": \"Drôme\",\n",
    "    \"27\": \"Eure\",\n",
    "    \"28\": \"Eure-et-Loir\",\n",
    "    \"29\": \"Finistère\",\n",
    "    \"2A\": \"Corse-du-Sud\",\n",
    "    \"2B\": \"Haute-Corse\",\n",
    "    \"30\": \"Gard\",\n",
    "    \"31\": \"Haute-Garonne\",\n",
    "    \"32\": \"Gers\",\n",
    "    \"33\": \"Gironde\",\n",
    "    \"34\": \"Hérault\",\n",
    "    \"35\": \"Ille-et-Vilaine\",\n",
    "    \"36\": \"Indre\",\n",
    "    \"37\": \"Indre-et-Loire\",\n",
    "    \"38\": \"Isère\",\n",
    "    \"39\": \"Jura\",\n",
    "    \"40\": \"Landes\",\n",
    "    \"41\": \"Loir-et-Cher\",\n",
    "    \"42\": \"Loire\",\n",
    "    \"43\": \"Haute-Loire\",\n",
    "    \"44\": \"Loire-Atlantique\",\n",
    "    \"45\": \"Loiret\",\n",
    "    \"46\": \"Lot\",\n",
    "    \"47\": \"Lot-et-Garonne\",\n",
    "    \"48\": \"Lozère\",\n",
    "    \"49\": \"Maine-et-Loire\",\n",
    "    \"50\": \"Manche\",\n",
    "    \"51\": \"Marne\",\n",
    "    \"52\": \"Haute-Marne\",\n",
    "    \"53\": \"Mayenne\",\n",
    "    \"54\": \"Meurthe-et-Moselle\",\n",
    "    \"55\": \"Meuse\",\n",
    "    \"56\": \"Morbihan\",\n",
    "    \"57\": \"Moselle\",\n",
    "    \"58\": \"Nièvre\",\n",
    "    \"59\": \"Nord\",\n",
    "    \"60\": \"Oise\",\n",
    "    \"61\": \"Orne\",\n",
    "    \"62\": \"Pas-de-Calais\",\n",
    "    \"63\": \"Puy-de-Dôme\",\n",
    "    \"64\": \"Pyrénées-Atlantiques\",\n",
    "    \"65\": \"Hautes-Pyrénées\",\n",
    "    \"66\": \"Pyrénées-Orientales\",\n",
    "    \"67\": \"Bas-Rhin\",\n",
    "    \"68\": \"Haut-Rhin\",\n",
    "    \"69\": \"Rhône\",\n",
    "    \"70\": \"Haute-Saône\",\n",
    "    \"71\": \"Saône-et-Loire\",\n",
    "    \"72\": \"Sarthe\",\n",
    "    \"73\": \"Savoie\",\n",
    "    \"74\": \"Haute-Savoie\",\n",
    "    \"75\": \"Paris\",\n",
    "    \"76\": \"Seine-Maritime\",\n",
    "    \"77\": \"Seine-et-Marne\",\n",
    "    \"78\": \"Yvelines\",\n",
    "    \"79\": \"Deux-Sèvres\",\n",
    "    \"80\": \"Somme\",\n",
    "    \"81\": \"Tarn\",\n",
    "    \"82\": \"Tarn-et-Garonne\",\n",
    "    \"83\": \"Var\",\n",
    "    \"84\": \"Vaucluse\",\n",
    "    \"85\": \"Vendée\",\n",
    "    \"86\": \"Vienne\",\n",
    "    \"87\": \"Haute-Vienne\",\n",
    "    \"88\": \"Vosges\",\n",
    "    \"89\": \"Yonne\",\n",
    "    \"90\": \"Territoire de Belfort\",\n",
    "    \"91\": \"Essonne\",\n",
    "    \"92\": \"Hauts-de-Seine\",\n",
    "    \"93\": \"Seine-Saint-Denis\",\n",
    "    \"94\": \"Val-de-Marne\",\n",
    "    \"95\": \"Val-d'Oise\",\n",
    "    \"971\": \"Guadeloupe\",\n",
    "    \"972\": \"Martinique\",\n",
    "    \"973\": \"Guyane\",\n",
    "    \"974\": \"La Réunion\",\n",
    "    \"976\": \"Mayotte\"\n",
    "}\n",
    "\n",
    "departements_par_region = {\n",
    "    \"Auvergne-Rhône-Alpes\": [\"01\", \"03\", \"07\", \"15\", \"26\", \"38\", \"42\", \"43\", \"63\", \"69\", \"73\", \"74\"],\n",
    "    \"Bourgogne-Franche-Comté\": [\"21\", \"25\", \"39\", \"58\", \"70\", \"71\", \"89\", \"90\"],\n",
    "    \"Bretagne\": [\"22\", \"29\", \"35\", \"56\"],\n",
    "    \"Centre-Val de Loire\": [\"18\", \"28\", \"36\", \"37\", \"41\", \"45\"],\n",
    "    \"Corse\": [\"2A\", \"2B\"],\n",
    "    \"Grand Est\": [\"08\", \"10\", \"51\", \"52\", \"54\", \"55\", \"57\", \"67\", \"68\", \"88\"],\n",
    "    \"Hauts-de-France\": [\"02\", \"59\", \"60\", \"62\", \"80\"],\n",
    "    \"Île-de-France\": [\"75\", \"77\", \"78\", \"91\", \"92\", \"93\", \"94\", \"95\"],\n",
    "    \"Normandie\": [\"14\", \"27\", \"50\", \"61\", \"76\"],\n",
    "    \"Nouvelle-Aquitaine\": [\"16\", \"17\", \"19\", \"23\", \"24\", \"33\", \"40\", \"47\", \"64\", \"79\", \"86\", \"87\"],\n",
    "    \"Occitanie\": [\"09\", \"11\", \"12\", \"30\", \"31\", \"32\", \"34\", \"46\", \"48\", \"65\", \"66\", \"81\", \"82\"],\n",
    "    \"Pays de la Loire\": [\"44\", \"49\", \"53\", \"72\", \"85\"],\n",
    "    \"Provence-Alpes-Côte d'Azur\": [\"04\", \"05\", \"06\", \"13\", \"83\", \"84\"],\n",
    "    \"Outre-Mer\": [\"971\", \"972\", \"973\", \"974\", \"976\"]\n",
    "}\n",
    "\n",
    "print(departements.get('84'))"
   ]
  },
  {
   "cell_type": "code",
   "execution_count": null,
   "metadata": {
    "colab": {
     "base_uri": "https://localhost:8080/"
    },
    "id": "KN4rAyjCvfy1",
    "outputId": "62644379-bb15-49a6-9e3b-b7d99937c43f"
   },
   "outputs": [],
   "source": [
    "data2019 = pd.read_csv('/content/valeursfoncieres-2019.txt', sep='|', decimal=',')"
   ]
  },
  {
   "cell_type": "code",
   "execution_count": null,
   "metadata": {
    "colab": {
     "base_uri": "https://localhost:8080/"
    },
    "id": "_q5dnsI9MNBM",
    "outputId": "25fe9991-c0d4-41c6-d187-d0e0885ac442"
   },
   "outputs": [],
   "source": [
    "#Formatage\n",
    "#Retraits de colonnes\n",
    "data2019.drop('Identifiant de document', axis=1)\n",
    "data2019.drop('Reference document', axis=1)\n",
    "data2019.drop('1 Articles CGI', axis=1)\n",
    "data2019.drop('2 Articles CGI', axis=1)\n",
    "data2019.drop('3 Articles CGI', axis=1)\n",
    "data2019.drop('4 Articles CGI', axis=1)\n",
    "data2019.drop('5 Articles CGI', axis=1)\n",
    "data2019.drop('Identifiant local', axis=1)\n",
    "\n",
    "#Format des dates \n",
    "data2019['Date mutation'] = pd.to_datetime(data2019['Date mutation'])\n",
    "\n",
    "#Format de l'alias lié à la Corse (2A/2B)\n",
    "data2019['Code departement'] = data2019['Code departement'].astype(str).str.replace('2A','20').str.replace('2B','20').str.replace('971','97').str.replace('972','97').str.replace('973','97').str.replace('974','97').astype(int)\n"
   ]
  },
  {
   "cell_type": "code",
   "execution_count": null,
   "metadata": {
    "colab": {
     "base_uri": "https://localhost:8080/"
    },
    "id": "MXp5TZeEvfnF",
    "outputId": "98ff2389-583f-46ca-f33e-e856ccc2d55d"
   },
   "outputs": [],
   "source": [
    "data2021 = pd.read_csv('/content/valeursfoncieres-2021.txt', sep='|', decimal=',')"
   ]
  },
  {
   "cell_type": "code",
   "execution_count": null,
   "metadata": {
    "colab": {
     "base_uri": "https://localhost:8080/"
    },
    "id": "8CQIRfO-MGMi",
    "outputId": "f1e11ba1-efbf-461d-a24d-4ac28ccd83a9"
   },
   "outputs": [],
   "source": [
    "#Formatage\n",
    "#Retraits de colonnes\n",
    "data2021.drop('Identifiant de document', axis=1)\n",
    "data2021.drop('Reference document', axis=1)\n",
    "data2021.drop('1 Articles CGI', axis=1)\n",
    "data2021.drop('2 Articles CGI', axis=1)\n",
    "data2021.drop('3 Articles CGI', axis=1)\n",
    "data2021.drop('4 Articles CGI', axis=1)\n",
    "data2021.drop('5 Articles CGI', axis=1)\n",
    "data2021.drop('Identifiant local', axis=1)\n",
    "\n",
    "#Format des dates \n",
    "data2021['Date mutation'] = pd.to_datetime(data2021['Date mutation'])\n",
    "\n",
    "#Format de l'alias lié à la Corse (2A/2B)\n",
    "data2021['Code departement'] = data2021['Code departement'].astype(str).str.replace('2A','20').str.replace('2B','20').str.replace('971','97').str.replace('972','97').str.replace('973','97').str.replace('974','97').astype(int)\n"
   ]
  },
  {
   "cell_type": "markdown",
   "metadata": {
    "id": "mvCBrELARhPK"
   },
   "source": [
    "# Nouvelle section"
   ]
  },
  {
   "cell_type": "code",
   "execution_count": null,
   "metadata": {
    "colab": {
     "background_save": true,
     "base_uri": "https://localhost:8080/",
     "height": 542
    },
    "id": "JSG0KiJvy0w8",
    "outputId": "875a4a9b-3059-404f-e6e6-9de1bd7fe4aa"
   },
   "outputs": [],
   "source": [
    "#Exemples de visualisation\n",
    "#https://plotly.com/python/plotly-express/\n",
    "#https://egallic.fr/Enseignement/Python/visualisation-de-donnees.html\n",
    "#https://gvallverdu.gitbooks.io/python_sciences/content/pandas_capp.html\n",
    "\n",
    "datafiltre = data[data['Valeur fonciere'] < 300000000]\n",
    "fig = px.scatter(datafiltre['Date mutation'], datafiltre['Valeur fonciere'])\n",
    "fig.show()"
   ]
  },
  {
   "cell_type": "code",
   "execution_count": null,
   "metadata": {
    "colab": {
     "base_uri": "https://localhost:8080/"
    },
    "id": "e1MBnH8nXs1l",
    "outputId": "066f552d-2112-487c-fe95-ebed2e468272"
   },
   "outputs": [],
   "source": [
    "nombreventes_mois = data.groupby('Date mutation').sum()\n",
    "nombreventes_mois = nombreventes_mois.groupby([nombreventes_mois.index.year.values,nombreventes_mois.index.month.values]).sum()\n",
    "mois = ['Janvier', 'Février', 'Mars', 'Avril', 'Mai', 'Juin', 'Juillet', 'Août', 'Septembre', 'Octobre', 'Novembre', 'Décembre']\n",
    "nombreventes_mois['mois'] = nombreventes_mois.index.get_level_values(1)\n",
    "nombreventes_mois['mois'] = nombreventes_mois['mois'].apply(lambda x: mois[x-1] + \" 2022\") # on récupère le mois dans la date\n",
    "#bins = np.arange(0, nombreventes_mois['Valeur fonciere'].max(), 1000000000)\n",
    "\n",
    "#méthode plotly \n",
    "fig = px.bar(nombreventes_mois, x='mois', y='Valeur fonciere', title='Volume de vente par mois en € (2022)', labels={'mois': 'Mois', 'Valeur fonciere': 'Valeur foncière'}, color='mois')\n",
    "fig.show()\n",
    "\n",
    "#méthode plot\n",
    "#nombreventes_mois.plot.bar(x='mois', y='Valeur fonciere')\n",
    "#plt.title('Volume de ventes (en M€) par mois')\n",
    "#plt.show()"
   ]
  },
  {
   "cell_type": "code",
   "execution_count": 14,
   "metadata": {
    "colab": {
     "base_uri": "https://localhost:8080/",
     "height": 1000
    },
    "id": "HHO4E1nLXm83",
    "outputId": "d16a6ea2-a426-4010-ccbf-46ee28eb955b",
    "scrolled": true
   },
   "outputs": [
    {
     "data": {
      "application/vnd.plotly.v1+json": {
       "config": {
        "plotlyServerURL": "https://plot.ly"
       },
       "data": [
        {
         "alignmentgroup": "True",
         "hovertemplate": "Département=%{y}<br>Surface médiane en m²=%{x}<extra></extra>",
         "legendgroup": "Ain (01)",
         "marker": {
          "color": "#636efa",
          "pattern": {
           "shape": ""
          }
         },
         "name": "Ain (01)",
         "offsetgroup": "Ain (01)",
         "orientation": "h",
         "showlegend": true,
         "textposition": "auto",
         "type": "bar",
         "x": [
          125
         ],
         "xaxis": "x",
         "y": [
          "Ain (01)"
         ],
         "yaxis": "y"
        },
        {
         "alignmentgroup": "True",
         "hovertemplate": "Département=%{y}<br>Surface médiane en m²=%{x}<extra></extra>",
         "legendgroup": "Aisne (02)",
         "marker": {
          "color": "#EF553B",
          "pattern": {
           "shape": ""
          }
         },
         "name": "Aisne (02)",
         "offsetgroup": "Aisne (02)",
         "orientation": "h",
         "showlegend": true,
         "textposition": "auto",
         "type": "bar",
         "x": [
          242
         ],
         "xaxis": "x",
         "y": [
          "Aisne (02)"
         ],
         "yaxis": "y"
        },
        {
         "alignmentgroup": "True",
         "hovertemplate": "Département=%{y}<br>Surface médiane en m²=%{x}<extra></extra>",
         "legendgroup": "Allier (03)",
         "marker": {
          "color": "#00cc96",
          "pattern": {
           "shape": ""
          }
         },
         "name": "Allier (03)",
         "offsetgroup": "Allier (03)",
         "orientation": "h",
         "showlegend": true,
         "textposition": "auto",
         "type": "bar",
         "x": [
          218
         ],
         "xaxis": "x",
         "y": [
          "Allier (03)"
         ],
         "yaxis": "y"
        },
        {
         "alignmentgroup": "True",
         "hovertemplate": "Département=%{y}<br>Surface médiane en m²=%{x}<extra></extra>",
         "legendgroup": "Alpes-de-Haute-Provence (04)",
         "marker": {
          "color": "#ab63fa",
          "pattern": {
           "shape": ""
          }
         },
         "name": "Alpes-de-Haute-Provence (04)",
         "offsetgroup": "Alpes-de-Haute-Provence (04)",
         "orientation": "h",
         "showlegend": true,
         "textposition": "auto",
         "type": "bar",
         "x": [
          96
         ],
         "xaxis": "x",
         "y": [
          "Alpes-de-Haute-Provence (04)"
         ],
         "yaxis": "y"
        },
        {
         "alignmentgroup": "True",
         "hovertemplate": "Département=%{y}<br>Surface médiane en m²=%{x}<extra></extra>",
         "legendgroup": "Hautes-Alpes (05)",
         "marker": {
          "color": "#FFA15A",
          "pattern": {
           "shape": ""
          }
         },
         "name": "Hautes-Alpes (05)",
         "offsetgroup": "Hautes-Alpes (05)",
         "orientation": "h",
         "showlegend": true,
         "textposition": "auto",
         "type": "bar",
         "x": [
          72
         ],
         "xaxis": "x",
         "y": [
          "Hautes-Alpes (05)"
         ],
         "yaxis": "y"
        },
        {
         "alignmentgroup": "True",
         "hovertemplate": "Département=%{y}<br>Surface médiane en m²=%{x}<extra></extra>",
         "legendgroup": "Alpes-Maritimes (06)",
         "marker": {
          "color": "#19d3f3",
          "pattern": {
           "shape": ""
          }
         },
         "name": "Alpes-Maritimes (06)",
         "offsetgroup": "Alpes-Maritimes (06)",
         "orientation": "h",
         "showlegend": true,
         "textposition": "auto",
         "type": "bar",
         "x": [
          42.38
         ],
         "xaxis": "x",
         "y": [
          "Alpes-Maritimes (06)"
         ],
         "yaxis": "y"
        },
        {
         "alignmentgroup": "True",
         "hovertemplate": "Département=%{y}<br>Surface médiane en m²=%{x}<extra></extra>",
         "legendgroup": "Ardèche (07)",
         "marker": {
          "color": "#FF6692",
          "pattern": {
           "shape": ""
          }
         },
         "name": "Ardèche (07)",
         "offsetgroup": "Ardèche (07)",
         "orientation": "h",
         "showlegend": true,
         "textposition": "auto",
         "type": "bar",
         "x": [
          350
         ],
         "xaxis": "x",
         "y": [
          "Ardèche (07)"
         ],
         "yaxis": "y"
        },
        {
         "alignmentgroup": "True",
         "hovertemplate": "Département=%{y}<br>Surface médiane en m²=%{x}<extra></extra>",
         "legendgroup": "Ardennes (08)",
         "marker": {
          "color": "#B6E880",
          "pattern": {
           "shape": ""
          }
         },
         "name": "Ardennes (08)",
         "offsetgroup": "Ardennes (08)",
         "orientation": "h",
         "showlegend": true,
         "textposition": "auto",
         "type": "bar",
         "x": [
          195
         ],
         "xaxis": "x",
         "y": [
          "Ardennes (08)"
         ],
         "yaxis": "y"
        },
        {
         "alignmentgroup": "True",
         "hovertemplate": "Département=%{y}<br>Surface médiane en m²=%{x}<extra></extra>",
         "legendgroup": "Ariège (09)",
         "marker": {
          "color": "#FF97FF",
          "pattern": {
           "shape": ""
          }
         },
         "name": "Ariège (09)",
         "offsetgroup": "Ariège (09)",
         "orientation": "h",
         "showlegend": true,
         "textposition": "auto",
         "type": "bar",
         "x": [
          490
         ],
         "xaxis": "x",
         "y": [
          "Ariège (09)"
         ],
         "yaxis": "y"
        },
        {
         "alignmentgroup": "True",
         "hovertemplate": "Département=%{y}<br>Surface médiane en m²=%{x}<extra></extra>",
         "legendgroup": "Aube (10)",
         "marker": {
          "color": "#FECB52",
          "pattern": {
           "shape": ""
          }
         },
         "name": "Aube (10)",
         "offsetgroup": "Aube (10)",
         "orientation": "h",
         "showlegend": true,
         "textposition": "auto",
         "type": "bar",
         "x": [
          180
         ],
         "xaxis": "x",
         "y": [
          "Aube (10)"
         ],
         "yaxis": "y"
        },
        {
         "alignmentgroup": "True",
         "hovertemplate": "Département=%{y}<br>Surface médiane en m²=%{x}<extra></extra>",
         "legendgroup": "Aude (11)",
         "marker": {
          "color": "#636efa",
          "pattern": {
           "shape": ""
          }
         },
         "name": "Aude (11)",
         "offsetgroup": "Aude (11)",
         "orientation": "h",
         "showlegend": true,
         "textposition": "auto",
         "type": "bar",
         "x": [
          150
         ],
         "xaxis": "x",
         "y": [
          "Aude (11)"
         ],
         "yaxis": "y"
        },
        {
         "alignmentgroup": "True",
         "hovertemplate": "Département=%{y}<br>Surface médiane en m²=%{x}<extra></extra>",
         "legendgroup": "Aveyron (12)",
         "marker": {
          "color": "#EF553B",
          "pattern": {
           "shape": ""
          }
         },
         "name": "Aveyron (12)",
         "offsetgroup": "Aveyron (12)",
         "orientation": "h",
         "showlegend": true,
         "textposition": "auto",
         "type": "bar",
         "x": [
          358
         ],
         "xaxis": "x",
         "y": [
          "Aveyron (12)"
         ],
         "yaxis": "y"
        },
        {
         "alignmentgroup": "True",
         "hovertemplate": "Département=%{y}<br>Surface médiane en m²=%{x}<extra></extra>",
         "legendgroup": "Bouches-du-Rhône (13)",
         "marker": {
          "color": "#00cc96",
          "pattern": {
           "shape": ""
          }
         },
         "name": "Bouches-du-Rhône (13)",
         "offsetgroup": "Bouches-du-Rhône (13)",
         "orientation": "h",
         "showlegend": true,
         "textposition": "auto",
         "type": "bar",
         "x": [
          61
         ],
         "xaxis": "x",
         "y": [
          "Bouches-du-Rhône (13)"
         ],
         "yaxis": "y"
        },
        {
         "alignmentgroup": "True",
         "hovertemplate": "Département=%{y}<br>Surface médiane en m²=%{x}<extra></extra>",
         "legendgroup": "Calvados (14)",
         "marker": {
          "color": "#ab63fa",
          "pattern": {
           "shape": ""
          }
         },
         "name": "Calvados (14)",
         "offsetgroup": "Calvados (14)",
         "orientation": "h",
         "showlegend": true,
         "textposition": "auto",
         "type": "bar",
         "x": [
          94.9
         ],
         "xaxis": "x",
         "y": [
          "Calvados (14)"
         ],
         "yaxis": "y"
        },
        {
         "alignmentgroup": "True",
         "hovertemplate": "Département=%{y}<br>Surface médiane en m²=%{x}<extra></extra>",
         "legendgroup": "Cantal (15)",
         "marker": {
          "color": "#FFA15A",
          "pattern": {
           "shape": ""
          }
         },
         "name": "Cantal (15)",
         "offsetgroup": "Cantal (15)",
         "orientation": "h",
         "showlegend": true,
         "textposition": "auto",
         "type": "bar",
         "x": [
          405
         ],
         "xaxis": "x",
         "y": [
          "Cantal (15)"
         ],
         "yaxis": "y"
        },
        {
         "alignmentgroup": "True",
         "hovertemplate": "Département=%{y}<br>Surface médiane en m²=%{x}<extra></extra>",
         "legendgroup": "Charente (16)",
         "marker": {
          "color": "#19d3f3",
          "pattern": {
           "shape": ""
          }
         },
         "name": "Charente (16)",
         "offsetgroup": "Charente (16)",
         "orientation": "h",
         "showlegend": true,
         "textposition": "auto",
         "type": "bar",
         "x": [
          506
         ],
         "xaxis": "x",
         "y": [
          "Charente (16)"
         ],
         "yaxis": "y"
        },
        {
         "alignmentgroup": "True",
         "hovertemplate": "Département=%{y}<br>Surface médiane en m²=%{x}<extra></extra>",
         "legendgroup": "Charente-Maritime (17)",
         "marker": {
          "color": "#FF6692",
          "pattern": {
           "shape": ""
          }
         },
         "name": "Charente-Maritime (17)",
         "offsetgroup": "Charente-Maritime (17)",
         "orientation": "h",
         "showlegend": true,
         "textposition": "auto",
         "type": "bar",
         "x": [
          166
         ],
         "xaxis": "x",
         "y": [
          "Charente-Maritime (17)"
         ],
         "yaxis": "y"
        },
        {
         "alignmentgroup": "True",
         "hovertemplate": "Département=%{y}<br>Surface médiane en m²=%{x}<extra></extra>",
         "legendgroup": "Cher (18)",
         "marker": {
          "color": "#B6E880",
          "pattern": {
           "shape": ""
          }
         },
         "name": "Cher (18)",
         "offsetgroup": "Cher (18)",
         "orientation": "h",
         "showlegend": true,
         "textposition": "auto",
         "type": "bar",
         "x": [
          279
         ],
         "xaxis": "x",
         "y": [
          "Cher (18)"
         ],
         "yaxis": "y"
        },
        {
         "alignmentgroup": "True",
         "hovertemplate": "Département=%{y}<br>Surface médiane en m²=%{x}<extra></extra>",
         "legendgroup": "Corrèze (19)",
         "marker": {
          "color": "#FF97FF",
          "pattern": {
           "shape": ""
          }
         },
         "name": "Corrèze (19)",
         "offsetgroup": "Corrèze (19)",
         "orientation": "h",
         "showlegend": true,
         "textposition": "auto",
         "type": "bar",
         "x": [
          500
         ],
         "xaxis": "x",
         "y": [
          "Corrèze (19)"
         ],
         "yaxis": "y"
        },
        {
         "alignmentgroup": "True",
         "hovertemplate": "Département=%{y}<br>Surface médiane en m²=%{x}<extra></extra>",
         "legendgroup": "Côte-d'Or (21)",
         "marker": {
          "color": "#FECB52",
          "pattern": {
           "shape": ""
          }
         },
         "name": "Côte-d'Or (21)",
         "offsetgroup": "Côte-d'Or (21)",
         "orientation": "h",
         "showlegend": true,
         "textposition": "auto",
         "type": "bar",
         "x": [
          94
         ],
         "xaxis": "x",
         "y": [
          "Côte-d'Or (21)"
         ],
         "yaxis": "y"
        },
        {
         "alignmentgroup": "True",
         "hovertemplate": "Département=%{y}<br>Surface médiane en m²=%{x}<extra></extra>",
         "legendgroup": "Côtes-d'Armor (22)",
         "marker": {
          "color": "#636efa",
          "pattern": {
           "shape": ""
          }
         },
         "name": "Côtes-d'Armor (22)",
         "offsetgroup": "Côtes-d'Armor (22)",
         "orientation": "h",
         "showlegend": true,
         "textposition": "auto",
         "type": "bar",
         "x": [
          177
         ],
         "xaxis": "x",
         "y": [
          "Côtes-d'Armor (22)"
         ],
         "yaxis": "y"
        },
        {
         "alignmentgroup": "True",
         "hovertemplate": "Département=%{y}<br>Surface médiane en m²=%{x}<extra></extra>",
         "legendgroup": "Creuse (23)",
         "marker": {
          "color": "#EF553B",
          "pattern": {
           "shape": ""
          }
         },
         "name": "Creuse (23)",
         "offsetgroup": "Creuse (23)",
         "orientation": "h",
         "showlegend": true,
         "textposition": "auto",
         "type": "bar",
         "x": [
          921
         ],
         "xaxis": "x",
         "y": [
          "Creuse (23)"
         ],
         "yaxis": "y"
        },
        {
         "alignmentgroup": "True",
         "hovertemplate": "Département=%{y}<br>Surface médiane en m²=%{x}<extra></extra>",
         "legendgroup": "Dordogne (24)",
         "marker": {
          "color": "#00cc96",
          "pattern": {
           "shape": ""
          }
         },
         "name": "Dordogne (24)",
         "offsetgroup": "Dordogne (24)",
         "orientation": "h",
         "showlegend": true,
         "textposition": "auto",
         "type": "bar",
         "x": [
          745
         ],
         "xaxis": "x",
         "y": [
          "Dordogne (24)"
         ],
         "yaxis": "y"
        },
        {
         "alignmentgroup": "True",
         "hovertemplate": "Département=%{y}<br>Surface médiane en m²=%{x}<extra></extra>",
         "legendgroup": "Doubs (25)",
         "marker": {
          "color": "#ab63fa",
          "pattern": {
           "shape": ""
          }
         },
         "name": "Doubs (25)",
         "offsetgroup": "Doubs (25)",
         "orientation": "h",
         "showlegend": true,
         "textposition": "auto",
         "type": "bar",
         "x": [
          95
         ],
         "xaxis": "x",
         "y": [
          "Doubs (25)"
         ],
         "yaxis": "y"
        },
        {
         "alignmentgroup": "True",
         "hovertemplate": "Département=%{y}<br>Surface médiane en m²=%{x}<extra></extra>",
         "legendgroup": "Drôme (26)",
         "marker": {
          "color": "#FFA15A",
          "pattern": {
           "shape": ""
          }
         },
         "name": "Drôme (26)",
         "offsetgroup": "Drôme (26)",
         "orientation": "h",
         "showlegend": true,
         "textposition": "auto",
         "type": "bar",
         "x": [
          126
         ],
         "xaxis": "x",
         "y": [
          "Drôme (26)"
         ],
         "yaxis": "y"
        },
        {
         "alignmentgroup": "True",
         "hovertemplate": "Département=%{y}<br>Surface médiane en m²=%{x}<extra></extra>",
         "legendgroup": "Eure (27)",
         "marker": {
          "color": "#19d3f3",
          "pattern": {
           "shape": ""
          }
         },
         "name": "Eure (27)",
         "offsetgroup": "Eure (27)",
         "orientation": "h",
         "showlegend": true,
         "textposition": "auto",
         "type": "bar",
         "x": [
          141
         ],
         "xaxis": "x",
         "y": [
          "Eure (27)"
         ],
         "yaxis": "y"
        },
        {
         "alignmentgroup": "True",
         "hovertemplate": "Département=%{y}<br>Surface médiane en m²=%{x}<extra></extra>",
         "legendgroup": "Eure-et-Loir (28)",
         "marker": {
          "color": "#FF6692",
          "pattern": {
           "shape": ""
          }
         },
         "name": "Eure-et-Loir (28)",
         "offsetgroup": "Eure-et-Loir (28)",
         "orientation": "h",
         "showlegend": true,
         "textposition": "auto",
         "type": "bar",
         "x": [
          165
         ],
         "xaxis": "x",
         "y": [
          "Eure-et-Loir (28)"
         ],
         "yaxis": "y"
        },
        {
         "alignmentgroup": "True",
         "hovertemplate": "Département=%{y}<br>Surface médiane en m²=%{x}<extra></extra>",
         "legendgroup": "Finistère (29)",
         "marker": {
          "color": "#B6E880",
          "pattern": {
           "shape": ""
          }
         },
         "name": "Finistère (29)",
         "offsetgroup": "Finistère (29)",
         "orientation": "h",
         "showlegend": true,
         "textposition": "auto",
         "type": "bar",
         "x": [
          125
         ],
         "xaxis": "x",
         "y": [
          "Finistère (29)"
         ],
         "yaxis": "y"
        },
        {
         "alignmentgroup": "True",
         "hovertemplate": "Département=%{y}<br>Surface médiane en m²=%{x}<extra></extra>",
         "legendgroup": "Corse-du-Sud (2A)",
         "marker": {
          "color": "#FF97FF",
          "pattern": {
           "shape": ""
          }
         },
         "name": "Corse-du-Sud (2A)",
         "offsetgroup": "Corse-du-Sud (2A)",
         "orientation": "h",
         "showlegend": true,
         "textposition": "auto",
         "type": "bar",
         "x": [
          70
         ],
         "xaxis": "x",
         "y": [
          "Corse-du-Sud (2A)"
         ],
         "yaxis": "y"
        },
        {
         "alignmentgroup": "True",
         "hovertemplate": "Département=%{y}<br>Surface médiane en m²=%{x}<extra></extra>",
         "legendgroup": "Haute-Corse (2B)",
         "marker": {
          "color": "#FECB52",
          "pattern": {
           "shape": ""
          }
         },
         "name": "Haute-Corse (2B)",
         "offsetgroup": "Haute-Corse (2B)",
         "orientation": "h",
         "showlegend": true,
         "textposition": "auto",
         "type": "bar",
         "x": [
          66.5
         ],
         "xaxis": "x",
         "y": [
          "Haute-Corse (2B)"
         ],
         "yaxis": "y"
        },
        {
         "alignmentgroup": "True",
         "hovertemplate": "Département=%{y}<br>Surface médiane en m²=%{x}<extra></extra>",
         "legendgroup": "Gard (30)",
         "marker": {
          "color": "#636efa",
          "pattern": {
           "shape": ""
          }
         },
         "name": "Gard (30)",
         "offsetgroup": "Gard (30)",
         "orientation": "h",
         "showlegend": true,
         "textposition": "auto",
         "type": "bar",
         "x": [
          107
         ],
         "xaxis": "x",
         "y": [
          "Gard (30)"
         ],
         "yaxis": "y"
        },
        {
         "alignmentgroup": "True",
         "hovertemplate": "Département=%{y}<br>Surface médiane en m²=%{x}<extra></extra>",
         "legendgroup": "Haute-Garonne (31)",
         "marker": {
          "color": "#EF553B",
          "pattern": {
           "shape": ""
          }
         },
         "name": "Haute-Garonne (31)",
         "offsetgroup": "Haute-Garonne (31)",
         "orientation": "h",
         "showlegend": true,
         "textposition": "auto",
         "type": "bar",
         "x": [
          66.13
         ],
         "xaxis": "x",
         "y": [
          "Haute-Garonne (31)"
         ],
         "yaxis": "y"
        },
        {
         "alignmentgroup": "True",
         "hovertemplate": "Département=%{y}<br>Surface médiane en m²=%{x}<extra></extra>",
         "legendgroup": "Gers (32)",
         "marker": {
          "color": "#00cc96",
          "pattern": {
           "shape": ""
          }
         },
         "name": "Gers (32)",
         "offsetgroup": "Gers (32)",
         "orientation": "h",
         "showlegend": true,
         "textposition": "auto",
         "type": "bar",
         "x": [
          1067
         ],
         "xaxis": "x",
         "y": [
          "Gers (32)"
         ],
         "yaxis": "y"
        },
        {
         "alignmentgroup": "True",
         "hovertemplate": "Département=%{y}<br>Surface médiane en m²=%{x}<extra></extra>",
         "legendgroup": "Gironde (33)",
         "marker": {
          "color": "#ab63fa",
          "pattern": {
           "shape": ""
          }
         },
         "name": "Gironde (33)",
         "offsetgroup": "Gironde (33)",
         "orientation": "h",
         "showlegend": true,
         "textposition": "auto",
         "type": "bar",
         "x": [
          97
         ],
         "xaxis": "x",
         "y": [
          "Gironde (33)"
         ],
         "yaxis": "y"
        },
        {
         "alignmentgroup": "True",
         "hovertemplate": "Département=%{y}<br>Surface médiane en m²=%{x}<extra></extra>",
         "legendgroup": "Hérault (34)",
         "marker": {
          "color": "#FFA15A",
          "pattern": {
           "shape": ""
          }
         },
         "name": "Hérault (34)",
         "offsetgroup": "Hérault (34)",
         "orientation": "h",
         "showlegend": true,
         "textposition": "auto",
         "type": "bar",
         "x": [
          60
         ],
         "xaxis": "x",
         "y": [
          "Hérault (34)"
         ],
         "yaxis": "y"
        },
        {
         "alignmentgroup": "True",
         "hovertemplate": "Département=%{y}<br>Surface médiane en m²=%{x}<extra></extra>",
         "legendgroup": "Ille-et-Vilaine (35)",
         "marker": {
          "color": "#19d3f3",
          "pattern": {
           "shape": ""
          }
         },
         "name": "Ille-et-Vilaine (35)",
         "offsetgroup": "Ille-et-Vilaine (35)",
         "orientation": "h",
         "showlegend": true,
         "textposition": "auto",
         "type": "bar",
         "x": [
          95.355
         ],
         "xaxis": "x",
         "y": [
          "Ille-et-Vilaine (35)"
         ],
         "yaxis": "y"
        },
        {
         "alignmentgroup": "True",
         "hovertemplate": "Département=%{y}<br>Surface médiane en m²=%{x}<extra></extra>",
         "legendgroup": "Indre (36)",
         "marker": {
          "color": "#FF6692",
          "pattern": {
           "shape": ""
          }
         },
         "name": "Indre (36)",
         "offsetgroup": "Indre (36)",
         "orientation": "h",
         "showlegend": true,
         "textposition": "auto",
         "type": "bar",
         "x": [
          500
         ],
         "xaxis": "x",
         "y": [
          "Indre (36)"
         ],
         "yaxis": "y"
        },
        {
         "alignmentgroup": "True",
         "hovertemplate": "Département=%{y}<br>Surface médiane en m²=%{x}<extra></extra>",
         "legendgroup": "Indre-et-Loire (37)",
         "marker": {
          "color": "#B6E880",
          "pattern": {
           "shape": ""
          }
         },
         "name": "Indre-et-Loire (37)",
         "offsetgroup": "Indre-et-Loire (37)",
         "orientation": "h",
         "showlegend": true,
         "textposition": "auto",
         "type": "bar",
         "x": [
          132
         ],
         "xaxis": "x",
         "y": [
          "Indre-et-Loire (37)"
         ],
         "yaxis": "y"
        },
        {
         "alignmentgroup": "True",
         "hovertemplate": "Département=%{y}<br>Surface médiane en m²=%{x}<extra></extra>",
         "legendgroup": "Isère (38)",
         "marker": {
          "color": "#FF97FF",
          "pattern": {
           "shape": ""
          }
         },
         "name": "Isère (38)",
         "offsetgroup": "Isère (38)",
         "orientation": "h",
         "showlegend": true,
         "textposition": "auto",
         "type": "bar",
         "x": [
          71
         ],
         "xaxis": "x",
         "y": [
          "Isère (38)"
         ],
         "yaxis": "y"
        },
        {
         "alignmentgroup": "True",
         "hovertemplate": "Département=%{y}<br>Surface médiane en m²=%{x}<extra></extra>",
         "legendgroup": "Jura (39)",
         "marker": {
          "color": "#FECB52",
          "pattern": {
           "shape": ""
          }
         },
         "name": "Jura (39)",
         "offsetgroup": "Jura (39)",
         "orientation": "h",
         "showlegend": true,
         "textposition": "auto",
         "type": "bar",
         "x": [
          260
         ],
         "xaxis": "x",
         "y": [
          "Jura (39)"
         ],
         "yaxis": "y"
        },
        {
         "alignmentgroup": "True",
         "hovertemplate": "Département=%{y}<br>Surface médiane en m²=%{x}<extra></extra>",
         "legendgroup": "Landes (40)",
         "marker": {
          "color": "#636efa",
          "pattern": {
           "shape": ""
          }
         },
         "name": "Landes (40)",
         "offsetgroup": "Landes (40)",
         "orientation": "h",
         "showlegend": true,
         "textposition": "auto",
         "type": "bar",
         "x": [
          261
         ],
         "xaxis": "x",
         "y": [
          "Landes (40)"
         ],
         "yaxis": "y"
        },
        {
         "alignmentgroup": "True",
         "hovertemplate": "Département=%{y}<br>Surface médiane en m²=%{x}<extra></extra>",
         "legendgroup": "Loir-et-Cher (41)",
         "marker": {
          "color": "#EF553B",
          "pattern": {
           "shape": ""
          }
         },
         "name": "Loir-et-Cher (41)",
         "offsetgroup": "Loir-et-Cher (41)",
         "orientation": "h",
         "showlegend": true,
         "textposition": "auto",
         "type": "bar",
         "x": [
          426
         ],
         "xaxis": "x",
         "y": [
          "Loir-et-Cher (41)"
         ],
         "yaxis": "y"
        },
        {
         "alignmentgroup": "True",
         "hovertemplate": "Département=%{y}<br>Surface médiane en m²=%{x}<extra></extra>",
         "legendgroup": "Loire (42)",
         "marker": {
          "color": "#00cc96",
          "pattern": {
           "shape": ""
          }
         },
         "name": "Loire (42)",
         "offsetgroup": "Loire (42)",
         "orientation": "h",
         "showlegend": true,
         "textposition": "auto",
         "type": "bar",
         "x": [
          101.65
         ],
         "xaxis": "x",
         "y": [
          "Loire (42)"
         ],
         "yaxis": "y"
        },
        {
         "alignmentgroup": "True",
         "hovertemplate": "Département=%{y}<br>Surface médiane en m²=%{x}<extra></extra>",
         "legendgroup": "Haute-Loire (43)",
         "marker": {
          "color": "#ab63fa",
          "pattern": {
           "shape": ""
          }
         },
         "name": "Haute-Loire (43)",
         "offsetgroup": "Haute-Loire (43)",
         "orientation": "h",
         "showlegend": true,
         "textposition": "auto",
         "type": "bar",
         "x": [
          600
         ],
         "xaxis": "x",
         "y": [
          "Haute-Loire (43)"
         ],
         "yaxis": "y"
        },
        {
         "alignmentgroup": "True",
         "hovertemplate": "Département=%{y}<br>Surface médiane en m²=%{x}<extra></extra>",
         "legendgroup": "Loire-Atlantique (44)",
         "marker": {
          "color": "#FFA15A",
          "pattern": {
           "shape": ""
          }
         },
         "name": "Loire-Atlantique (44)",
         "offsetgroup": "Loire-Atlantique (44)",
         "orientation": "h",
         "showlegend": true,
         "textposition": "auto",
         "type": "bar",
         "x": [
          89
         ],
         "xaxis": "x",
         "y": [
          "Loire-Atlantique (44)"
         ],
         "yaxis": "y"
        },
        {
         "alignmentgroup": "True",
         "hovertemplate": "Département=%{y}<br>Surface médiane en m²=%{x}<extra></extra>",
         "legendgroup": "Loiret (45)",
         "marker": {
          "color": "#19d3f3",
          "pattern": {
           "shape": ""
          }
         },
         "name": "Loiret (45)",
         "offsetgroup": "Loiret (45)",
         "orientation": "h",
         "showlegend": true,
         "textposition": "auto",
         "type": "bar",
         "x": [
          134
         ],
         "xaxis": "x",
         "y": [
          "Loiret (45)"
         ],
         "yaxis": "y"
        },
        {
         "alignmentgroup": "True",
         "hovertemplate": "Département=%{y}<br>Surface médiane en m²=%{x}<extra></extra>",
         "legendgroup": "Lot (46)",
         "marker": {
          "color": "#FF6692",
          "pattern": {
           "shape": ""
          }
         },
         "name": "Lot (46)",
         "offsetgroup": "Lot (46)",
         "orientation": "h",
         "showlegend": true,
         "textposition": "auto",
         "type": "bar",
         "x": [
          835.5
         ],
         "xaxis": "x",
         "y": [
          "Lot (46)"
         ],
         "yaxis": "y"
        },
        {
         "alignmentgroup": "True",
         "hovertemplate": "Département=%{y}<br>Surface médiane en m²=%{x}<extra></extra>",
         "legendgroup": "Lot-et-Garonne (47)",
         "marker": {
          "color": "#B6E880",
          "pattern": {
           "shape": ""
          }
         },
         "name": "Lot-et-Garonne (47)",
         "offsetgroup": "Lot-et-Garonne (47)",
         "orientation": "h",
         "showlegend": true,
         "textposition": "auto",
         "type": "bar",
         "x": [
          472
         ],
         "xaxis": "x",
         "y": [
          "Lot-et-Garonne (47)"
         ],
         "yaxis": "y"
        },
        {
         "alignmentgroup": "True",
         "hovertemplate": "Département=%{y}<br>Surface médiane en m²=%{x}<extra></extra>",
         "legendgroup": "Lozère (48)",
         "marker": {
          "color": "#FF97FF",
          "pattern": {
           "shape": ""
          }
         },
         "name": "Lozère (48)",
         "offsetgroup": "Lozère (48)",
         "orientation": "h",
         "showlegend": true,
         "textposition": "auto",
         "type": "bar",
         "x": [
          500
         ],
         "xaxis": "x",
         "y": [
          "Lozère (48)"
         ],
         "yaxis": "y"
        },
        {
         "alignmentgroup": "True",
         "hovertemplate": "Département=%{y}<br>Surface médiane en m²=%{x}<extra></extra>",
         "legendgroup": "Maine-et-Loire (49)",
         "marker": {
          "color": "#FECB52",
          "pattern": {
           "shape": ""
          }
         },
         "name": "Maine-et-Loire (49)",
         "offsetgroup": "Maine-et-Loire (49)",
         "orientation": "h",
         "showlegend": true,
         "textposition": "auto",
         "type": "bar",
         "x": [
          143
         ],
         "xaxis": "x",
         "y": [
          "Maine-et-Loire (49)"
         ],
         "yaxis": "y"
        },
        {
         "alignmentgroup": "True",
         "hovertemplate": "Département=%{y}<br>Surface médiane en m²=%{x}<extra></extra>",
         "legendgroup": "Manche (50)",
         "marker": {
          "color": "#636efa",
          "pattern": {
           "shape": ""
          }
         },
         "name": "Manche (50)",
         "offsetgroup": "Manche (50)",
         "orientation": "h",
         "showlegend": true,
         "textposition": "auto",
         "type": "bar",
         "x": [
          309
         ],
         "xaxis": "x",
         "y": [
          "Manche (50)"
         ],
         "yaxis": "y"
        },
        {
         "alignmentgroup": "True",
         "hovertemplate": "Département=%{y}<br>Surface médiane en m²=%{x}<extra></extra>",
         "legendgroup": "Marne (51)",
         "marker": {
          "color": "#EF553B",
          "pattern": {
           "shape": ""
          }
         },
         "name": "Marne (51)",
         "offsetgroup": "Marne (51)",
         "orientation": "h",
         "showlegend": true,
         "textposition": "auto",
         "type": "bar",
         "x": [
          104
         ],
         "xaxis": "x",
         "y": [
          "Marne (51)"
         ],
         "yaxis": "y"
        },
        {
         "alignmentgroup": "True",
         "hovertemplate": "Département=%{y}<br>Surface médiane en m²=%{x}<extra></extra>",
         "legendgroup": "Haute-Marne (52)",
         "marker": {
          "color": "#00cc96",
          "pattern": {
           "shape": ""
          }
         },
         "name": "Haute-Marne (52)",
         "offsetgroup": "Haute-Marne (52)",
         "orientation": "h",
         "showlegend": true,
         "textposition": "auto",
         "type": "bar",
         "x": [
          367
         ],
         "xaxis": "x",
         "y": [
          "Haute-Marne (52)"
         ],
         "yaxis": "y"
        },
        {
         "alignmentgroup": "True",
         "hovertemplate": "Département=%{y}<br>Surface médiane en m²=%{x}<extra></extra>",
         "legendgroup": "Mayenne (53)",
         "marker": {
          "color": "#ab63fa",
          "pattern": {
           "shape": ""
          }
         },
         "name": "Mayenne (53)",
         "offsetgroup": "Mayenne (53)",
         "orientation": "h",
         "showlegend": true,
         "textposition": "auto",
         "type": "bar",
         "x": [
          309
         ],
         "xaxis": "x",
         "y": [
          "Mayenne (53)"
         ],
         "yaxis": "y"
        },
        {
         "alignmentgroup": "True",
         "hovertemplate": "Département=%{y}<br>Surface médiane en m²=%{x}<extra></extra>",
         "legendgroup": "Meurthe-et-Moselle (54)",
         "marker": {
          "color": "#FFA15A",
          "pattern": {
           "shape": ""
          }
         },
         "name": "Meurthe-et-Moselle (54)",
         "offsetgroup": "Meurthe-et-Moselle (54)",
         "orientation": "h",
         "showlegend": true,
         "textposition": "auto",
         "type": "bar",
         "x": [
          100
         ],
         "xaxis": "x",
         "y": [
          "Meurthe-et-Moselle (54)"
         ],
         "yaxis": "y"
        },
        {
         "alignmentgroup": "True",
         "hovertemplate": "Département=%{y}<br>Surface médiane en m²=%{x}<extra></extra>",
         "legendgroup": "Meuse (55)",
         "marker": {
          "color": "#19d3f3",
          "pattern": {
           "shape": ""
          }
         },
         "name": "Meuse (55)",
         "offsetgroup": "Meuse (55)",
         "orientation": "h",
         "showlegend": true,
         "textposition": "auto",
         "type": "bar",
         "x": [
          330
         ],
         "xaxis": "x",
         "y": [
          "Meuse (55)"
         ],
         "yaxis": "y"
        },
        {
         "alignmentgroup": "True",
         "hovertemplate": "Département=%{y}<br>Surface médiane en m²=%{x}<extra></extra>",
         "legendgroup": "Morbihan (56)",
         "marker": {
          "color": "#FF6692",
          "pattern": {
           "shape": ""
          }
         },
         "name": "Morbihan (56)",
         "offsetgroup": "Morbihan (56)",
         "orientation": "h",
         "showlegend": true,
         "textposition": "auto",
         "type": "bar",
         "x": [
          125
         ],
         "xaxis": "x",
         "y": [
          "Morbihan (56)"
         ],
         "yaxis": "y"
        },
        {
         "alignmentgroup": "True",
         "hovertemplate": "Département=%{y}<br>Surface médiane en m²=%{x}<extra></extra>",
         "legendgroup": "Nièvre (58)",
         "marker": {
          "color": "#B6E880",
          "pattern": {
           "shape": ""
          }
         },
         "name": "Nièvre (58)",
         "offsetgroup": "Nièvre (58)",
         "orientation": "h",
         "showlegend": true,
         "textposition": "auto",
         "type": "bar",
         "x": [
          318
         ],
         "xaxis": "x",
         "y": [
          "Nièvre (58)"
         ],
         "yaxis": "y"
        },
        {
         "alignmentgroup": "True",
         "hovertemplate": "Département=%{y}<br>Surface médiane en m²=%{x}<extra></extra>",
         "legendgroup": "Nord (59)",
         "marker": {
          "color": "#FF97FF",
          "pattern": {
           "shape": ""
          }
         },
         "name": "Nord (59)",
         "offsetgroup": "Nord (59)",
         "orientation": "h",
         "showlegend": true,
         "textposition": "auto",
         "type": "bar",
         "x": [
          86
         ],
         "xaxis": "x",
         "y": [
          "Nord (59)"
         ],
         "yaxis": "y"
        },
        {
         "alignmentgroup": "True",
         "hovertemplate": "Département=%{y}<br>Surface médiane en m²=%{x}<extra></extra>",
         "legendgroup": "Oise (60)",
         "marker": {
          "color": "#FECB52",
          "pattern": {
           "shape": ""
          }
         },
         "name": "Oise (60)",
         "offsetgroup": "Oise (60)",
         "orientation": "h",
         "showlegend": true,
         "textposition": "auto",
         "type": "bar",
         "x": [
          128
         ],
         "xaxis": "x",
         "y": [
          "Oise (60)"
         ],
         "yaxis": "y"
        },
        {
         "alignmentgroup": "True",
         "hovertemplate": "Département=%{y}<br>Surface médiane en m²=%{x}<extra></extra>",
         "legendgroup": "Orne (61)",
         "marker": {
          "color": "#636efa",
          "pattern": {
           "shape": ""
          }
         },
         "name": "Orne (61)",
         "offsetgroup": "Orne (61)",
         "orientation": "h",
         "showlegend": true,
         "textposition": "auto",
         "type": "bar",
         "x": [
          270
         ],
         "xaxis": "x",
         "y": [
          "Orne (61)"
         ],
         "yaxis": "y"
        },
        {
         "alignmentgroup": "True",
         "hovertemplate": "Département=%{y}<br>Surface médiane en m²=%{x}<extra></extra>",
         "legendgroup": "Pas-de-Calais (62)",
         "marker": {
          "color": "#EF553B",
          "pattern": {
           "shape": ""
          }
         },
         "name": "Pas-de-Calais (62)",
         "offsetgroup": "Pas-de-Calais (62)",
         "orientation": "h",
         "showlegend": true,
         "textposition": "auto",
         "type": "bar",
         "x": [
          116
         ],
         "xaxis": "x",
         "y": [
          "Pas-de-Calais (62)"
         ],
         "yaxis": "y"
        },
        {
         "alignmentgroup": "True",
         "hovertemplate": "Département=%{y}<br>Surface médiane en m²=%{x}<extra></extra>",
         "legendgroup": "Puy-de-Dôme (63)",
         "marker": {
          "color": "#00cc96",
          "pattern": {
           "shape": ""
          }
         },
         "name": "Puy-de-Dôme (63)",
         "offsetgroup": "Puy-de-Dôme (63)",
         "orientation": "h",
         "showlegend": true,
         "textposition": "auto",
         "type": "bar",
         "x": [
          110
         ],
         "xaxis": "x",
         "y": [
          "Puy-de-Dôme (63)"
         ],
         "yaxis": "y"
        },
        {
         "alignmentgroup": "True",
         "hovertemplate": "Département=%{y}<br>Surface médiane en m²=%{x}<extra></extra>",
         "legendgroup": "Pyrénées-Atlantiques (64)",
         "marker": {
          "color": "#ab63fa",
          "pattern": {
           "shape": ""
          }
         },
         "name": "Pyrénées-Atlantiques (64)",
         "offsetgroup": "Pyrénées-Atlantiques (64)",
         "orientation": "h",
         "showlegend": true,
         "textposition": "auto",
         "type": "bar",
         "x": [
          81
         ],
         "xaxis": "x",
         "y": [
          "Pyrénées-Atlantiques (64)"
         ],
         "yaxis": "y"
        },
        {
         "alignmentgroup": "True",
         "hovertemplate": "Département=%{y}<br>Surface médiane en m²=%{x}<extra></extra>",
         "legendgroup": "Hautes-Pyrénées (65)",
         "marker": {
          "color": "#FFA15A",
          "pattern": {
           "shape": ""
          }
         },
         "name": "Hautes-Pyrénées (65)",
         "offsetgroup": "Hautes-Pyrénées (65)",
         "orientation": "h",
         "showlegend": true,
         "textposition": "auto",
         "type": "bar",
         "x": [
          150
         ],
         "xaxis": "x",
         "y": [
          "Hautes-Pyrénées (65)"
         ],
         "yaxis": "y"
        },
        {
         "alignmentgroup": "True",
         "hovertemplate": "Département=%{y}<br>Surface médiane en m²=%{x}<extra></extra>",
         "legendgroup": "Pyrénées-Orientales (66)",
         "marker": {
          "color": "#19d3f3",
          "pattern": {
           "shape": ""
          }
         },
         "name": "Pyrénées-Orientales (66)",
         "offsetgroup": "Pyrénées-Orientales (66)",
         "orientation": "h",
         "showlegend": true,
         "textposition": "auto",
         "type": "bar",
         "x": [
          82
         ],
         "xaxis": "x",
         "y": [
          "Pyrénées-Orientales (66)"
         ],
         "yaxis": "y"
        },
        {
         "alignmentgroup": "True",
         "hovertemplate": "Département=%{y}<br>Surface médiane en m²=%{x}<extra></extra>",
         "legendgroup": "Rhône (69)",
         "marker": {
          "color": "#FF6692",
          "pattern": {
           "shape": ""
          }
         },
         "name": "Rhône (69)",
         "offsetgroup": "Rhône (69)",
         "orientation": "h",
         "showlegend": true,
         "textposition": "auto",
         "type": "bar",
         "x": [
          61
         ],
         "xaxis": "x",
         "y": [
          "Rhône (69)"
         ],
         "yaxis": "y"
        },
        {
         "alignmentgroup": "True",
         "hovertemplate": "Département=%{y}<br>Surface médiane en m²=%{x}<extra></extra>",
         "legendgroup": "Haute-Saône (70)",
         "marker": {
          "color": "#B6E880",
          "pattern": {
           "shape": ""
          }
         },
         "name": "Haute-Saône (70)",
         "offsetgroup": "Haute-Saône (70)",
         "orientation": "h",
         "showlegend": true,
         "textposition": "auto",
         "type": "bar",
         "x": [
          455
         ],
         "xaxis": "x",
         "y": [
          "Haute-Saône (70)"
         ],
         "yaxis": "y"
        },
        {
         "alignmentgroup": "True",
         "hovertemplate": "Département=%{y}<br>Surface médiane en m²=%{x}<extra></extra>",
         "legendgroup": "Saône-et-Loire (71)",
         "marker": {
          "color": "#FF97FF",
          "pattern": {
           "shape": ""
          }
         },
         "name": "Saône-et-Loire (71)",
         "offsetgroup": "Saône-et-Loire (71)",
         "orientation": "h",
         "showlegend": true,
         "textposition": "auto",
         "type": "bar",
         "x": [
          259
         ],
         "xaxis": "x",
         "y": [
          "Saône-et-Loire (71)"
         ],
         "yaxis": "y"
        },
        {
         "alignmentgroup": "True",
         "hovertemplate": "Département=%{y}<br>Surface médiane en m²=%{x}<extra></extra>",
         "legendgroup": "Sarthe (72)",
         "marker": {
          "color": "#FECB52",
          "pattern": {
           "shape": ""
          }
         },
         "name": "Sarthe (72)",
         "offsetgroup": "Sarthe (72)",
         "orientation": "h",
         "showlegend": true,
         "textposition": "auto",
         "type": "bar",
         "x": [
          190
         ],
         "xaxis": "x",
         "y": [
          "Sarthe (72)"
         ],
         "yaxis": "y"
        },
        {
         "alignmentgroup": "True",
         "hovertemplate": "Département=%{y}<br>Surface médiane en m²=%{x}<extra></extra>",
         "legendgroup": "Savoie (73)",
         "marker": {
          "color": "#636efa",
          "pattern": {
           "shape": ""
          }
         },
         "name": "Savoie (73)",
         "offsetgroup": "Savoie (73)",
         "orientation": "h",
         "showlegend": true,
         "textposition": "auto",
         "type": "bar",
         "x": [
          65.135
         ],
         "xaxis": "x",
         "y": [
          "Savoie (73)"
         ],
         "yaxis": "y"
        },
        {
         "alignmentgroup": "True",
         "hovertemplate": "Département=%{y}<br>Surface médiane en m²=%{x}<extra></extra>",
         "legendgroup": "Haute-Savoie (74)",
         "marker": {
          "color": "#EF553B",
          "pattern": {
           "shape": ""
          }
         },
         "name": "Haute-Savoie (74)",
         "offsetgroup": "Haute-Savoie (74)",
         "orientation": "h",
         "showlegend": true,
         "textposition": "auto",
         "type": "bar",
         "x": [
          48
         ],
         "xaxis": "x",
         "y": [
          "Haute-Savoie (74)"
         ],
         "yaxis": "y"
        },
        {
         "alignmentgroup": "True",
         "hovertemplate": "Département=%{y}<br>Surface médiane en m²=%{x}<extra></extra>",
         "legendgroup": "Paris (75)",
         "marker": {
          "color": "#00cc96",
          "pattern": {
           "shape": ""
          }
         },
         "name": "Paris (75)",
         "offsetgroup": "Paris (75)",
         "orientation": "h",
         "showlegend": true,
         "textposition": "auto",
         "type": "bar",
         "x": [
          36.12
         ],
         "xaxis": "x",
         "y": [
          "Paris (75)"
         ],
         "yaxis": "y"
        },
        {
         "alignmentgroup": "True",
         "hovertemplate": "Département=%{y}<br>Surface médiane en m²=%{x}<extra></extra>",
         "legendgroup": "Seine-Maritime (76)",
         "marker": {
          "color": "#ab63fa",
          "pattern": {
           "shape": ""
          }
         },
         "name": "Seine-Maritime (76)",
         "offsetgroup": "Seine-Maritime (76)",
         "orientation": "h",
         "showlegend": true,
         "textposition": "auto",
         "type": "bar",
         "x": [
          80
         ],
         "xaxis": "x",
         "y": [
          "Seine-Maritime (76)"
         ],
         "yaxis": "y"
        },
        {
         "alignmentgroup": "True",
         "hovertemplate": "Département=%{y}<br>Surface médiane en m²=%{x}<extra></extra>",
         "legendgroup": "Seine-et-Marne (77)",
         "marker": {
          "color": "#FFA15A",
          "pattern": {
           "shape": ""
          }
         },
         "name": "Seine-et-Marne (77)",
         "offsetgroup": "Seine-et-Marne (77)",
         "orientation": "h",
         "showlegend": true,
         "textposition": "auto",
         "type": "bar",
         "x": [
          76.34
         ],
         "xaxis": "x",
         "y": [
          "Seine-et-Marne (77)"
         ],
         "yaxis": "y"
        },
        {
         "alignmentgroup": "True",
         "hovertemplate": "Département=%{y}<br>Surface médiane en m²=%{x}<extra></extra>",
         "legendgroup": "Yvelines (78)",
         "marker": {
          "color": "#19d3f3",
          "pattern": {
           "shape": ""
          }
         },
         "name": "Yvelines (78)",
         "offsetgroup": "Yvelines (78)",
         "orientation": "h",
         "showlegend": true,
         "textposition": "auto",
         "type": "bar",
         "x": [
          64
         ],
         "xaxis": "x",
         "y": [
          "Yvelines (78)"
         ],
         "yaxis": "y"
        },
        {
         "alignmentgroup": "True",
         "hovertemplate": "Département=%{y}<br>Surface médiane en m²=%{x}<extra></extra>",
         "legendgroup": "Deux-Sèvres (79)",
         "marker": {
          "color": "#FF6692",
          "pattern": {
           "shape": ""
          }
         },
         "name": "Deux-Sèvres (79)",
         "offsetgroup": "Deux-Sèvres (79)",
         "orientation": "h",
         "showlegend": true,
         "textposition": "auto",
         "type": "bar",
         "x": [
          425
         ],
         "xaxis": "x",
         "y": [
          "Deux-Sèvres (79)"
         ],
         "yaxis": "y"
        },
        {
         "alignmentgroup": "True",
         "hovertemplate": "Département=%{y}<br>Surface médiane en m²=%{x}<extra></extra>",
         "legendgroup": "Somme (80)",
         "marker": {
          "color": "#B6E880",
          "pattern": {
           "shape": ""
          }
         },
         "name": "Somme (80)",
         "offsetgroup": "Somme (80)",
         "orientation": "h",
         "showlegend": true,
         "textposition": "auto",
         "type": "bar",
         "x": [
          122
         ],
         "xaxis": "x",
         "y": [
          "Somme (80)"
         ],
         "yaxis": "y"
        },
        {
         "alignmentgroup": "True",
         "hovertemplate": "Département=%{y}<br>Surface médiane en m²=%{x}<extra></extra>",
         "legendgroup": "Tarn (81)",
         "marker": {
          "color": "#FF97FF",
          "pattern": {
           "shape": ""
          }
         },
         "name": "Tarn (81)",
         "offsetgroup": "Tarn (81)",
         "orientation": "h",
         "showlegend": true,
         "textposition": "auto",
         "type": "bar",
         "x": [
          280
         ],
         "xaxis": "x",
         "y": [
          "Tarn (81)"
         ],
         "yaxis": "y"
        },
        {
         "alignmentgroup": "True",
         "hovertemplate": "Département=%{y}<br>Surface médiane en m²=%{x}<extra></extra>",
         "legendgroup": "Tarn-et-Garonne (82)",
         "marker": {
          "color": "#FECB52",
          "pattern": {
           "shape": ""
          }
         },
         "name": "Tarn-et-Garonne (82)",
         "offsetgroup": "Tarn-et-Garonne (82)",
         "orientation": "h",
         "showlegend": true,
         "textposition": "auto",
         "type": "bar",
         "x": [
          418
         ],
         "xaxis": "x",
         "y": [
          "Tarn-et-Garonne (82)"
         ],
         "yaxis": "y"
        },
        {
         "alignmentgroup": "True",
         "hovertemplate": "Département=%{y}<br>Surface médiane en m²=%{x}<extra></extra>",
         "legendgroup": "Var (83)",
         "marker": {
          "color": "#636efa",
          "pattern": {
           "shape": ""
          }
         },
         "name": "Var (83)",
         "offsetgroup": "Var (83)",
         "orientation": "h",
         "showlegend": true,
         "textposition": "auto",
         "type": "bar",
         "x": [
          60
         ],
         "xaxis": "x",
         "y": [
          "Var (83)"
         ],
         "yaxis": "y"
        },
        {
         "alignmentgroup": "True",
         "hovertemplate": "Département=%{y}<br>Surface médiane en m²=%{x}<extra></extra>",
         "legendgroup": "Vaucluse (84)",
         "marker": {
          "color": "#EF553B",
          "pattern": {
           "shape": ""
          }
         },
         "name": "Vaucluse (84)",
         "offsetgroup": "Vaucluse (84)",
         "orientation": "h",
         "showlegend": true,
         "textposition": "auto",
         "type": "bar",
         "x": [
          110
         ],
         "xaxis": "x",
         "y": [
          "Vaucluse (84)"
         ],
         "yaxis": "y"
        },
        {
         "alignmentgroup": "True",
         "hovertemplate": "Département=%{y}<br>Surface médiane en m²=%{x}<extra></extra>",
         "legendgroup": "Vendée (85)",
         "marker": {
          "color": "#00cc96",
          "pattern": {
           "shape": ""
          }
         },
         "name": "Vendée (85)",
         "offsetgroup": "Vendée (85)",
         "orientation": "h",
         "showlegend": true,
         "textposition": "auto",
         "type": "bar",
         "x": [
          161
         ],
         "xaxis": "x",
         "y": [
          "Vendée (85)"
         ],
         "yaxis": "y"
        },
        {
         "alignmentgroup": "True",
         "hovertemplate": "Département=%{y}<br>Surface médiane en m²=%{x}<extra></extra>",
         "legendgroup": "Vienne (86)",
         "marker": {
          "color": "#ab63fa",
          "pattern": {
           "shape": ""
          }
         },
         "name": "Vienne (86)",
         "offsetgroup": "Vienne (86)",
         "orientation": "h",
         "showlegend": true,
         "textposition": "auto",
         "type": "bar",
         "x": [
          351
         ],
         "xaxis": "x",
         "y": [
          "Vienne (86)"
         ],
         "yaxis": "y"
        },
        {
         "alignmentgroup": "True",
         "hovertemplate": "Département=%{y}<br>Surface médiane en m²=%{x}<extra></extra>",
         "legendgroup": "Haute-Vienne (87)",
         "marker": {
          "color": "#FFA15A",
          "pattern": {
           "shape": ""
          }
         },
         "name": "Haute-Vienne (87)",
         "offsetgroup": "Haute-Vienne (87)",
         "orientation": "h",
         "showlegend": true,
         "textposition": "auto",
         "type": "bar",
         "x": [
          402
         ],
         "xaxis": "x",
         "y": [
          "Haute-Vienne (87)"
         ],
         "yaxis": "y"
        },
        {
         "alignmentgroup": "True",
         "hovertemplate": "Département=%{y}<br>Surface médiane en m²=%{x}<extra></extra>",
         "legendgroup": "Vosges (88)",
         "marker": {
          "color": "#19d3f3",
          "pattern": {
           "shape": ""
          }
         },
         "name": "Vosges (88)",
         "offsetgroup": "Vosges (88)",
         "orientation": "h",
         "showlegend": true,
         "textposition": "auto",
         "type": "bar",
         "x": [
          271.74
         ],
         "xaxis": "x",
         "y": [
          "Vosges (88)"
         ],
         "yaxis": "y"
        },
        {
         "alignmentgroup": "True",
         "hovertemplate": "Département=%{y}<br>Surface médiane en m²=%{x}<extra></extra>",
         "legendgroup": "Yonne (89)",
         "marker": {
          "color": "#FF6692",
          "pattern": {
           "shape": ""
          }
         },
         "name": "Yonne (89)",
         "offsetgroup": "Yonne (89)",
         "orientation": "h",
         "showlegend": true,
         "textposition": "auto",
         "type": "bar",
         "x": [
          346
         ],
         "xaxis": "x",
         "y": [
          "Yonne (89)"
         ],
         "yaxis": "y"
        },
        {
         "alignmentgroup": "True",
         "hovertemplate": "Département=%{y}<br>Surface médiane en m²=%{x}<extra></extra>",
         "legendgroup": "Territoire de Belfort (90)",
         "marker": {
          "color": "#B6E880",
          "pattern": {
           "shape": ""
          }
         },
         "name": "Territoire de Belfort (90)",
         "offsetgroup": "Territoire de Belfort (90)",
         "orientation": "h",
         "showlegend": true,
         "textposition": "auto",
         "type": "bar",
         "x": [
          86.07
         ],
         "xaxis": "x",
         "y": [
          "Territoire de Belfort (90)"
         ],
         "yaxis": "y"
        },
        {
         "alignmentgroup": "True",
         "hovertemplate": "Département=%{y}<br>Surface médiane en m²=%{x}<extra></extra>",
         "legendgroup": "Essonne (91)",
         "marker": {
          "color": "#FF97FF",
          "pattern": {
           "shape": ""
          }
         },
         "name": "Essonne (91)",
         "offsetgroup": "Essonne (91)",
         "orientation": "h",
         "showlegend": true,
         "textposition": "auto",
         "type": "bar",
         "x": [
          63.09
         ],
         "xaxis": "x",
         "y": [
          "Essonne (91)"
         ],
         "yaxis": "y"
        },
        {
         "alignmentgroup": "True",
         "hovertemplate": "Département=%{y}<br>Surface médiane en m²=%{x}<extra></extra>",
         "legendgroup": "Hauts-de-Seine (92)",
         "marker": {
          "color": "#FECB52",
          "pattern": {
           "shape": ""
          }
         },
         "name": "Hauts-de-Seine (92)",
         "offsetgroup": "Hauts-de-Seine (92)",
         "orientation": "h",
         "showlegend": true,
         "textposition": "auto",
         "type": "bar",
         "x": [
          36.31
         ],
         "xaxis": "x",
         "y": [
          "Hauts-de-Seine (92)"
         ],
         "yaxis": "y"
        },
        {
         "alignmentgroup": "True",
         "hovertemplate": "Département=%{y}<br>Surface médiane en m²=%{x}<extra></extra>",
         "legendgroup": "Seine-Saint-Denis (93)",
         "marker": {
          "color": "#636efa",
          "pattern": {
           "shape": ""
          }
         },
         "name": "Seine-Saint-Denis (93)",
         "offsetgroup": "Seine-Saint-Denis (93)",
         "orientation": "h",
         "showlegend": true,
         "textposition": "auto",
         "type": "bar",
         "x": [
          38
         ],
         "xaxis": "x",
         "y": [
          "Seine-Saint-Denis (93)"
         ],
         "yaxis": "y"
        },
        {
         "alignmentgroup": "True",
         "hovertemplate": "Département=%{y}<br>Surface médiane en m²=%{x}<extra></extra>",
         "legendgroup": "Val-de-Marne (94)",
         "marker": {
          "color": "#EF553B",
          "pattern": {
           "shape": ""
          }
         },
         "name": "Val-de-Marne (94)",
         "offsetgroup": "Val-de-Marne (94)",
         "orientation": "h",
         "showlegend": true,
         "textposition": "auto",
         "type": "bar",
         "x": [
          40.5
         ],
         "xaxis": "x",
         "y": [
          "Val-de-Marne (94)"
         ],
         "yaxis": "y"
        },
        {
         "alignmentgroup": "True",
         "hovertemplate": "Département=%{y}<br>Surface médiane en m²=%{x}<extra></extra>",
         "legendgroup": "Val-d'Oise (95)",
         "marker": {
          "color": "#00cc96",
          "pattern": {
           "shape": ""
          }
         },
         "name": "Val-d'Oise (95)",
         "offsetgroup": "Val-d'Oise (95)",
         "orientation": "h",
         "showlegend": true,
         "textposition": "auto",
         "type": "bar",
         "x": [
          58.02
         ],
         "xaxis": "x",
         "y": [
          "Val-d'Oise (95)"
         ],
         "yaxis": "y"
        },
        {
         "alignmentgroup": "True",
         "hovertemplate": "Département=%{y}<br>Surface médiane en m²=%{x}<extra></extra>",
         "legendgroup": "Guadeloupe (971)",
         "marker": {
          "color": "#ab63fa",
          "pattern": {
           "shape": ""
          }
         },
         "name": "Guadeloupe (971)",
         "offsetgroup": "Guadeloupe (971)",
         "orientation": "h",
         "showlegend": true,
         "textposition": "auto",
         "type": "bar",
         "x": [
          77.1
         ],
         "xaxis": "x",
         "y": [
          "Guadeloupe (971)"
         ],
         "yaxis": "y"
        },
        {
         "alignmentgroup": "True",
         "hovertemplate": "Département=%{y}<br>Surface médiane en m²=%{x}<extra></extra>",
         "legendgroup": "Martinique (972)",
         "marker": {
          "color": "#FFA15A",
          "pattern": {
           "shape": ""
          }
         },
         "name": "Martinique (972)",
         "offsetgroup": "Martinique (972)",
         "orientation": "h",
         "showlegend": true,
         "textposition": "auto",
         "type": "bar",
         "x": [
          66
         ],
         "xaxis": "x",
         "y": [
          "Martinique (972)"
         ],
         "yaxis": "y"
        },
        {
         "alignmentgroup": "True",
         "hovertemplate": "Département=%{y}<br>Surface médiane en m²=%{x}<extra></extra>",
         "legendgroup": "Guyane (973)",
         "marker": {
          "color": "#19d3f3",
          "pattern": {
           "shape": ""
          }
         },
         "name": "Guyane (973)",
         "offsetgroup": "Guyane (973)",
         "orientation": "h",
         "showlegend": true,
         "textposition": "auto",
         "type": "bar",
         "x": [
          81
         ],
         "xaxis": "x",
         "y": [
          "Guyane (973)"
         ],
         "yaxis": "y"
        },
        {
         "alignmentgroup": "True",
         "hovertemplate": "Département=%{y}<br>Surface médiane en m²=%{x}<extra></extra>",
         "legendgroup": "La Réunion (974)",
         "marker": {
          "color": "#FF6692",
          "pattern": {
           "shape": ""
          }
         },
         "name": "La Réunion (974)",
         "offsetgroup": "La Réunion (974)",
         "orientation": "h",
         "showlegend": true,
         "textposition": "auto",
         "type": "bar",
         "x": [
          70
         ],
         "xaxis": "x",
         "y": [
          "La Réunion (974)"
         ],
         "yaxis": "y"
        }
       ],
       "layout": {
        "barmode": "relative",
        "legend": {
         "title": {
          "text": "Département"
         },
         "tracegroupgap": 0
        },
        "template": {
         "data": {
          "bar": [
           {
            "error_x": {
             "color": "#2a3f5f"
            },
            "error_y": {
             "color": "#2a3f5f"
            },
            "marker": {
             "line": {
              "color": "#E5ECF6",
              "width": 0.5
             },
             "pattern": {
              "fillmode": "overlay",
              "size": 10,
              "solidity": 0.2
             }
            },
            "type": "bar"
           }
          ],
          "barpolar": [
           {
            "marker": {
             "line": {
              "color": "#E5ECF6",
              "width": 0.5
             },
             "pattern": {
              "fillmode": "overlay",
              "size": 10,
              "solidity": 0.2
             }
            },
            "type": "barpolar"
           }
          ],
          "carpet": [
           {
            "aaxis": {
             "endlinecolor": "#2a3f5f",
             "gridcolor": "white",
             "linecolor": "white",
             "minorgridcolor": "white",
             "startlinecolor": "#2a3f5f"
            },
            "baxis": {
             "endlinecolor": "#2a3f5f",
             "gridcolor": "white",
             "linecolor": "white",
             "minorgridcolor": "white",
             "startlinecolor": "#2a3f5f"
            },
            "type": "carpet"
           }
          ],
          "choropleth": [
           {
            "colorbar": {
             "outlinewidth": 0,
             "ticks": ""
            },
            "type": "choropleth"
           }
          ],
          "contour": [
           {
            "colorbar": {
             "outlinewidth": 0,
             "ticks": ""
            },
            "colorscale": [
             [
              0,
              "#0d0887"
             ],
             [
              0.1111111111111111,
              "#46039f"
             ],
             [
              0.2222222222222222,
              "#7201a8"
             ],
             [
              0.3333333333333333,
              "#9c179e"
             ],
             [
              0.4444444444444444,
              "#bd3786"
             ],
             [
              0.5555555555555556,
              "#d8576b"
             ],
             [
              0.6666666666666666,
              "#ed7953"
             ],
             [
              0.7777777777777778,
              "#fb9f3a"
             ],
             [
              0.8888888888888888,
              "#fdca26"
             ],
             [
              1,
              "#f0f921"
             ]
            ],
            "type": "contour"
           }
          ],
          "contourcarpet": [
           {
            "colorbar": {
             "outlinewidth": 0,
             "ticks": ""
            },
            "type": "contourcarpet"
           }
          ],
          "heatmap": [
           {
            "colorbar": {
             "outlinewidth": 0,
             "ticks": ""
            },
            "colorscale": [
             [
              0,
              "#0d0887"
             ],
             [
              0.1111111111111111,
              "#46039f"
             ],
             [
              0.2222222222222222,
              "#7201a8"
             ],
             [
              0.3333333333333333,
              "#9c179e"
             ],
             [
              0.4444444444444444,
              "#bd3786"
             ],
             [
              0.5555555555555556,
              "#d8576b"
             ],
             [
              0.6666666666666666,
              "#ed7953"
             ],
             [
              0.7777777777777778,
              "#fb9f3a"
             ],
             [
              0.8888888888888888,
              "#fdca26"
             ],
             [
              1,
              "#f0f921"
             ]
            ],
            "type": "heatmap"
           }
          ],
          "heatmapgl": [
           {
            "colorbar": {
             "outlinewidth": 0,
             "ticks": ""
            },
            "colorscale": [
             [
              0,
              "#0d0887"
             ],
             [
              0.1111111111111111,
              "#46039f"
             ],
             [
              0.2222222222222222,
              "#7201a8"
             ],
             [
              0.3333333333333333,
              "#9c179e"
             ],
             [
              0.4444444444444444,
              "#bd3786"
             ],
             [
              0.5555555555555556,
              "#d8576b"
             ],
             [
              0.6666666666666666,
              "#ed7953"
             ],
             [
              0.7777777777777778,
              "#fb9f3a"
             ],
             [
              0.8888888888888888,
              "#fdca26"
             ],
             [
              1,
              "#f0f921"
             ]
            ],
            "type": "heatmapgl"
           }
          ],
          "histogram": [
           {
            "marker": {
             "pattern": {
              "fillmode": "overlay",
              "size": 10,
              "solidity": 0.2
             }
            },
            "type": "histogram"
           }
          ],
          "histogram2d": [
           {
            "colorbar": {
             "outlinewidth": 0,
             "ticks": ""
            },
            "colorscale": [
             [
              0,
              "#0d0887"
             ],
             [
              0.1111111111111111,
              "#46039f"
             ],
             [
              0.2222222222222222,
              "#7201a8"
             ],
             [
              0.3333333333333333,
              "#9c179e"
             ],
             [
              0.4444444444444444,
              "#bd3786"
             ],
             [
              0.5555555555555556,
              "#d8576b"
             ],
             [
              0.6666666666666666,
              "#ed7953"
             ],
             [
              0.7777777777777778,
              "#fb9f3a"
             ],
             [
              0.8888888888888888,
              "#fdca26"
             ],
             [
              1,
              "#f0f921"
             ]
            ],
            "type": "histogram2d"
           }
          ],
          "histogram2dcontour": [
           {
            "colorbar": {
             "outlinewidth": 0,
             "ticks": ""
            },
            "colorscale": [
             [
              0,
              "#0d0887"
             ],
             [
              0.1111111111111111,
              "#46039f"
             ],
             [
              0.2222222222222222,
              "#7201a8"
             ],
             [
              0.3333333333333333,
              "#9c179e"
             ],
             [
              0.4444444444444444,
              "#bd3786"
             ],
             [
              0.5555555555555556,
              "#d8576b"
             ],
             [
              0.6666666666666666,
              "#ed7953"
             ],
             [
              0.7777777777777778,
              "#fb9f3a"
             ],
             [
              0.8888888888888888,
              "#fdca26"
             ],
             [
              1,
              "#f0f921"
             ]
            ],
            "type": "histogram2dcontour"
           }
          ],
          "mesh3d": [
           {
            "colorbar": {
             "outlinewidth": 0,
             "ticks": ""
            },
            "type": "mesh3d"
           }
          ],
          "parcoords": [
           {
            "line": {
             "colorbar": {
              "outlinewidth": 0,
              "ticks": ""
             }
            },
            "type": "parcoords"
           }
          ],
          "pie": [
           {
            "automargin": true,
            "type": "pie"
           }
          ],
          "scatter": [
           {
            "fillpattern": {
             "fillmode": "overlay",
             "size": 10,
             "solidity": 0.2
            },
            "type": "scatter"
           }
          ],
          "scatter3d": [
           {
            "line": {
             "colorbar": {
              "outlinewidth": 0,
              "ticks": ""
             }
            },
            "marker": {
             "colorbar": {
              "outlinewidth": 0,
              "ticks": ""
             }
            },
            "type": "scatter3d"
           }
          ],
          "scattercarpet": [
           {
            "marker": {
             "colorbar": {
              "outlinewidth": 0,
              "ticks": ""
             }
            },
            "type": "scattercarpet"
           }
          ],
          "scattergeo": [
           {
            "marker": {
             "colorbar": {
              "outlinewidth": 0,
              "ticks": ""
             }
            },
            "type": "scattergeo"
           }
          ],
          "scattergl": [
           {
            "marker": {
             "colorbar": {
              "outlinewidth": 0,
              "ticks": ""
             }
            },
            "type": "scattergl"
           }
          ],
          "scattermapbox": [
           {
            "marker": {
             "colorbar": {
              "outlinewidth": 0,
              "ticks": ""
             }
            },
            "type": "scattermapbox"
           }
          ],
          "scatterpolar": [
           {
            "marker": {
             "colorbar": {
              "outlinewidth": 0,
              "ticks": ""
             }
            },
            "type": "scatterpolar"
           }
          ],
          "scatterpolargl": [
           {
            "marker": {
             "colorbar": {
              "outlinewidth": 0,
              "ticks": ""
             }
            },
            "type": "scatterpolargl"
           }
          ],
          "scatterternary": [
           {
            "marker": {
             "colorbar": {
              "outlinewidth": 0,
              "ticks": ""
             }
            },
            "type": "scatterternary"
           }
          ],
          "surface": [
           {
            "colorbar": {
             "outlinewidth": 0,
             "ticks": ""
            },
            "colorscale": [
             [
              0,
              "#0d0887"
             ],
             [
              0.1111111111111111,
              "#46039f"
             ],
             [
              0.2222222222222222,
              "#7201a8"
             ],
             [
              0.3333333333333333,
              "#9c179e"
             ],
             [
              0.4444444444444444,
              "#bd3786"
             ],
             [
              0.5555555555555556,
              "#d8576b"
             ],
             [
              0.6666666666666666,
              "#ed7953"
             ],
             [
              0.7777777777777778,
              "#fb9f3a"
             ],
             [
              0.8888888888888888,
              "#fdca26"
             ],
             [
              1,
              "#f0f921"
             ]
            ],
            "type": "surface"
           }
          ],
          "table": [
           {
            "cells": {
             "fill": {
              "color": "#EBF0F8"
             },
             "line": {
              "color": "white"
             }
            },
            "header": {
             "fill": {
              "color": "#C8D4E3"
             },
             "line": {
              "color": "white"
             }
            },
            "type": "table"
           }
          ]
         },
         "layout": {
          "annotationdefaults": {
           "arrowcolor": "#2a3f5f",
           "arrowhead": 0,
           "arrowwidth": 1
          },
          "autotypenumbers": "strict",
          "coloraxis": {
           "colorbar": {
            "outlinewidth": 0,
            "ticks": ""
           }
          },
          "colorscale": {
           "diverging": [
            [
             0,
             "#8e0152"
            ],
            [
             0.1,
             "#c51b7d"
            ],
            [
             0.2,
             "#de77ae"
            ],
            [
             0.3,
             "#f1b6da"
            ],
            [
             0.4,
             "#fde0ef"
            ],
            [
             0.5,
             "#f7f7f7"
            ],
            [
             0.6,
             "#e6f5d0"
            ],
            [
             0.7,
             "#b8e186"
            ],
            [
             0.8,
             "#7fbc41"
            ],
            [
             0.9,
             "#4d9221"
            ],
            [
             1,
             "#276419"
            ]
           ],
           "sequential": [
            [
             0,
             "#0d0887"
            ],
            [
             0.1111111111111111,
             "#46039f"
            ],
            [
             0.2222222222222222,
             "#7201a8"
            ],
            [
             0.3333333333333333,
             "#9c179e"
            ],
            [
             0.4444444444444444,
             "#bd3786"
            ],
            [
             0.5555555555555556,
             "#d8576b"
            ],
            [
             0.6666666666666666,
             "#ed7953"
            ],
            [
             0.7777777777777778,
             "#fb9f3a"
            ],
            [
             0.8888888888888888,
             "#fdca26"
            ],
            [
             1,
             "#f0f921"
            ]
           ],
           "sequentialminus": [
            [
             0,
             "#0d0887"
            ],
            [
             0.1111111111111111,
             "#46039f"
            ],
            [
             0.2222222222222222,
             "#7201a8"
            ],
            [
             0.3333333333333333,
             "#9c179e"
            ],
            [
             0.4444444444444444,
             "#bd3786"
            ],
            [
             0.5555555555555556,
             "#d8576b"
            ],
            [
             0.6666666666666666,
             "#ed7953"
            ],
            [
             0.7777777777777778,
             "#fb9f3a"
            ],
            [
             0.8888888888888888,
             "#fdca26"
            ],
            [
             1,
             "#f0f921"
            ]
           ]
          },
          "colorway": [
           "#636efa",
           "#EF553B",
           "#00cc96",
           "#ab63fa",
           "#FFA15A",
           "#19d3f3",
           "#FF6692",
           "#B6E880",
           "#FF97FF",
           "#FECB52"
          ],
          "font": {
           "color": "#2a3f5f"
          },
          "geo": {
           "bgcolor": "white",
           "lakecolor": "white",
           "landcolor": "#E5ECF6",
           "showlakes": true,
           "showland": true,
           "subunitcolor": "white"
          },
          "hoverlabel": {
           "align": "left"
          },
          "hovermode": "closest",
          "mapbox": {
           "style": "light"
          },
          "paper_bgcolor": "white",
          "plot_bgcolor": "#E5ECF6",
          "polar": {
           "angularaxis": {
            "gridcolor": "white",
            "linecolor": "white",
            "ticks": ""
           },
           "bgcolor": "#E5ECF6",
           "radialaxis": {
            "gridcolor": "white",
            "linecolor": "white",
            "ticks": ""
           }
          },
          "scene": {
           "xaxis": {
            "backgroundcolor": "#E5ECF6",
            "gridcolor": "white",
            "gridwidth": 2,
            "linecolor": "white",
            "showbackground": true,
            "ticks": "",
            "zerolinecolor": "white"
           },
           "yaxis": {
            "backgroundcolor": "#E5ECF6",
            "gridcolor": "white",
            "gridwidth": 2,
            "linecolor": "white",
            "showbackground": true,
            "ticks": "",
            "zerolinecolor": "white"
           },
           "zaxis": {
            "backgroundcolor": "#E5ECF6",
            "gridcolor": "white",
            "gridwidth": 2,
            "linecolor": "white",
            "showbackground": true,
            "ticks": "",
            "zerolinecolor": "white"
           }
          },
          "shapedefaults": {
           "line": {
            "color": "#2a3f5f"
           }
          },
          "ternary": {
           "aaxis": {
            "gridcolor": "white",
            "linecolor": "white",
            "ticks": ""
           },
           "baxis": {
            "gridcolor": "white",
            "linecolor": "white",
            "ticks": ""
           },
           "bgcolor": "#E5ECF6",
           "caxis": {
            "gridcolor": "white",
            "linecolor": "white",
            "ticks": ""
           }
          },
          "title": {
           "x": 0.05
          },
          "xaxis": {
           "automargin": true,
           "gridcolor": "white",
           "linecolor": "white",
           "ticks": "",
           "title": {
            "standoff": 15
           },
           "zerolinecolor": "white",
           "zerolinewidth": 2
          },
          "yaxis": {
           "automargin": true,
           "gridcolor": "white",
           "linecolor": "white",
           "ticks": "",
           "title": {
            "standoff": 15
           },
           "zerolinecolor": "white",
           "zerolinewidth": 2
          }
         }
        },
        "title": {
         "text": "Surface médiane ayant fait l'objet d'une transaction en fonction du département de vente (2022)"
        },
        "xaxis": {
         "anchor": "y",
         "domain": [
          0,
          1
         ],
         "title": {
          "text": "Surface médiane en m²"
         }
        },
        "yaxis": {
         "anchor": "x",
         "categoryarray": [
          "La Réunion (974)",
          "Guyane (973)",
          "Martinique (972)",
          "Guadeloupe (971)",
          "Val-d'Oise (95)",
          "Val-de-Marne (94)",
          "Seine-Saint-Denis (93)",
          "Hauts-de-Seine (92)",
          "Essonne (91)",
          "Territoire de Belfort (90)",
          "Yonne (89)",
          "Vosges (88)",
          "Haute-Vienne (87)",
          "Vienne (86)",
          "Vendée (85)",
          "Vaucluse (84)",
          "Var (83)",
          "Tarn-et-Garonne (82)",
          "Tarn (81)",
          "Somme (80)",
          "Deux-Sèvres (79)",
          "Yvelines (78)",
          "Seine-et-Marne (77)",
          "Seine-Maritime (76)",
          "Paris (75)",
          "Haute-Savoie (74)",
          "Savoie (73)",
          "Sarthe (72)",
          "Saône-et-Loire (71)",
          "Haute-Saône (70)",
          "Rhône (69)",
          "Pyrénées-Orientales (66)",
          "Hautes-Pyrénées (65)",
          "Pyrénées-Atlantiques (64)",
          "Puy-de-Dôme (63)",
          "Pas-de-Calais (62)",
          "Orne (61)",
          "Oise (60)",
          "Nord (59)",
          "Nièvre (58)",
          "Morbihan (56)",
          "Meuse (55)",
          "Meurthe-et-Moselle (54)",
          "Mayenne (53)",
          "Haute-Marne (52)",
          "Marne (51)",
          "Manche (50)",
          "Maine-et-Loire (49)",
          "Lozère (48)",
          "Lot-et-Garonne (47)",
          "Lot (46)",
          "Loiret (45)",
          "Loire-Atlantique (44)",
          "Haute-Loire (43)",
          "Loire (42)",
          "Loir-et-Cher (41)",
          "Landes (40)",
          "Jura (39)",
          "Isère (38)",
          "Indre-et-Loire (37)",
          "Indre (36)",
          "Ille-et-Vilaine (35)",
          "Hérault (34)",
          "Gironde (33)",
          "Gers (32)",
          "Haute-Garonne (31)",
          "Gard (30)",
          "Haute-Corse (2B)",
          "Corse-du-Sud (2A)",
          "Finistère (29)",
          "Eure-et-Loir (28)",
          "Eure (27)",
          "Drôme (26)",
          "Doubs (25)",
          "Dordogne (24)",
          "Creuse (23)",
          "Côtes-d'Armor (22)",
          "Côte-d'Or (21)",
          "Corrèze (19)",
          "Cher (18)",
          "Charente-Maritime (17)",
          "Charente (16)",
          "Cantal (15)",
          "Calvados (14)",
          "Bouches-du-Rhône (13)",
          "Aveyron (12)",
          "Aude (11)",
          "Aube (10)",
          "Ariège (09)",
          "Ardennes (08)",
          "Ardèche (07)",
          "Alpes-Maritimes (06)",
          "Hautes-Alpes (05)",
          "Alpes-de-Haute-Provence (04)",
          "Allier (03)",
          "Aisne (02)",
          "Ain (01)"
         ],
         "categoryorder": "max ascending",
         "domain": [
          0,
          1
         ],
         "title": {
          "text": "Département"
         },
         "type": "category"
        }
       }
      },
      "text/html": [
       "<div>                            <div id=\"ca9352a8-afe2-4b66-8510-420afff991bf\" class=\"plotly-graph-div\" style=\"height:525px; width:100%;\"></div>            <script type=\"text/javascript\">                require([\"plotly\"], function(Plotly) {                    window.PLOTLYENV=window.PLOTLYENV || {};                                    if (document.getElementById(\"ca9352a8-afe2-4b66-8510-420afff991bf\")) {                    Plotly.newPlot(                        \"ca9352a8-afe2-4b66-8510-420afff991bf\",                        [{\"alignmentgroup\":\"True\",\"hovertemplate\":\"D\\u00e9partement=%{y}<br>Surface m\\u00e9diane en m\\u00b2=%{x}<extra></extra>\",\"legendgroup\":\"Ain (01)\",\"marker\":{\"color\":\"#636efa\",\"pattern\":{\"shape\":\"\"}},\"name\":\"Ain (01)\",\"offsetgroup\":\"Ain (01)\",\"orientation\":\"h\",\"showlegend\":true,\"textposition\":\"auto\",\"x\":[125.0],\"xaxis\":\"x\",\"y\":[\"Ain (01)\"],\"yaxis\":\"y\",\"type\":\"bar\"},{\"alignmentgroup\":\"True\",\"hovertemplate\":\"D\\u00e9partement=%{y}<br>Surface m\\u00e9diane en m\\u00b2=%{x}<extra></extra>\",\"legendgroup\":\"Aisne (02)\",\"marker\":{\"color\":\"#EF553B\",\"pattern\":{\"shape\":\"\"}},\"name\":\"Aisne (02)\",\"offsetgroup\":\"Aisne (02)\",\"orientation\":\"h\",\"showlegend\":true,\"textposition\":\"auto\",\"x\":[242.0],\"xaxis\":\"x\",\"y\":[\"Aisne (02)\"],\"yaxis\":\"y\",\"type\":\"bar\"},{\"alignmentgroup\":\"True\",\"hovertemplate\":\"D\\u00e9partement=%{y}<br>Surface m\\u00e9diane en m\\u00b2=%{x}<extra></extra>\",\"legendgroup\":\"Allier (03)\",\"marker\":{\"color\":\"#00cc96\",\"pattern\":{\"shape\":\"\"}},\"name\":\"Allier (03)\",\"offsetgroup\":\"Allier (03)\",\"orientation\":\"h\",\"showlegend\":true,\"textposition\":\"auto\",\"x\":[218.0],\"xaxis\":\"x\",\"y\":[\"Allier (03)\"],\"yaxis\":\"y\",\"type\":\"bar\"},{\"alignmentgroup\":\"True\",\"hovertemplate\":\"D\\u00e9partement=%{y}<br>Surface m\\u00e9diane en m\\u00b2=%{x}<extra></extra>\",\"legendgroup\":\"Alpes-de-Haute-Provence (04)\",\"marker\":{\"color\":\"#ab63fa\",\"pattern\":{\"shape\":\"\"}},\"name\":\"Alpes-de-Haute-Provence (04)\",\"offsetgroup\":\"Alpes-de-Haute-Provence (04)\",\"orientation\":\"h\",\"showlegend\":true,\"textposition\":\"auto\",\"x\":[96.0],\"xaxis\":\"x\",\"y\":[\"Alpes-de-Haute-Provence (04)\"],\"yaxis\":\"y\",\"type\":\"bar\"},{\"alignmentgroup\":\"True\",\"hovertemplate\":\"D\\u00e9partement=%{y}<br>Surface m\\u00e9diane en m\\u00b2=%{x}<extra></extra>\",\"legendgroup\":\"Hautes-Alpes (05)\",\"marker\":{\"color\":\"#FFA15A\",\"pattern\":{\"shape\":\"\"}},\"name\":\"Hautes-Alpes (05)\",\"offsetgroup\":\"Hautes-Alpes (05)\",\"orientation\":\"h\",\"showlegend\":true,\"textposition\":\"auto\",\"x\":[72.0],\"xaxis\":\"x\",\"y\":[\"Hautes-Alpes (05)\"],\"yaxis\":\"y\",\"type\":\"bar\"},{\"alignmentgroup\":\"True\",\"hovertemplate\":\"D\\u00e9partement=%{y}<br>Surface m\\u00e9diane en m\\u00b2=%{x}<extra></extra>\",\"legendgroup\":\"Alpes-Maritimes (06)\",\"marker\":{\"color\":\"#19d3f3\",\"pattern\":{\"shape\":\"\"}},\"name\":\"Alpes-Maritimes (06)\",\"offsetgroup\":\"Alpes-Maritimes (06)\",\"orientation\":\"h\",\"showlegend\":true,\"textposition\":\"auto\",\"x\":[42.38],\"xaxis\":\"x\",\"y\":[\"Alpes-Maritimes (06)\"],\"yaxis\":\"y\",\"type\":\"bar\"},{\"alignmentgroup\":\"True\",\"hovertemplate\":\"D\\u00e9partement=%{y}<br>Surface m\\u00e9diane en m\\u00b2=%{x}<extra></extra>\",\"legendgroup\":\"Ard\\u00e8che (07)\",\"marker\":{\"color\":\"#FF6692\",\"pattern\":{\"shape\":\"\"}},\"name\":\"Ard\\u00e8che (07)\",\"offsetgroup\":\"Ard\\u00e8che (07)\",\"orientation\":\"h\",\"showlegend\":true,\"textposition\":\"auto\",\"x\":[350.0],\"xaxis\":\"x\",\"y\":[\"Ard\\u00e8che (07)\"],\"yaxis\":\"y\",\"type\":\"bar\"},{\"alignmentgroup\":\"True\",\"hovertemplate\":\"D\\u00e9partement=%{y}<br>Surface m\\u00e9diane en m\\u00b2=%{x}<extra></extra>\",\"legendgroup\":\"Ardennes (08)\",\"marker\":{\"color\":\"#B6E880\",\"pattern\":{\"shape\":\"\"}},\"name\":\"Ardennes (08)\",\"offsetgroup\":\"Ardennes (08)\",\"orientation\":\"h\",\"showlegend\":true,\"textposition\":\"auto\",\"x\":[195.0],\"xaxis\":\"x\",\"y\":[\"Ardennes (08)\"],\"yaxis\":\"y\",\"type\":\"bar\"},{\"alignmentgroup\":\"True\",\"hovertemplate\":\"D\\u00e9partement=%{y}<br>Surface m\\u00e9diane en m\\u00b2=%{x}<extra></extra>\",\"legendgroup\":\"Ari\\u00e8ge (09)\",\"marker\":{\"color\":\"#FF97FF\",\"pattern\":{\"shape\":\"\"}},\"name\":\"Ari\\u00e8ge (09)\",\"offsetgroup\":\"Ari\\u00e8ge (09)\",\"orientation\":\"h\",\"showlegend\":true,\"textposition\":\"auto\",\"x\":[490.0],\"xaxis\":\"x\",\"y\":[\"Ari\\u00e8ge (09)\"],\"yaxis\":\"y\",\"type\":\"bar\"},{\"alignmentgroup\":\"True\",\"hovertemplate\":\"D\\u00e9partement=%{y}<br>Surface m\\u00e9diane en m\\u00b2=%{x}<extra></extra>\",\"legendgroup\":\"Aube (10)\",\"marker\":{\"color\":\"#FECB52\",\"pattern\":{\"shape\":\"\"}},\"name\":\"Aube (10)\",\"offsetgroup\":\"Aube (10)\",\"orientation\":\"h\",\"showlegend\":true,\"textposition\":\"auto\",\"x\":[180.0],\"xaxis\":\"x\",\"y\":[\"Aube (10)\"],\"yaxis\":\"y\",\"type\":\"bar\"},{\"alignmentgroup\":\"True\",\"hovertemplate\":\"D\\u00e9partement=%{y}<br>Surface m\\u00e9diane en m\\u00b2=%{x}<extra></extra>\",\"legendgroup\":\"Aude (11)\",\"marker\":{\"color\":\"#636efa\",\"pattern\":{\"shape\":\"\"}},\"name\":\"Aude (11)\",\"offsetgroup\":\"Aude (11)\",\"orientation\":\"h\",\"showlegend\":true,\"textposition\":\"auto\",\"x\":[150.0],\"xaxis\":\"x\",\"y\":[\"Aude (11)\"],\"yaxis\":\"y\",\"type\":\"bar\"},{\"alignmentgroup\":\"True\",\"hovertemplate\":\"D\\u00e9partement=%{y}<br>Surface m\\u00e9diane en m\\u00b2=%{x}<extra></extra>\",\"legendgroup\":\"Aveyron (12)\",\"marker\":{\"color\":\"#EF553B\",\"pattern\":{\"shape\":\"\"}},\"name\":\"Aveyron (12)\",\"offsetgroup\":\"Aveyron (12)\",\"orientation\":\"h\",\"showlegend\":true,\"textposition\":\"auto\",\"x\":[358.0],\"xaxis\":\"x\",\"y\":[\"Aveyron (12)\"],\"yaxis\":\"y\",\"type\":\"bar\"},{\"alignmentgroup\":\"True\",\"hovertemplate\":\"D\\u00e9partement=%{y}<br>Surface m\\u00e9diane en m\\u00b2=%{x}<extra></extra>\",\"legendgroup\":\"Bouches-du-Rh\\u00f4ne (13)\",\"marker\":{\"color\":\"#00cc96\",\"pattern\":{\"shape\":\"\"}},\"name\":\"Bouches-du-Rh\\u00f4ne (13)\",\"offsetgroup\":\"Bouches-du-Rh\\u00f4ne (13)\",\"orientation\":\"h\",\"showlegend\":true,\"textposition\":\"auto\",\"x\":[61.0],\"xaxis\":\"x\",\"y\":[\"Bouches-du-Rh\\u00f4ne (13)\"],\"yaxis\":\"y\",\"type\":\"bar\"},{\"alignmentgroup\":\"True\",\"hovertemplate\":\"D\\u00e9partement=%{y}<br>Surface m\\u00e9diane en m\\u00b2=%{x}<extra></extra>\",\"legendgroup\":\"Calvados (14)\",\"marker\":{\"color\":\"#ab63fa\",\"pattern\":{\"shape\":\"\"}},\"name\":\"Calvados (14)\",\"offsetgroup\":\"Calvados (14)\",\"orientation\":\"h\",\"showlegend\":true,\"textposition\":\"auto\",\"x\":[94.9],\"xaxis\":\"x\",\"y\":[\"Calvados (14)\"],\"yaxis\":\"y\",\"type\":\"bar\"},{\"alignmentgroup\":\"True\",\"hovertemplate\":\"D\\u00e9partement=%{y}<br>Surface m\\u00e9diane en m\\u00b2=%{x}<extra></extra>\",\"legendgroup\":\"Cantal (15)\",\"marker\":{\"color\":\"#FFA15A\",\"pattern\":{\"shape\":\"\"}},\"name\":\"Cantal (15)\",\"offsetgroup\":\"Cantal (15)\",\"orientation\":\"h\",\"showlegend\":true,\"textposition\":\"auto\",\"x\":[405.0],\"xaxis\":\"x\",\"y\":[\"Cantal (15)\"],\"yaxis\":\"y\",\"type\":\"bar\"},{\"alignmentgroup\":\"True\",\"hovertemplate\":\"D\\u00e9partement=%{y}<br>Surface m\\u00e9diane en m\\u00b2=%{x}<extra></extra>\",\"legendgroup\":\"Charente (16)\",\"marker\":{\"color\":\"#19d3f3\",\"pattern\":{\"shape\":\"\"}},\"name\":\"Charente (16)\",\"offsetgroup\":\"Charente (16)\",\"orientation\":\"h\",\"showlegend\":true,\"textposition\":\"auto\",\"x\":[506.0],\"xaxis\":\"x\",\"y\":[\"Charente (16)\"],\"yaxis\":\"y\",\"type\":\"bar\"},{\"alignmentgroup\":\"True\",\"hovertemplate\":\"D\\u00e9partement=%{y}<br>Surface m\\u00e9diane en m\\u00b2=%{x}<extra></extra>\",\"legendgroup\":\"Charente-Maritime (17)\",\"marker\":{\"color\":\"#FF6692\",\"pattern\":{\"shape\":\"\"}},\"name\":\"Charente-Maritime (17)\",\"offsetgroup\":\"Charente-Maritime (17)\",\"orientation\":\"h\",\"showlegend\":true,\"textposition\":\"auto\",\"x\":[166.0],\"xaxis\":\"x\",\"y\":[\"Charente-Maritime (17)\"],\"yaxis\":\"y\",\"type\":\"bar\"},{\"alignmentgroup\":\"True\",\"hovertemplate\":\"D\\u00e9partement=%{y}<br>Surface m\\u00e9diane en m\\u00b2=%{x}<extra></extra>\",\"legendgroup\":\"Cher (18)\",\"marker\":{\"color\":\"#B6E880\",\"pattern\":{\"shape\":\"\"}},\"name\":\"Cher (18)\",\"offsetgroup\":\"Cher (18)\",\"orientation\":\"h\",\"showlegend\":true,\"textposition\":\"auto\",\"x\":[279.0],\"xaxis\":\"x\",\"y\":[\"Cher (18)\"],\"yaxis\":\"y\",\"type\":\"bar\"},{\"alignmentgroup\":\"True\",\"hovertemplate\":\"D\\u00e9partement=%{y}<br>Surface m\\u00e9diane en m\\u00b2=%{x}<extra></extra>\",\"legendgroup\":\"Corr\\u00e8ze (19)\",\"marker\":{\"color\":\"#FF97FF\",\"pattern\":{\"shape\":\"\"}},\"name\":\"Corr\\u00e8ze (19)\",\"offsetgroup\":\"Corr\\u00e8ze (19)\",\"orientation\":\"h\",\"showlegend\":true,\"textposition\":\"auto\",\"x\":[500.0],\"xaxis\":\"x\",\"y\":[\"Corr\\u00e8ze (19)\"],\"yaxis\":\"y\",\"type\":\"bar\"},{\"alignmentgroup\":\"True\",\"hovertemplate\":\"D\\u00e9partement=%{y}<br>Surface m\\u00e9diane en m\\u00b2=%{x}<extra></extra>\",\"legendgroup\":\"C\\u00f4te-d'Or (21)\",\"marker\":{\"color\":\"#FECB52\",\"pattern\":{\"shape\":\"\"}},\"name\":\"C\\u00f4te-d'Or (21)\",\"offsetgroup\":\"C\\u00f4te-d'Or (21)\",\"orientation\":\"h\",\"showlegend\":true,\"textposition\":\"auto\",\"x\":[94.0],\"xaxis\":\"x\",\"y\":[\"C\\u00f4te-d'Or (21)\"],\"yaxis\":\"y\",\"type\":\"bar\"},{\"alignmentgroup\":\"True\",\"hovertemplate\":\"D\\u00e9partement=%{y}<br>Surface m\\u00e9diane en m\\u00b2=%{x}<extra></extra>\",\"legendgroup\":\"C\\u00f4tes-d'Armor (22)\",\"marker\":{\"color\":\"#636efa\",\"pattern\":{\"shape\":\"\"}},\"name\":\"C\\u00f4tes-d'Armor (22)\",\"offsetgroup\":\"C\\u00f4tes-d'Armor (22)\",\"orientation\":\"h\",\"showlegend\":true,\"textposition\":\"auto\",\"x\":[177.0],\"xaxis\":\"x\",\"y\":[\"C\\u00f4tes-d'Armor (22)\"],\"yaxis\":\"y\",\"type\":\"bar\"},{\"alignmentgroup\":\"True\",\"hovertemplate\":\"D\\u00e9partement=%{y}<br>Surface m\\u00e9diane en m\\u00b2=%{x}<extra></extra>\",\"legendgroup\":\"Creuse (23)\",\"marker\":{\"color\":\"#EF553B\",\"pattern\":{\"shape\":\"\"}},\"name\":\"Creuse (23)\",\"offsetgroup\":\"Creuse (23)\",\"orientation\":\"h\",\"showlegend\":true,\"textposition\":\"auto\",\"x\":[921.0],\"xaxis\":\"x\",\"y\":[\"Creuse (23)\"],\"yaxis\":\"y\",\"type\":\"bar\"},{\"alignmentgroup\":\"True\",\"hovertemplate\":\"D\\u00e9partement=%{y}<br>Surface m\\u00e9diane en m\\u00b2=%{x}<extra></extra>\",\"legendgroup\":\"Dordogne (24)\",\"marker\":{\"color\":\"#00cc96\",\"pattern\":{\"shape\":\"\"}},\"name\":\"Dordogne (24)\",\"offsetgroup\":\"Dordogne (24)\",\"orientation\":\"h\",\"showlegend\":true,\"textposition\":\"auto\",\"x\":[745.0],\"xaxis\":\"x\",\"y\":[\"Dordogne (24)\"],\"yaxis\":\"y\",\"type\":\"bar\"},{\"alignmentgroup\":\"True\",\"hovertemplate\":\"D\\u00e9partement=%{y}<br>Surface m\\u00e9diane en m\\u00b2=%{x}<extra></extra>\",\"legendgroup\":\"Doubs (25)\",\"marker\":{\"color\":\"#ab63fa\",\"pattern\":{\"shape\":\"\"}},\"name\":\"Doubs (25)\",\"offsetgroup\":\"Doubs (25)\",\"orientation\":\"h\",\"showlegend\":true,\"textposition\":\"auto\",\"x\":[95.0],\"xaxis\":\"x\",\"y\":[\"Doubs (25)\"],\"yaxis\":\"y\",\"type\":\"bar\"},{\"alignmentgroup\":\"True\",\"hovertemplate\":\"D\\u00e9partement=%{y}<br>Surface m\\u00e9diane en m\\u00b2=%{x}<extra></extra>\",\"legendgroup\":\"Dr\\u00f4me (26)\",\"marker\":{\"color\":\"#FFA15A\",\"pattern\":{\"shape\":\"\"}},\"name\":\"Dr\\u00f4me (26)\",\"offsetgroup\":\"Dr\\u00f4me (26)\",\"orientation\":\"h\",\"showlegend\":true,\"textposition\":\"auto\",\"x\":[126.0],\"xaxis\":\"x\",\"y\":[\"Dr\\u00f4me (26)\"],\"yaxis\":\"y\",\"type\":\"bar\"},{\"alignmentgroup\":\"True\",\"hovertemplate\":\"D\\u00e9partement=%{y}<br>Surface m\\u00e9diane en m\\u00b2=%{x}<extra></extra>\",\"legendgroup\":\"Eure (27)\",\"marker\":{\"color\":\"#19d3f3\",\"pattern\":{\"shape\":\"\"}},\"name\":\"Eure (27)\",\"offsetgroup\":\"Eure (27)\",\"orientation\":\"h\",\"showlegend\":true,\"textposition\":\"auto\",\"x\":[141.0],\"xaxis\":\"x\",\"y\":[\"Eure (27)\"],\"yaxis\":\"y\",\"type\":\"bar\"},{\"alignmentgroup\":\"True\",\"hovertemplate\":\"D\\u00e9partement=%{y}<br>Surface m\\u00e9diane en m\\u00b2=%{x}<extra></extra>\",\"legendgroup\":\"Eure-et-Loir (28)\",\"marker\":{\"color\":\"#FF6692\",\"pattern\":{\"shape\":\"\"}},\"name\":\"Eure-et-Loir (28)\",\"offsetgroup\":\"Eure-et-Loir (28)\",\"orientation\":\"h\",\"showlegend\":true,\"textposition\":\"auto\",\"x\":[165.0],\"xaxis\":\"x\",\"y\":[\"Eure-et-Loir (28)\"],\"yaxis\":\"y\",\"type\":\"bar\"},{\"alignmentgroup\":\"True\",\"hovertemplate\":\"D\\u00e9partement=%{y}<br>Surface m\\u00e9diane en m\\u00b2=%{x}<extra></extra>\",\"legendgroup\":\"Finist\\u00e8re (29)\",\"marker\":{\"color\":\"#B6E880\",\"pattern\":{\"shape\":\"\"}},\"name\":\"Finist\\u00e8re (29)\",\"offsetgroup\":\"Finist\\u00e8re (29)\",\"orientation\":\"h\",\"showlegend\":true,\"textposition\":\"auto\",\"x\":[125.0],\"xaxis\":\"x\",\"y\":[\"Finist\\u00e8re (29)\"],\"yaxis\":\"y\",\"type\":\"bar\"},{\"alignmentgroup\":\"True\",\"hovertemplate\":\"D\\u00e9partement=%{y}<br>Surface m\\u00e9diane en m\\u00b2=%{x}<extra></extra>\",\"legendgroup\":\"Corse-du-Sud (2A)\",\"marker\":{\"color\":\"#FF97FF\",\"pattern\":{\"shape\":\"\"}},\"name\":\"Corse-du-Sud (2A)\",\"offsetgroup\":\"Corse-du-Sud (2A)\",\"orientation\":\"h\",\"showlegend\":true,\"textposition\":\"auto\",\"x\":[70.0],\"xaxis\":\"x\",\"y\":[\"Corse-du-Sud (2A)\"],\"yaxis\":\"y\",\"type\":\"bar\"},{\"alignmentgroup\":\"True\",\"hovertemplate\":\"D\\u00e9partement=%{y}<br>Surface m\\u00e9diane en m\\u00b2=%{x}<extra></extra>\",\"legendgroup\":\"Haute-Corse (2B)\",\"marker\":{\"color\":\"#FECB52\",\"pattern\":{\"shape\":\"\"}},\"name\":\"Haute-Corse (2B)\",\"offsetgroup\":\"Haute-Corse (2B)\",\"orientation\":\"h\",\"showlegend\":true,\"textposition\":\"auto\",\"x\":[66.5],\"xaxis\":\"x\",\"y\":[\"Haute-Corse (2B)\"],\"yaxis\":\"y\",\"type\":\"bar\"},{\"alignmentgroup\":\"True\",\"hovertemplate\":\"D\\u00e9partement=%{y}<br>Surface m\\u00e9diane en m\\u00b2=%{x}<extra></extra>\",\"legendgroup\":\"Gard (30)\",\"marker\":{\"color\":\"#636efa\",\"pattern\":{\"shape\":\"\"}},\"name\":\"Gard (30)\",\"offsetgroup\":\"Gard (30)\",\"orientation\":\"h\",\"showlegend\":true,\"textposition\":\"auto\",\"x\":[107.0],\"xaxis\":\"x\",\"y\":[\"Gard (30)\"],\"yaxis\":\"y\",\"type\":\"bar\"},{\"alignmentgroup\":\"True\",\"hovertemplate\":\"D\\u00e9partement=%{y}<br>Surface m\\u00e9diane en m\\u00b2=%{x}<extra></extra>\",\"legendgroup\":\"Haute-Garonne (31)\",\"marker\":{\"color\":\"#EF553B\",\"pattern\":{\"shape\":\"\"}},\"name\":\"Haute-Garonne (31)\",\"offsetgroup\":\"Haute-Garonne (31)\",\"orientation\":\"h\",\"showlegend\":true,\"textposition\":\"auto\",\"x\":[66.13],\"xaxis\":\"x\",\"y\":[\"Haute-Garonne (31)\"],\"yaxis\":\"y\",\"type\":\"bar\"},{\"alignmentgroup\":\"True\",\"hovertemplate\":\"D\\u00e9partement=%{y}<br>Surface m\\u00e9diane en m\\u00b2=%{x}<extra></extra>\",\"legendgroup\":\"Gers (32)\",\"marker\":{\"color\":\"#00cc96\",\"pattern\":{\"shape\":\"\"}},\"name\":\"Gers (32)\",\"offsetgroup\":\"Gers (32)\",\"orientation\":\"h\",\"showlegend\":true,\"textposition\":\"auto\",\"x\":[1067.0],\"xaxis\":\"x\",\"y\":[\"Gers (32)\"],\"yaxis\":\"y\",\"type\":\"bar\"},{\"alignmentgroup\":\"True\",\"hovertemplate\":\"D\\u00e9partement=%{y}<br>Surface m\\u00e9diane en m\\u00b2=%{x}<extra></extra>\",\"legendgroup\":\"Gironde (33)\",\"marker\":{\"color\":\"#ab63fa\",\"pattern\":{\"shape\":\"\"}},\"name\":\"Gironde (33)\",\"offsetgroup\":\"Gironde (33)\",\"orientation\":\"h\",\"showlegend\":true,\"textposition\":\"auto\",\"x\":[97.0],\"xaxis\":\"x\",\"y\":[\"Gironde (33)\"],\"yaxis\":\"y\",\"type\":\"bar\"},{\"alignmentgroup\":\"True\",\"hovertemplate\":\"D\\u00e9partement=%{y}<br>Surface m\\u00e9diane en m\\u00b2=%{x}<extra></extra>\",\"legendgroup\":\"H\\u00e9rault (34)\",\"marker\":{\"color\":\"#FFA15A\",\"pattern\":{\"shape\":\"\"}},\"name\":\"H\\u00e9rault (34)\",\"offsetgroup\":\"H\\u00e9rault (34)\",\"orientation\":\"h\",\"showlegend\":true,\"textposition\":\"auto\",\"x\":[60.0],\"xaxis\":\"x\",\"y\":[\"H\\u00e9rault (34)\"],\"yaxis\":\"y\",\"type\":\"bar\"},{\"alignmentgroup\":\"True\",\"hovertemplate\":\"D\\u00e9partement=%{y}<br>Surface m\\u00e9diane en m\\u00b2=%{x}<extra></extra>\",\"legendgroup\":\"Ille-et-Vilaine (35)\",\"marker\":{\"color\":\"#19d3f3\",\"pattern\":{\"shape\":\"\"}},\"name\":\"Ille-et-Vilaine (35)\",\"offsetgroup\":\"Ille-et-Vilaine (35)\",\"orientation\":\"h\",\"showlegend\":true,\"textposition\":\"auto\",\"x\":[95.355],\"xaxis\":\"x\",\"y\":[\"Ille-et-Vilaine (35)\"],\"yaxis\":\"y\",\"type\":\"bar\"},{\"alignmentgroup\":\"True\",\"hovertemplate\":\"D\\u00e9partement=%{y}<br>Surface m\\u00e9diane en m\\u00b2=%{x}<extra></extra>\",\"legendgroup\":\"Indre (36)\",\"marker\":{\"color\":\"#FF6692\",\"pattern\":{\"shape\":\"\"}},\"name\":\"Indre (36)\",\"offsetgroup\":\"Indre (36)\",\"orientation\":\"h\",\"showlegend\":true,\"textposition\":\"auto\",\"x\":[500.0],\"xaxis\":\"x\",\"y\":[\"Indre (36)\"],\"yaxis\":\"y\",\"type\":\"bar\"},{\"alignmentgroup\":\"True\",\"hovertemplate\":\"D\\u00e9partement=%{y}<br>Surface m\\u00e9diane en m\\u00b2=%{x}<extra></extra>\",\"legendgroup\":\"Indre-et-Loire (37)\",\"marker\":{\"color\":\"#B6E880\",\"pattern\":{\"shape\":\"\"}},\"name\":\"Indre-et-Loire (37)\",\"offsetgroup\":\"Indre-et-Loire (37)\",\"orientation\":\"h\",\"showlegend\":true,\"textposition\":\"auto\",\"x\":[132.0],\"xaxis\":\"x\",\"y\":[\"Indre-et-Loire (37)\"],\"yaxis\":\"y\",\"type\":\"bar\"},{\"alignmentgroup\":\"True\",\"hovertemplate\":\"D\\u00e9partement=%{y}<br>Surface m\\u00e9diane en m\\u00b2=%{x}<extra></extra>\",\"legendgroup\":\"Is\\u00e8re (38)\",\"marker\":{\"color\":\"#FF97FF\",\"pattern\":{\"shape\":\"\"}},\"name\":\"Is\\u00e8re (38)\",\"offsetgroup\":\"Is\\u00e8re (38)\",\"orientation\":\"h\",\"showlegend\":true,\"textposition\":\"auto\",\"x\":[71.0],\"xaxis\":\"x\",\"y\":[\"Is\\u00e8re (38)\"],\"yaxis\":\"y\",\"type\":\"bar\"},{\"alignmentgroup\":\"True\",\"hovertemplate\":\"D\\u00e9partement=%{y}<br>Surface m\\u00e9diane en m\\u00b2=%{x}<extra></extra>\",\"legendgroup\":\"Jura (39)\",\"marker\":{\"color\":\"#FECB52\",\"pattern\":{\"shape\":\"\"}},\"name\":\"Jura (39)\",\"offsetgroup\":\"Jura (39)\",\"orientation\":\"h\",\"showlegend\":true,\"textposition\":\"auto\",\"x\":[260.0],\"xaxis\":\"x\",\"y\":[\"Jura (39)\"],\"yaxis\":\"y\",\"type\":\"bar\"},{\"alignmentgroup\":\"True\",\"hovertemplate\":\"D\\u00e9partement=%{y}<br>Surface m\\u00e9diane en m\\u00b2=%{x}<extra></extra>\",\"legendgroup\":\"Landes (40)\",\"marker\":{\"color\":\"#636efa\",\"pattern\":{\"shape\":\"\"}},\"name\":\"Landes (40)\",\"offsetgroup\":\"Landes (40)\",\"orientation\":\"h\",\"showlegend\":true,\"textposition\":\"auto\",\"x\":[261.0],\"xaxis\":\"x\",\"y\":[\"Landes (40)\"],\"yaxis\":\"y\",\"type\":\"bar\"},{\"alignmentgroup\":\"True\",\"hovertemplate\":\"D\\u00e9partement=%{y}<br>Surface m\\u00e9diane en m\\u00b2=%{x}<extra></extra>\",\"legendgroup\":\"Loir-et-Cher (41)\",\"marker\":{\"color\":\"#EF553B\",\"pattern\":{\"shape\":\"\"}},\"name\":\"Loir-et-Cher (41)\",\"offsetgroup\":\"Loir-et-Cher (41)\",\"orientation\":\"h\",\"showlegend\":true,\"textposition\":\"auto\",\"x\":[426.0],\"xaxis\":\"x\",\"y\":[\"Loir-et-Cher (41)\"],\"yaxis\":\"y\",\"type\":\"bar\"},{\"alignmentgroup\":\"True\",\"hovertemplate\":\"D\\u00e9partement=%{y}<br>Surface m\\u00e9diane en m\\u00b2=%{x}<extra></extra>\",\"legendgroup\":\"Loire (42)\",\"marker\":{\"color\":\"#00cc96\",\"pattern\":{\"shape\":\"\"}},\"name\":\"Loire (42)\",\"offsetgroup\":\"Loire (42)\",\"orientation\":\"h\",\"showlegend\":true,\"textposition\":\"auto\",\"x\":[101.65],\"xaxis\":\"x\",\"y\":[\"Loire (42)\"],\"yaxis\":\"y\",\"type\":\"bar\"},{\"alignmentgroup\":\"True\",\"hovertemplate\":\"D\\u00e9partement=%{y}<br>Surface m\\u00e9diane en m\\u00b2=%{x}<extra></extra>\",\"legendgroup\":\"Haute-Loire (43)\",\"marker\":{\"color\":\"#ab63fa\",\"pattern\":{\"shape\":\"\"}},\"name\":\"Haute-Loire (43)\",\"offsetgroup\":\"Haute-Loire (43)\",\"orientation\":\"h\",\"showlegend\":true,\"textposition\":\"auto\",\"x\":[600.0],\"xaxis\":\"x\",\"y\":[\"Haute-Loire (43)\"],\"yaxis\":\"y\",\"type\":\"bar\"},{\"alignmentgroup\":\"True\",\"hovertemplate\":\"D\\u00e9partement=%{y}<br>Surface m\\u00e9diane en m\\u00b2=%{x}<extra></extra>\",\"legendgroup\":\"Loire-Atlantique (44)\",\"marker\":{\"color\":\"#FFA15A\",\"pattern\":{\"shape\":\"\"}},\"name\":\"Loire-Atlantique (44)\",\"offsetgroup\":\"Loire-Atlantique (44)\",\"orientation\":\"h\",\"showlegend\":true,\"textposition\":\"auto\",\"x\":[89.0],\"xaxis\":\"x\",\"y\":[\"Loire-Atlantique (44)\"],\"yaxis\":\"y\",\"type\":\"bar\"},{\"alignmentgroup\":\"True\",\"hovertemplate\":\"D\\u00e9partement=%{y}<br>Surface m\\u00e9diane en m\\u00b2=%{x}<extra></extra>\",\"legendgroup\":\"Loiret (45)\",\"marker\":{\"color\":\"#19d3f3\",\"pattern\":{\"shape\":\"\"}},\"name\":\"Loiret (45)\",\"offsetgroup\":\"Loiret (45)\",\"orientation\":\"h\",\"showlegend\":true,\"textposition\":\"auto\",\"x\":[134.0],\"xaxis\":\"x\",\"y\":[\"Loiret (45)\"],\"yaxis\":\"y\",\"type\":\"bar\"},{\"alignmentgroup\":\"True\",\"hovertemplate\":\"D\\u00e9partement=%{y}<br>Surface m\\u00e9diane en m\\u00b2=%{x}<extra></extra>\",\"legendgroup\":\"Lot (46)\",\"marker\":{\"color\":\"#FF6692\",\"pattern\":{\"shape\":\"\"}},\"name\":\"Lot (46)\",\"offsetgroup\":\"Lot (46)\",\"orientation\":\"h\",\"showlegend\":true,\"textposition\":\"auto\",\"x\":[835.5],\"xaxis\":\"x\",\"y\":[\"Lot (46)\"],\"yaxis\":\"y\",\"type\":\"bar\"},{\"alignmentgroup\":\"True\",\"hovertemplate\":\"D\\u00e9partement=%{y}<br>Surface m\\u00e9diane en m\\u00b2=%{x}<extra></extra>\",\"legendgroup\":\"Lot-et-Garonne (47)\",\"marker\":{\"color\":\"#B6E880\",\"pattern\":{\"shape\":\"\"}},\"name\":\"Lot-et-Garonne (47)\",\"offsetgroup\":\"Lot-et-Garonne (47)\",\"orientation\":\"h\",\"showlegend\":true,\"textposition\":\"auto\",\"x\":[472.0],\"xaxis\":\"x\",\"y\":[\"Lot-et-Garonne (47)\"],\"yaxis\":\"y\",\"type\":\"bar\"},{\"alignmentgroup\":\"True\",\"hovertemplate\":\"D\\u00e9partement=%{y}<br>Surface m\\u00e9diane en m\\u00b2=%{x}<extra></extra>\",\"legendgroup\":\"Loz\\u00e8re (48)\",\"marker\":{\"color\":\"#FF97FF\",\"pattern\":{\"shape\":\"\"}},\"name\":\"Loz\\u00e8re (48)\",\"offsetgroup\":\"Loz\\u00e8re (48)\",\"orientation\":\"h\",\"showlegend\":true,\"textposition\":\"auto\",\"x\":[500.0],\"xaxis\":\"x\",\"y\":[\"Loz\\u00e8re (48)\"],\"yaxis\":\"y\",\"type\":\"bar\"},{\"alignmentgroup\":\"True\",\"hovertemplate\":\"D\\u00e9partement=%{y}<br>Surface m\\u00e9diane en m\\u00b2=%{x}<extra></extra>\",\"legendgroup\":\"Maine-et-Loire (49)\",\"marker\":{\"color\":\"#FECB52\",\"pattern\":{\"shape\":\"\"}},\"name\":\"Maine-et-Loire (49)\",\"offsetgroup\":\"Maine-et-Loire (49)\",\"orientation\":\"h\",\"showlegend\":true,\"textposition\":\"auto\",\"x\":[143.0],\"xaxis\":\"x\",\"y\":[\"Maine-et-Loire (49)\"],\"yaxis\":\"y\",\"type\":\"bar\"},{\"alignmentgroup\":\"True\",\"hovertemplate\":\"D\\u00e9partement=%{y}<br>Surface m\\u00e9diane en m\\u00b2=%{x}<extra></extra>\",\"legendgroup\":\"Manche (50)\",\"marker\":{\"color\":\"#636efa\",\"pattern\":{\"shape\":\"\"}},\"name\":\"Manche (50)\",\"offsetgroup\":\"Manche (50)\",\"orientation\":\"h\",\"showlegend\":true,\"textposition\":\"auto\",\"x\":[309.0],\"xaxis\":\"x\",\"y\":[\"Manche (50)\"],\"yaxis\":\"y\",\"type\":\"bar\"},{\"alignmentgroup\":\"True\",\"hovertemplate\":\"D\\u00e9partement=%{y}<br>Surface m\\u00e9diane en m\\u00b2=%{x}<extra></extra>\",\"legendgroup\":\"Marne (51)\",\"marker\":{\"color\":\"#EF553B\",\"pattern\":{\"shape\":\"\"}},\"name\":\"Marne (51)\",\"offsetgroup\":\"Marne (51)\",\"orientation\":\"h\",\"showlegend\":true,\"textposition\":\"auto\",\"x\":[104.0],\"xaxis\":\"x\",\"y\":[\"Marne (51)\"],\"yaxis\":\"y\",\"type\":\"bar\"},{\"alignmentgroup\":\"True\",\"hovertemplate\":\"D\\u00e9partement=%{y}<br>Surface m\\u00e9diane en m\\u00b2=%{x}<extra></extra>\",\"legendgroup\":\"Haute-Marne (52)\",\"marker\":{\"color\":\"#00cc96\",\"pattern\":{\"shape\":\"\"}},\"name\":\"Haute-Marne (52)\",\"offsetgroup\":\"Haute-Marne (52)\",\"orientation\":\"h\",\"showlegend\":true,\"textposition\":\"auto\",\"x\":[367.0],\"xaxis\":\"x\",\"y\":[\"Haute-Marne (52)\"],\"yaxis\":\"y\",\"type\":\"bar\"},{\"alignmentgroup\":\"True\",\"hovertemplate\":\"D\\u00e9partement=%{y}<br>Surface m\\u00e9diane en m\\u00b2=%{x}<extra></extra>\",\"legendgroup\":\"Mayenne (53)\",\"marker\":{\"color\":\"#ab63fa\",\"pattern\":{\"shape\":\"\"}},\"name\":\"Mayenne (53)\",\"offsetgroup\":\"Mayenne (53)\",\"orientation\":\"h\",\"showlegend\":true,\"textposition\":\"auto\",\"x\":[309.0],\"xaxis\":\"x\",\"y\":[\"Mayenne (53)\"],\"yaxis\":\"y\",\"type\":\"bar\"},{\"alignmentgroup\":\"True\",\"hovertemplate\":\"D\\u00e9partement=%{y}<br>Surface m\\u00e9diane en m\\u00b2=%{x}<extra></extra>\",\"legendgroup\":\"Meurthe-et-Moselle (54)\",\"marker\":{\"color\":\"#FFA15A\",\"pattern\":{\"shape\":\"\"}},\"name\":\"Meurthe-et-Moselle (54)\",\"offsetgroup\":\"Meurthe-et-Moselle (54)\",\"orientation\":\"h\",\"showlegend\":true,\"textposition\":\"auto\",\"x\":[100.0],\"xaxis\":\"x\",\"y\":[\"Meurthe-et-Moselle (54)\"],\"yaxis\":\"y\",\"type\":\"bar\"},{\"alignmentgroup\":\"True\",\"hovertemplate\":\"D\\u00e9partement=%{y}<br>Surface m\\u00e9diane en m\\u00b2=%{x}<extra></extra>\",\"legendgroup\":\"Meuse (55)\",\"marker\":{\"color\":\"#19d3f3\",\"pattern\":{\"shape\":\"\"}},\"name\":\"Meuse (55)\",\"offsetgroup\":\"Meuse (55)\",\"orientation\":\"h\",\"showlegend\":true,\"textposition\":\"auto\",\"x\":[330.0],\"xaxis\":\"x\",\"y\":[\"Meuse (55)\"],\"yaxis\":\"y\",\"type\":\"bar\"},{\"alignmentgroup\":\"True\",\"hovertemplate\":\"D\\u00e9partement=%{y}<br>Surface m\\u00e9diane en m\\u00b2=%{x}<extra></extra>\",\"legendgroup\":\"Morbihan (56)\",\"marker\":{\"color\":\"#FF6692\",\"pattern\":{\"shape\":\"\"}},\"name\":\"Morbihan (56)\",\"offsetgroup\":\"Morbihan (56)\",\"orientation\":\"h\",\"showlegend\":true,\"textposition\":\"auto\",\"x\":[125.0],\"xaxis\":\"x\",\"y\":[\"Morbihan (56)\"],\"yaxis\":\"y\",\"type\":\"bar\"},{\"alignmentgroup\":\"True\",\"hovertemplate\":\"D\\u00e9partement=%{y}<br>Surface m\\u00e9diane en m\\u00b2=%{x}<extra></extra>\",\"legendgroup\":\"Ni\\u00e8vre (58)\",\"marker\":{\"color\":\"#B6E880\",\"pattern\":{\"shape\":\"\"}},\"name\":\"Ni\\u00e8vre (58)\",\"offsetgroup\":\"Ni\\u00e8vre (58)\",\"orientation\":\"h\",\"showlegend\":true,\"textposition\":\"auto\",\"x\":[318.0],\"xaxis\":\"x\",\"y\":[\"Ni\\u00e8vre (58)\"],\"yaxis\":\"y\",\"type\":\"bar\"},{\"alignmentgroup\":\"True\",\"hovertemplate\":\"D\\u00e9partement=%{y}<br>Surface m\\u00e9diane en m\\u00b2=%{x}<extra></extra>\",\"legendgroup\":\"Nord (59)\",\"marker\":{\"color\":\"#FF97FF\",\"pattern\":{\"shape\":\"\"}},\"name\":\"Nord (59)\",\"offsetgroup\":\"Nord (59)\",\"orientation\":\"h\",\"showlegend\":true,\"textposition\":\"auto\",\"x\":[86.0],\"xaxis\":\"x\",\"y\":[\"Nord (59)\"],\"yaxis\":\"y\",\"type\":\"bar\"},{\"alignmentgroup\":\"True\",\"hovertemplate\":\"D\\u00e9partement=%{y}<br>Surface m\\u00e9diane en m\\u00b2=%{x}<extra></extra>\",\"legendgroup\":\"Oise (60)\",\"marker\":{\"color\":\"#FECB52\",\"pattern\":{\"shape\":\"\"}},\"name\":\"Oise (60)\",\"offsetgroup\":\"Oise (60)\",\"orientation\":\"h\",\"showlegend\":true,\"textposition\":\"auto\",\"x\":[128.0],\"xaxis\":\"x\",\"y\":[\"Oise (60)\"],\"yaxis\":\"y\",\"type\":\"bar\"},{\"alignmentgroup\":\"True\",\"hovertemplate\":\"D\\u00e9partement=%{y}<br>Surface m\\u00e9diane en m\\u00b2=%{x}<extra></extra>\",\"legendgroup\":\"Orne (61)\",\"marker\":{\"color\":\"#636efa\",\"pattern\":{\"shape\":\"\"}},\"name\":\"Orne (61)\",\"offsetgroup\":\"Orne (61)\",\"orientation\":\"h\",\"showlegend\":true,\"textposition\":\"auto\",\"x\":[270.0],\"xaxis\":\"x\",\"y\":[\"Orne (61)\"],\"yaxis\":\"y\",\"type\":\"bar\"},{\"alignmentgroup\":\"True\",\"hovertemplate\":\"D\\u00e9partement=%{y}<br>Surface m\\u00e9diane en m\\u00b2=%{x}<extra></extra>\",\"legendgroup\":\"Pas-de-Calais (62)\",\"marker\":{\"color\":\"#EF553B\",\"pattern\":{\"shape\":\"\"}},\"name\":\"Pas-de-Calais (62)\",\"offsetgroup\":\"Pas-de-Calais (62)\",\"orientation\":\"h\",\"showlegend\":true,\"textposition\":\"auto\",\"x\":[116.0],\"xaxis\":\"x\",\"y\":[\"Pas-de-Calais (62)\"],\"yaxis\":\"y\",\"type\":\"bar\"},{\"alignmentgroup\":\"True\",\"hovertemplate\":\"D\\u00e9partement=%{y}<br>Surface m\\u00e9diane en m\\u00b2=%{x}<extra></extra>\",\"legendgroup\":\"Puy-de-D\\u00f4me (63)\",\"marker\":{\"color\":\"#00cc96\",\"pattern\":{\"shape\":\"\"}},\"name\":\"Puy-de-D\\u00f4me (63)\",\"offsetgroup\":\"Puy-de-D\\u00f4me (63)\",\"orientation\":\"h\",\"showlegend\":true,\"textposition\":\"auto\",\"x\":[110.0],\"xaxis\":\"x\",\"y\":[\"Puy-de-D\\u00f4me (63)\"],\"yaxis\":\"y\",\"type\":\"bar\"},{\"alignmentgroup\":\"True\",\"hovertemplate\":\"D\\u00e9partement=%{y}<br>Surface m\\u00e9diane en m\\u00b2=%{x}<extra></extra>\",\"legendgroup\":\"Pyr\\u00e9n\\u00e9es-Atlantiques (64)\",\"marker\":{\"color\":\"#ab63fa\",\"pattern\":{\"shape\":\"\"}},\"name\":\"Pyr\\u00e9n\\u00e9es-Atlantiques (64)\",\"offsetgroup\":\"Pyr\\u00e9n\\u00e9es-Atlantiques (64)\",\"orientation\":\"h\",\"showlegend\":true,\"textposition\":\"auto\",\"x\":[81.0],\"xaxis\":\"x\",\"y\":[\"Pyr\\u00e9n\\u00e9es-Atlantiques (64)\"],\"yaxis\":\"y\",\"type\":\"bar\"},{\"alignmentgroup\":\"True\",\"hovertemplate\":\"D\\u00e9partement=%{y}<br>Surface m\\u00e9diane en m\\u00b2=%{x}<extra></extra>\",\"legendgroup\":\"Hautes-Pyr\\u00e9n\\u00e9es (65)\",\"marker\":{\"color\":\"#FFA15A\",\"pattern\":{\"shape\":\"\"}},\"name\":\"Hautes-Pyr\\u00e9n\\u00e9es (65)\",\"offsetgroup\":\"Hautes-Pyr\\u00e9n\\u00e9es (65)\",\"orientation\":\"h\",\"showlegend\":true,\"textposition\":\"auto\",\"x\":[150.0],\"xaxis\":\"x\",\"y\":[\"Hautes-Pyr\\u00e9n\\u00e9es (65)\"],\"yaxis\":\"y\",\"type\":\"bar\"},{\"alignmentgroup\":\"True\",\"hovertemplate\":\"D\\u00e9partement=%{y}<br>Surface m\\u00e9diane en m\\u00b2=%{x}<extra></extra>\",\"legendgroup\":\"Pyr\\u00e9n\\u00e9es-Orientales (66)\",\"marker\":{\"color\":\"#19d3f3\",\"pattern\":{\"shape\":\"\"}},\"name\":\"Pyr\\u00e9n\\u00e9es-Orientales (66)\",\"offsetgroup\":\"Pyr\\u00e9n\\u00e9es-Orientales (66)\",\"orientation\":\"h\",\"showlegend\":true,\"textposition\":\"auto\",\"x\":[82.0],\"xaxis\":\"x\",\"y\":[\"Pyr\\u00e9n\\u00e9es-Orientales (66)\"],\"yaxis\":\"y\",\"type\":\"bar\"},{\"alignmentgroup\":\"True\",\"hovertemplate\":\"D\\u00e9partement=%{y}<br>Surface m\\u00e9diane en m\\u00b2=%{x}<extra></extra>\",\"legendgroup\":\"Rh\\u00f4ne (69)\",\"marker\":{\"color\":\"#FF6692\",\"pattern\":{\"shape\":\"\"}},\"name\":\"Rh\\u00f4ne (69)\",\"offsetgroup\":\"Rh\\u00f4ne (69)\",\"orientation\":\"h\",\"showlegend\":true,\"textposition\":\"auto\",\"x\":[61.0],\"xaxis\":\"x\",\"y\":[\"Rh\\u00f4ne (69)\"],\"yaxis\":\"y\",\"type\":\"bar\"},{\"alignmentgroup\":\"True\",\"hovertemplate\":\"D\\u00e9partement=%{y}<br>Surface m\\u00e9diane en m\\u00b2=%{x}<extra></extra>\",\"legendgroup\":\"Haute-Sa\\u00f4ne (70)\",\"marker\":{\"color\":\"#B6E880\",\"pattern\":{\"shape\":\"\"}},\"name\":\"Haute-Sa\\u00f4ne (70)\",\"offsetgroup\":\"Haute-Sa\\u00f4ne (70)\",\"orientation\":\"h\",\"showlegend\":true,\"textposition\":\"auto\",\"x\":[455.0],\"xaxis\":\"x\",\"y\":[\"Haute-Sa\\u00f4ne (70)\"],\"yaxis\":\"y\",\"type\":\"bar\"},{\"alignmentgroup\":\"True\",\"hovertemplate\":\"D\\u00e9partement=%{y}<br>Surface m\\u00e9diane en m\\u00b2=%{x}<extra></extra>\",\"legendgroup\":\"Sa\\u00f4ne-et-Loire (71)\",\"marker\":{\"color\":\"#FF97FF\",\"pattern\":{\"shape\":\"\"}},\"name\":\"Sa\\u00f4ne-et-Loire (71)\",\"offsetgroup\":\"Sa\\u00f4ne-et-Loire (71)\",\"orientation\":\"h\",\"showlegend\":true,\"textposition\":\"auto\",\"x\":[259.0],\"xaxis\":\"x\",\"y\":[\"Sa\\u00f4ne-et-Loire (71)\"],\"yaxis\":\"y\",\"type\":\"bar\"},{\"alignmentgroup\":\"True\",\"hovertemplate\":\"D\\u00e9partement=%{y}<br>Surface m\\u00e9diane en m\\u00b2=%{x}<extra></extra>\",\"legendgroup\":\"Sarthe (72)\",\"marker\":{\"color\":\"#FECB52\",\"pattern\":{\"shape\":\"\"}},\"name\":\"Sarthe (72)\",\"offsetgroup\":\"Sarthe (72)\",\"orientation\":\"h\",\"showlegend\":true,\"textposition\":\"auto\",\"x\":[190.0],\"xaxis\":\"x\",\"y\":[\"Sarthe (72)\"],\"yaxis\":\"y\",\"type\":\"bar\"},{\"alignmentgroup\":\"True\",\"hovertemplate\":\"D\\u00e9partement=%{y}<br>Surface m\\u00e9diane en m\\u00b2=%{x}<extra></extra>\",\"legendgroup\":\"Savoie (73)\",\"marker\":{\"color\":\"#636efa\",\"pattern\":{\"shape\":\"\"}},\"name\":\"Savoie (73)\",\"offsetgroup\":\"Savoie (73)\",\"orientation\":\"h\",\"showlegend\":true,\"textposition\":\"auto\",\"x\":[65.135],\"xaxis\":\"x\",\"y\":[\"Savoie (73)\"],\"yaxis\":\"y\",\"type\":\"bar\"},{\"alignmentgroup\":\"True\",\"hovertemplate\":\"D\\u00e9partement=%{y}<br>Surface m\\u00e9diane en m\\u00b2=%{x}<extra></extra>\",\"legendgroup\":\"Haute-Savoie (74)\",\"marker\":{\"color\":\"#EF553B\",\"pattern\":{\"shape\":\"\"}},\"name\":\"Haute-Savoie (74)\",\"offsetgroup\":\"Haute-Savoie (74)\",\"orientation\":\"h\",\"showlegend\":true,\"textposition\":\"auto\",\"x\":[48.0],\"xaxis\":\"x\",\"y\":[\"Haute-Savoie (74)\"],\"yaxis\":\"y\",\"type\":\"bar\"},{\"alignmentgroup\":\"True\",\"hovertemplate\":\"D\\u00e9partement=%{y}<br>Surface m\\u00e9diane en m\\u00b2=%{x}<extra></extra>\",\"legendgroup\":\"Paris (75)\",\"marker\":{\"color\":\"#00cc96\",\"pattern\":{\"shape\":\"\"}},\"name\":\"Paris (75)\",\"offsetgroup\":\"Paris (75)\",\"orientation\":\"h\",\"showlegend\":true,\"textposition\":\"auto\",\"x\":[36.12],\"xaxis\":\"x\",\"y\":[\"Paris (75)\"],\"yaxis\":\"y\",\"type\":\"bar\"},{\"alignmentgroup\":\"True\",\"hovertemplate\":\"D\\u00e9partement=%{y}<br>Surface m\\u00e9diane en m\\u00b2=%{x}<extra></extra>\",\"legendgroup\":\"Seine-Maritime (76)\",\"marker\":{\"color\":\"#ab63fa\",\"pattern\":{\"shape\":\"\"}},\"name\":\"Seine-Maritime (76)\",\"offsetgroup\":\"Seine-Maritime (76)\",\"orientation\":\"h\",\"showlegend\":true,\"textposition\":\"auto\",\"x\":[80.0],\"xaxis\":\"x\",\"y\":[\"Seine-Maritime (76)\"],\"yaxis\":\"y\",\"type\":\"bar\"},{\"alignmentgroup\":\"True\",\"hovertemplate\":\"D\\u00e9partement=%{y}<br>Surface m\\u00e9diane en m\\u00b2=%{x}<extra></extra>\",\"legendgroup\":\"Seine-et-Marne (77)\",\"marker\":{\"color\":\"#FFA15A\",\"pattern\":{\"shape\":\"\"}},\"name\":\"Seine-et-Marne (77)\",\"offsetgroup\":\"Seine-et-Marne (77)\",\"orientation\":\"h\",\"showlegend\":true,\"textposition\":\"auto\",\"x\":[76.34],\"xaxis\":\"x\",\"y\":[\"Seine-et-Marne (77)\"],\"yaxis\":\"y\",\"type\":\"bar\"},{\"alignmentgroup\":\"True\",\"hovertemplate\":\"D\\u00e9partement=%{y}<br>Surface m\\u00e9diane en m\\u00b2=%{x}<extra></extra>\",\"legendgroup\":\"Yvelines (78)\",\"marker\":{\"color\":\"#19d3f3\",\"pattern\":{\"shape\":\"\"}},\"name\":\"Yvelines (78)\",\"offsetgroup\":\"Yvelines (78)\",\"orientation\":\"h\",\"showlegend\":true,\"textposition\":\"auto\",\"x\":[64.0],\"xaxis\":\"x\",\"y\":[\"Yvelines (78)\"],\"yaxis\":\"y\",\"type\":\"bar\"},{\"alignmentgroup\":\"True\",\"hovertemplate\":\"D\\u00e9partement=%{y}<br>Surface m\\u00e9diane en m\\u00b2=%{x}<extra></extra>\",\"legendgroup\":\"Deux-S\\u00e8vres (79)\",\"marker\":{\"color\":\"#FF6692\",\"pattern\":{\"shape\":\"\"}},\"name\":\"Deux-S\\u00e8vres (79)\",\"offsetgroup\":\"Deux-S\\u00e8vres (79)\",\"orientation\":\"h\",\"showlegend\":true,\"textposition\":\"auto\",\"x\":[425.0],\"xaxis\":\"x\",\"y\":[\"Deux-S\\u00e8vres (79)\"],\"yaxis\":\"y\",\"type\":\"bar\"},{\"alignmentgroup\":\"True\",\"hovertemplate\":\"D\\u00e9partement=%{y}<br>Surface m\\u00e9diane en m\\u00b2=%{x}<extra></extra>\",\"legendgroup\":\"Somme (80)\",\"marker\":{\"color\":\"#B6E880\",\"pattern\":{\"shape\":\"\"}},\"name\":\"Somme (80)\",\"offsetgroup\":\"Somme (80)\",\"orientation\":\"h\",\"showlegend\":true,\"textposition\":\"auto\",\"x\":[122.0],\"xaxis\":\"x\",\"y\":[\"Somme (80)\"],\"yaxis\":\"y\",\"type\":\"bar\"},{\"alignmentgroup\":\"True\",\"hovertemplate\":\"D\\u00e9partement=%{y}<br>Surface m\\u00e9diane en m\\u00b2=%{x}<extra></extra>\",\"legendgroup\":\"Tarn (81)\",\"marker\":{\"color\":\"#FF97FF\",\"pattern\":{\"shape\":\"\"}},\"name\":\"Tarn (81)\",\"offsetgroup\":\"Tarn (81)\",\"orientation\":\"h\",\"showlegend\":true,\"textposition\":\"auto\",\"x\":[280.0],\"xaxis\":\"x\",\"y\":[\"Tarn (81)\"],\"yaxis\":\"y\",\"type\":\"bar\"},{\"alignmentgroup\":\"True\",\"hovertemplate\":\"D\\u00e9partement=%{y}<br>Surface m\\u00e9diane en m\\u00b2=%{x}<extra></extra>\",\"legendgroup\":\"Tarn-et-Garonne (82)\",\"marker\":{\"color\":\"#FECB52\",\"pattern\":{\"shape\":\"\"}},\"name\":\"Tarn-et-Garonne (82)\",\"offsetgroup\":\"Tarn-et-Garonne (82)\",\"orientation\":\"h\",\"showlegend\":true,\"textposition\":\"auto\",\"x\":[418.0],\"xaxis\":\"x\",\"y\":[\"Tarn-et-Garonne (82)\"],\"yaxis\":\"y\",\"type\":\"bar\"},{\"alignmentgroup\":\"True\",\"hovertemplate\":\"D\\u00e9partement=%{y}<br>Surface m\\u00e9diane en m\\u00b2=%{x}<extra></extra>\",\"legendgroup\":\"Var (83)\",\"marker\":{\"color\":\"#636efa\",\"pattern\":{\"shape\":\"\"}},\"name\":\"Var (83)\",\"offsetgroup\":\"Var (83)\",\"orientation\":\"h\",\"showlegend\":true,\"textposition\":\"auto\",\"x\":[60.0],\"xaxis\":\"x\",\"y\":[\"Var (83)\"],\"yaxis\":\"y\",\"type\":\"bar\"},{\"alignmentgroup\":\"True\",\"hovertemplate\":\"D\\u00e9partement=%{y}<br>Surface m\\u00e9diane en m\\u00b2=%{x}<extra></extra>\",\"legendgroup\":\"Vaucluse (84)\",\"marker\":{\"color\":\"#EF553B\",\"pattern\":{\"shape\":\"\"}},\"name\":\"Vaucluse (84)\",\"offsetgroup\":\"Vaucluse (84)\",\"orientation\":\"h\",\"showlegend\":true,\"textposition\":\"auto\",\"x\":[110.0],\"xaxis\":\"x\",\"y\":[\"Vaucluse (84)\"],\"yaxis\":\"y\",\"type\":\"bar\"},{\"alignmentgroup\":\"True\",\"hovertemplate\":\"D\\u00e9partement=%{y}<br>Surface m\\u00e9diane en m\\u00b2=%{x}<extra></extra>\",\"legendgroup\":\"Vend\\u00e9e (85)\",\"marker\":{\"color\":\"#00cc96\",\"pattern\":{\"shape\":\"\"}},\"name\":\"Vend\\u00e9e (85)\",\"offsetgroup\":\"Vend\\u00e9e (85)\",\"orientation\":\"h\",\"showlegend\":true,\"textposition\":\"auto\",\"x\":[161.0],\"xaxis\":\"x\",\"y\":[\"Vend\\u00e9e (85)\"],\"yaxis\":\"y\",\"type\":\"bar\"},{\"alignmentgroup\":\"True\",\"hovertemplate\":\"D\\u00e9partement=%{y}<br>Surface m\\u00e9diane en m\\u00b2=%{x}<extra></extra>\",\"legendgroup\":\"Vienne (86)\",\"marker\":{\"color\":\"#ab63fa\",\"pattern\":{\"shape\":\"\"}},\"name\":\"Vienne (86)\",\"offsetgroup\":\"Vienne (86)\",\"orientation\":\"h\",\"showlegend\":true,\"textposition\":\"auto\",\"x\":[351.0],\"xaxis\":\"x\",\"y\":[\"Vienne (86)\"],\"yaxis\":\"y\",\"type\":\"bar\"},{\"alignmentgroup\":\"True\",\"hovertemplate\":\"D\\u00e9partement=%{y}<br>Surface m\\u00e9diane en m\\u00b2=%{x}<extra></extra>\",\"legendgroup\":\"Haute-Vienne (87)\",\"marker\":{\"color\":\"#FFA15A\",\"pattern\":{\"shape\":\"\"}},\"name\":\"Haute-Vienne (87)\",\"offsetgroup\":\"Haute-Vienne (87)\",\"orientation\":\"h\",\"showlegend\":true,\"textposition\":\"auto\",\"x\":[402.0],\"xaxis\":\"x\",\"y\":[\"Haute-Vienne (87)\"],\"yaxis\":\"y\",\"type\":\"bar\"},{\"alignmentgroup\":\"True\",\"hovertemplate\":\"D\\u00e9partement=%{y}<br>Surface m\\u00e9diane en m\\u00b2=%{x}<extra></extra>\",\"legendgroup\":\"Vosges (88)\",\"marker\":{\"color\":\"#19d3f3\",\"pattern\":{\"shape\":\"\"}},\"name\":\"Vosges (88)\",\"offsetgroup\":\"Vosges (88)\",\"orientation\":\"h\",\"showlegend\":true,\"textposition\":\"auto\",\"x\":[271.74],\"xaxis\":\"x\",\"y\":[\"Vosges (88)\"],\"yaxis\":\"y\",\"type\":\"bar\"},{\"alignmentgroup\":\"True\",\"hovertemplate\":\"D\\u00e9partement=%{y}<br>Surface m\\u00e9diane en m\\u00b2=%{x}<extra></extra>\",\"legendgroup\":\"Yonne (89)\",\"marker\":{\"color\":\"#FF6692\",\"pattern\":{\"shape\":\"\"}},\"name\":\"Yonne (89)\",\"offsetgroup\":\"Yonne (89)\",\"orientation\":\"h\",\"showlegend\":true,\"textposition\":\"auto\",\"x\":[346.0],\"xaxis\":\"x\",\"y\":[\"Yonne (89)\"],\"yaxis\":\"y\",\"type\":\"bar\"},{\"alignmentgroup\":\"True\",\"hovertemplate\":\"D\\u00e9partement=%{y}<br>Surface m\\u00e9diane en m\\u00b2=%{x}<extra></extra>\",\"legendgroup\":\"Territoire de Belfort (90)\",\"marker\":{\"color\":\"#B6E880\",\"pattern\":{\"shape\":\"\"}},\"name\":\"Territoire de Belfort (90)\",\"offsetgroup\":\"Territoire de Belfort (90)\",\"orientation\":\"h\",\"showlegend\":true,\"textposition\":\"auto\",\"x\":[86.07],\"xaxis\":\"x\",\"y\":[\"Territoire de Belfort (90)\"],\"yaxis\":\"y\",\"type\":\"bar\"},{\"alignmentgroup\":\"True\",\"hovertemplate\":\"D\\u00e9partement=%{y}<br>Surface m\\u00e9diane en m\\u00b2=%{x}<extra></extra>\",\"legendgroup\":\"Essonne (91)\",\"marker\":{\"color\":\"#FF97FF\",\"pattern\":{\"shape\":\"\"}},\"name\":\"Essonne (91)\",\"offsetgroup\":\"Essonne (91)\",\"orientation\":\"h\",\"showlegend\":true,\"textposition\":\"auto\",\"x\":[63.09],\"xaxis\":\"x\",\"y\":[\"Essonne (91)\"],\"yaxis\":\"y\",\"type\":\"bar\"},{\"alignmentgroup\":\"True\",\"hovertemplate\":\"D\\u00e9partement=%{y}<br>Surface m\\u00e9diane en m\\u00b2=%{x}<extra></extra>\",\"legendgroup\":\"Hauts-de-Seine (92)\",\"marker\":{\"color\":\"#FECB52\",\"pattern\":{\"shape\":\"\"}},\"name\":\"Hauts-de-Seine (92)\",\"offsetgroup\":\"Hauts-de-Seine (92)\",\"orientation\":\"h\",\"showlegend\":true,\"textposition\":\"auto\",\"x\":[36.31],\"xaxis\":\"x\",\"y\":[\"Hauts-de-Seine (92)\"],\"yaxis\":\"y\",\"type\":\"bar\"},{\"alignmentgroup\":\"True\",\"hovertemplate\":\"D\\u00e9partement=%{y}<br>Surface m\\u00e9diane en m\\u00b2=%{x}<extra></extra>\",\"legendgroup\":\"Seine-Saint-Denis (93)\",\"marker\":{\"color\":\"#636efa\",\"pattern\":{\"shape\":\"\"}},\"name\":\"Seine-Saint-Denis (93)\",\"offsetgroup\":\"Seine-Saint-Denis (93)\",\"orientation\":\"h\",\"showlegend\":true,\"textposition\":\"auto\",\"x\":[38.0],\"xaxis\":\"x\",\"y\":[\"Seine-Saint-Denis (93)\"],\"yaxis\":\"y\",\"type\":\"bar\"},{\"alignmentgroup\":\"True\",\"hovertemplate\":\"D\\u00e9partement=%{y}<br>Surface m\\u00e9diane en m\\u00b2=%{x}<extra></extra>\",\"legendgroup\":\"Val-de-Marne (94)\",\"marker\":{\"color\":\"#EF553B\",\"pattern\":{\"shape\":\"\"}},\"name\":\"Val-de-Marne (94)\",\"offsetgroup\":\"Val-de-Marne (94)\",\"orientation\":\"h\",\"showlegend\":true,\"textposition\":\"auto\",\"x\":[40.5],\"xaxis\":\"x\",\"y\":[\"Val-de-Marne (94)\"],\"yaxis\":\"y\",\"type\":\"bar\"},{\"alignmentgroup\":\"True\",\"hovertemplate\":\"D\\u00e9partement=%{y}<br>Surface m\\u00e9diane en m\\u00b2=%{x}<extra></extra>\",\"legendgroup\":\"Val-d'Oise (95)\",\"marker\":{\"color\":\"#00cc96\",\"pattern\":{\"shape\":\"\"}},\"name\":\"Val-d'Oise (95)\",\"offsetgroup\":\"Val-d'Oise (95)\",\"orientation\":\"h\",\"showlegend\":true,\"textposition\":\"auto\",\"x\":[58.02],\"xaxis\":\"x\",\"y\":[\"Val-d'Oise (95)\"],\"yaxis\":\"y\",\"type\":\"bar\"},{\"alignmentgroup\":\"True\",\"hovertemplate\":\"D\\u00e9partement=%{y}<br>Surface m\\u00e9diane en m\\u00b2=%{x}<extra></extra>\",\"legendgroup\":\"Guadeloupe (971)\",\"marker\":{\"color\":\"#ab63fa\",\"pattern\":{\"shape\":\"\"}},\"name\":\"Guadeloupe (971)\",\"offsetgroup\":\"Guadeloupe (971)\",\"orientation\":\"h\",\"showlegend\":true,\"textposition\":\"auto\",\"x\":[77.1],\"xaxis\":\"x\",\"y\":[\"Guadeloupe (971)\"],\"yaxis\":\"y\",\"type\":\"bar\"},{\"alignmentgroup\":\"True\",\"hovertemplate\":\"D\\u00e9partement=%{y}<br>Surface m\\u00e9diane en m\\u00b2=%{x}<extra></extra>\",\"legendgroup\":\"Martinique (972)\",\"marker\":{\"color\":\"#FFA15A\",\"pattern\":{\"shape\":\"\"}},\"name\":\"Martinique (972)\",\"offsetgroup\":\"Martinique (972)\",\"orientation\":\"h\",\"showlegend\":true,\"textposition\":\"auto\",\"x\":[66.0],\"xaxis\":\"x\",\"y\":[\"Martinique (972)\"],\"yaxis\":\"y\",\"type\":\"bar\"},{\"alignmentgroup\":\"True\",\"hovertemplate\":\"D\\u00e9partement=%{y}<br>Surface m\\u00e9diane en m\\u00b2=%{x}<extra></extra>\",\"legendgroup\":\"Guyane (973)\",\"marker\":{\"color\":\"#19d3f3\",\"pattern\":{\"shape\":\"\"}},\"name\":\"Guyane (973)\",\"offsetgroup\":\"Guyane (973)\",\"orientation\":\"h\",\"showlegend\":true,\"textposition\":\"auto\",\"x\":[81.0],\"xaxis\":\"x\",\"y\":[\"Guyane (973)\"],\"yaxis\":\"y\",\"type\":\"bar\"},{\"alignmentgroup\":\"True\",\"hovertemplate\":\"D\\u00e9partement=%{y}<br>Surface m\\u00e9diane en m\\u00b2=%{x}<extra></extra>\",\"legendgroup\":\"La R\\u00e9union (974)\",\"marker\":{\"color\":\"#FF6692\",\"pattern\":{\"shape\":\"\"}},\"name\":\"La R\\u00e9union (974)\",\"offsetgroup\":\"La R\\u00e9union (974)\",\"orientation\":\"h\",\"showlegend\":true,\"textposition\":\"auto\",\"x\":[70.0],\"xaxis\":\"x\",\"y\":[\"La R\\u00e9union (974)\"],\"yaxis\":\"y\",\"type\":\"bar\"}],                        {\"template\":{\"data\":{\"histogram2dcontour\":[{\"type\":\"histogram2dcontour\",\"colorbar\":{\"outlinewidth\":0,\"ticks\":\"\"},\"colorscale\":[[0.0,\"#0d0887\"],[0.1111111111111111,\"#46039f\"],[0.2222222222222222,\"#7201a8\"],[0.3333333333333333,\"#9c179e\"],[0.4444444444444444,\"#bd3786\"],[0.5555555555555556,\"#d8576b\"],[0.6666666666666666,\"#ed7953\"],[0.7777777777777778,\"#fb9f3a\"],[0.8888888888888888,\"#fdca26\"],[1.0,\"#f0f921\"]]}],\"choropleth\":[{\"type\":\"choropleth\",\"colorbar\":{\"outlinewidth\":0,\"ticks\":\"\"}}],\"histogram2d\":[{\"type\":\"histogram2d\",\"colorbar\":{\"outlinewidth\":0,\"ticks\":\"\"},\"colorscale\":[[0.0,\"#0d0887\"],[0.1111111111111111,\"#46039f\"],[0.2222222222222222,\"#7201a8\"],[0.3333333333333333,\"#9c179e\"],[0.4444444444444444,\"#bd3786\"],[0.5555555555555556,\"#d8576b\"],[0.6666666666666666,\"#ed7953\"],[0.7777777777777778,\"#fb9f3a\"],[0.8888888888888888,\"#fdca26\"],[1.0,\"#f0f921\"]]}],\"heatmap\":[{\"type\":\"heatmap\",\"colorbar\":{\"outlinewidth\":0,\"ticks\":\"\"},\"colorscale\":[[0.0,\"#0d0887\"],[0.1111111111111111,\"#46039f\"],[0.2222222222222222,\"#7201a8\"],[0.3333333333333333,\"#9c179e\"],[0.4444444444444444,\"#bd3786\"],[0.5555555555555556,\"#d8576b\"],[0.6666666666666666,\"#ed7953\"],[0.7777777777777778,\"#fb9f3a\"],[0.8888888888888888,\"#fdca26\"],[1.0,\"#f0f921\"]]}],\"heatmapgl\":[{\"type\":\"heatmapgl\",\"colorbar\":{\"outlinewidth\":0,\"ticks\":\"\"},\"colorscale\":[[0.0,\"#0d0887\"],[0.1111111111111111,\"#46039f\"],[0.2222222222222222,\"#7201a8\"],[0.3333333333333333,\"#9c179e\"],[0.4444444444444444,\"#bd3786\"],[0.5555555555555556,\"#d8576b\"],[0.6666666666666666,\"#ed7953\"],[0.7777777777777778,\"#fb9f3a\"],[0.8888888888888888,\"#fdca26\"],[1.0,\"#f0f921\"]]}],\"contourcarpet\":[{\"type\":\"contourcarpet\",\"colorbar\":{\"outlinewidth\":0,\"ticks\":\"\"}}],\"contour\":[{\"type\":\"contour\",\"colorbar\":{\"outlinewidth\":0,\"ticks\":\"\"},\"colorscale\":[[0.0,\"#0d0887\"],[0.1111111111111111,\"#46039f\"],[0.2222222222222222,\"#7201a8\"],[0.3333333333333333,\"#9c179e\"],[0.4444444444444444,\"#bd3786\"],[0.5555555555555556,\"#d8576b\"],[0.6666666666666666,\"#ed7953\"],[0.7777777777777778,\"#fb9f3a\"],[0.8888888888888888,\"#fdca26\"],[1.0,\"#f0f921\"]]}],\"surface\":[{\"type\":\"surface\",\"colorbar\":{\"outlinewidth\":0,\"ticks\":\"\"},\"colorscale\":[[0.0,\"#0d0887\"],[0.1111111111111111,\"#46039f\"],[0.2222222222222222,\"#7201a8\"],[0.3333333333333333,\"#9c179e\"],[0.4444444444444444,\"#bd3786\"],[0.5555555555555556,\"#d8576b\"],[0.6666666666666666,\"#ed7953\"],[0.7777777777777778,\"#fb9f3a\"],[0.8888888888888888,\"#fdca26\"],[1.0,\"#f0f921\"]]}],\"mesh3d\":[{\"type\":\"mesh3d\",\"colorbar\":{\"outlinewidth\":0,\"ticks\":\"\"}}],\"scatter\":[{\"fillpattern\":{\"fillmode\":\"overlay\",\"size\":10,\"solidity\":0.2},\"type\":\"scatter\"}],\"parcoords\":[{\"type\":\"parcoords\",\"line\":{\"colorbar\":{\"outlinewidth\":0,\"ticks\":\"\"}}}],\"scatterpolargl\":[{\"type\":\"scatterpolargl\",\"marker\":{\"colorbar\":{\"outlinewidth\":0,\"ticks\":\"\"}}}],\"bar\":[{\"error_x\":{\"color\":\"#2a3f5f\"},\"error_y\":{\"color\":\"#2a3f5f\"},\"marker\":{\"line\":{\"color\":\"#E5ECF6\",\"width\":0.5},\"pattern\":{\"fillmode\":\"overlay\",\"size\":10,\"solidity\":0.2}},\"type\":\"bar\"}],\"scattergeo\":[{\"type\":\"scattergeo\",\"marker\":{\"colorbar\":{\"outlinewidth\":0,\"ticks\":\"\"}}}],\"scatterpolar\":[{\"type\":\"scatterpolar\",\"marker\":{\"colorbar\":{\"outlinewidth\":0,\"ticks\":\"\"}}}],\"histogram\":[{\"marker\":{\"pattern\":{\"fillmode\":\"overlay\",\"size\":10,\"solidity\":0.2}},\"type\":\"histogram\"}],\"scattergl\":[{\"type\":\"scattergl\",\"marker\":{\"colorbar\":{\"outlinewidth\":0,\"ticks\":\"\"}}}],\"scatter3d\":[{\"type\":\"scatter3d\",\"line\":{\"colorbar\":{\"outlinewidth\":0,\"ticks\":\"\"}},\"marker\":{\"colorbar\":{\"outlinewidth\":0,\"ticks\":\"\"}}}],\"scattermapbox\":[{\"type\":\"scattermapbox\",\"marker\":{\"colorbar\":{\"outlinewidth\":0,\"ticks\":\"\"}}}],\"scatterternary\":[{\"type\":\"scatterternary\",\"marker\":{\"colorbar\":{\"outlinewidth\":0,\"ticks\":\"\"}}}],\"scattercarpet\":[{\"type\":\"scattercarpet\",\"marker\":{\"colorbar\":{\"outlinewidth\":0,\"ticks\":\"\"}}}],\"carpet\":[{\"aaxis\":{\"endlinecolor\":\"#2a3f5f\",\"gridcolor\":\"white\",\"linecolor\":\"white\",\"minorgridcolor\":\"white\",\"startlinecolor\":\"#2a3f5f\"},\"baxis\":{\"endlinecolor\":\"#2a3f5f\",\"gridcolor\":\"white\",\"linecolor\":\"white\",\"minorgridcolor\":\"white\",\"startlinecolor\":\"#2a3f5f\"},\"type\":\"carpet\"}],\"table\":[{\"cells\":{\"fill\":{\"color\":\"#EBF0F8\"},\"line\":{\"color\":\"white\"}},\"header\":{\"fill\":{\"color\":\"#C8D4E3\"},\"line\":{\"color\":\"white\"}},\"type\":\"table\"}],\"barpolar\":[{\"marker\":{\"line\":{\"color\":\"#E5ECF6\",\"width\":0.5},\"pattern\":{\"fillmode\":\"overlay\",\"size\":10,\"solidity\":0.2}},\"type\":\"barpolar\"}],\"pie\":[{\"automargin\":true,\"type\":\"pie\"}]},\"layout\":{\"autotypenumbers\":\"strict\",\"colorway\":[\"#636efa\",\"#EF553B\",\"#00cc96\",\"#ab63fa\",\"#FFA15A\",\"#19d3f3\",\"#FF6692\",\"#B6E880\",\"#FF97FF\",\"#FECB52\"],\"font\":{\"color\":\"#2a3f5f\"},\"hovermode\":\"closest\",\"hoverlabel\":{\"align\":\"left\"},\"paper_bgcolor\":\"white\",\"plot_bgcolor\":\"#E5ECF6\",\"polar\":{\"bgcolor\":\"#E5ECF6\",\"angularaxis\":{\"gridcolor\":\"white\",\"linecolor\":\"white\",\"ticks\":\"\"},\"radialaxis\":{\"gridcolor\":\"white\",\"linecolor\":\"white\",\"ticks\":\"\"}},\"ternary\":{\"bgcolor\":\"#E5ECF6\",\"aaxis\":{\"gridcolor\":\"white\",\"linecolor\":\"white\",\"ticks\":\"\"},\"baxis\":{\"gridcolor\":\"white\",\"linecolor\":\"white\",\"ticks\":\"\"},\"caxis\":{\"gridcolor\":\"white\",\"linecolor\":\"white\",\"ticks\":\"\"}},\"coloraxis\":{\"colorbar\":{\"outlinewidth\":0,\"ticks\":\"\"}},\"colorscale\":{\"sequential\":[[0.0,\"#0d0887\"],[0.1111111111111111,\"#46039f\"],[0.2222222222222222,\"#7201a8\"],[0.3333333333333333,\"#9c179e\"],[0.4444444444444444,\"#bd3786\"],[0.5555555555555556,\"#d8576b\"],[0.6666666666666666,\"#ed7953\"],[0.7777777777777778,\"#fb9f3a\"],[0.8888888888888888,\"#fdca26\"],[1.0,\"#f0f921\"]],\"sequentialminus\":[[0.0,\"#0d0887\"],[0.1111111111111111,\"#46039f\"],[0.2222222222222222,\"#7201a8\"],[0.3333333333333333,\"#9c179e\"],[0.4444444444444444,\"#bd3786\"],[0.5555555555555556,\"#d8576b\"],[0.6666666666666666,\"#ed7953\"],[0.7777777777777778,\"#fb9f3a\"],[0.8888888888888888,\"#fdca26\"],[1.0,\"#f0f921\"]],\"diverging\":[[0,\"#8e0152\"],[0.1,\"#c51b7d\"],[0.2,\"#de77ae\"],[0.3,\"#f1b6da\"],[0.4,\"#fde0ef\"],[0.5,\"#f7f7f7\"],[0.6,\"#e6f5d0\"],[0.7,\"#b8e186\"],[0.8,\"#7fbc41\"],[0.9,\"#4d9221\"],[1,\"#276419\"]]},\"xaxis\":{\"gridcolor\":\"white\",\"linecolor\":\"white\",\"ticks\":\"\",\"title\":{\"standoff\":15},\"zerolinecolor\":\"white\",\"automargin\":true,\"zerolinewidth\":2},\"yaxis\":{\"gridcolor\":\"white\",\"linecolor\":\"white\",\"ticks\":\"\",\"title\":{\"standoff\":15},\"zerolinecolor\":\"white\",\"automargin\":true,\"zerolinewidth\":2},\"scene\":{\"xaxis\":{\"backgroundcolor\":\"#E5ECF6\",\"gridcolor\":\"white\",\"linecolor\":\"white\",\"showbackground\":true,\"ticks\":\"\",\"zerolinecolor\":\"white\",\"gridwidth\":2},\"yaxis\":{\"backgroundcolor\":\"#E5ECF6\",\"gridcolor\":\"white\",\"linecolor\":\"white\",\"showbackground\":true,\"ticks\":\"\",\"zerolinecolor\":\"white\",\"gridwidth\":2},\"zaxis\":{\"backgroundcolor\":\"#E5ECF6\",\"gridcolor\":\"white\",\"linecolor\":\"white\",\"showbackground\":true,\"ticks\":\"\",\"zerolinecolor\":\"white\",\"gridwidth\":2}},\"shapedefaults\":{\"line\":{\"color\":\"#2a3f5f\"}},\"annotationdefaults\":{\"arrowcolor\":\"#2a3f5f\",\"arrowhead\":0,\"arrowwidth\":1},\"geo\":{\"bgcolor\":\"white\",\"landcolor\":\"#E5ECF6\",\"subunitcolor\":\"white\",\"showland\":true,\"showlakes\":true,\"lakecolor\":\"white\"},\"title\":{\"x\":0.05},\"mapbox\":{\"style\":\"light\"}}},\"xaxis\":{\"anchor\":\"y\",\"domain\":[0.0,1.0],\"title\":{\"text\":\"Surface m\\u00e9diane en m\\u00b2\"}},\"yaxis\":{\"anchor\":\"x\",\"domain\":[0.0,1.0],\"title\":{\"text\":\"D\\u00e9partement\"},\"categoryorder\":\"max ascending\",\"categoryarray\":[\"La R\\u00e9union (974)\",\"Guyane (973)\",\"Martinique (972)\",\"Guadeloupe (971)\",\"Val-d'Oise (95)\",\"Val-de-Marne (94)\",\"Seine-Saint-Denis (93)\",\"Hauts-de-Seine (92)\",\"Essonne (91)\",\"Territoire de Belfort (90)\",\"Yonne (89)\",\"Vosges (88)\",\"Haute-Vienne (87)\",\"Vienne (86)\",\"Vend\\u00e9e (85)\",\"Vaucluse (84)\",\"Var (83)\",\"Tarn-et-Garonne (82)\",\"Tarn (81)\",\"Somme (80)\",\"Deux-S\\u00e8vres (79)\",\"Yvelines (78)\",\"Seine-et-Marne (77)\",\"Seine-Maritime (76)\",\"Paris (75)\",\"Haute-Savoie (74)\",\"Savoie (73)\",\"Sarthe (72)\",\"Sa\\u00f4ne-et-Loire (71)\",\"Haute-Sa\\u00f4ne (70)\",\"Rh\\u00f4ne (69)\",\"Pyr\\u00e9n\\u00e9es-Orientales (66)\",\"Hautes-Pyr\\u00e9n\\u00e9es (65)\",\"Pyr\\u00e9n\\u00e9es-Atlantiques (64)\",\"Puy-de-D\\u00f4me (63)\",\"Pas-de-Calais (62)\",\"Orne (61)\",\"Oise (60)\",\"Nord (59)\",\"Ni\\u00e8vre (58)\",\"Morbihan (56)\",\"Meuse (55)\",\"Meurthe-et-Moselle (54)\",\"Mayenne (53)\",\"Haute-Marne (52)\",\"Marne (51)\",\"Manche (50)\",\"Maine-et-Loire (49)\",\"Loz\\u00e8re (48)\",\"Lot-et-Garonne (47)\",\"Lot (46)\",\"Loiret (45)\",\"Loire-Atlantique (44)\",\"Haute-Loire (43)\",\"Loire (42)\",\"Loir-et-Cher (41)\",\"Landes (40)\",\"Jura (39)\",\"Is\\u00e8re (38)\",\"Indre-et-Loire (37)\",\"Indre (36)\",\"Ille-et-Vilaine (35)\",\"H\\u00e9rault (34)\",\"Gironde (33)\",\"Gers (32)\",\"Haute-Garonne (31)\",\"Gard (30)\",\"Haute-Corse (2B)\",\"Corse-du-Sud (2A)\",\"Finist\\u00e8re (29)\",\"Eure-et-Loir (28)\",\"Eure (27)\",\"Dr\\u00f4me (26)\",\"Doubs (25)\",\"Dordogne (24)\",\"Creuse (23)\",\"C\\u00f4tes-d'Armor (22)\",\"C\\u00f4te-d'Or (21)\",\"Corr\\u00e8ze (19)\",\"Cher (18)\",\"Charente-Maritime (17)\",\"Charente (16)\",\"Cantal (15)\",\"Calvados (14)\",\"Bouches-du-Rh\\u00f4ne (13)\",\"Aveyron (12)\",\"Aude (11)\",\"Aube (10)\",\"Ari\\u00e8ge (09)\",\"Ardennes (08)\",\"Ard\\u00e8che (07)\",\"Alpes-Maritimes (06)\",\"Hautes-Alpes (05)\",\"Alpes-de-Haute-Provence (04)\",\"Allier (03)\",\"Aisne (02)\",\"Ain (01)\"],\"type\":\"category\"},\"legend\":{\"title\":{\"text\":\"D\\u00e9partement\"},\"tracegroupgap\":0},\"title\":{\"text\":\"Surface m\\u00e9diane ayant fait l'objet d'une transaction en fonction du d\\u00e9partement de vente (2022)\"},\"barmode\":\"relative\"},                        {\"responsive\": true}                    ).then(function(){\n",
       "                            \n",
       "var gd = document.getElementById('ca9352a8-afe2-4b66-8510-420afff991bf');\n",
       "var x = new MutationObserver(function (mutations, observer) {{\n",
       "        var display = window.getComputedStyle(gd).display;\n",
       "        if (!display || display === 'none') {{\n",
       "            console.log([gd, 'removed!']);\n",
       "            Plotly.purge(gd);\n",
       "            observer.disconnect();\n",
       "        }}\n",
       "}});\n",
       "\n",
       "// Listen for the removal of the full notebook cells\n",
       "var notebookContainer = gd.closest('#notebook-container');\n",
       "if (notebookContainer) {{\n",
       "    x.observe(notebookContainer, {childList: true});\n",
       "}}\n",
       "\n",
       "// Listen for the clearing of the current output cell\n",
       "var outputEl = gd.closest('.output');\n",
       "if (outputEl) {{\n",
       "    x.observe(outputEl, {childList: true});\n",
       "}}\n",
       "\n",
       "                        })                };                });            </script>        </div>"
      ]
     },
     "metadata": {},
     "output_type": "display_data"
    }
   ],
   "source": [
    "#Surface moyenne des terrains en fonction du département de vente\n",
    "surfacemoyenne_dpt = data.fillna(0) #à affiner pour éviter de tout passer à zéro\n",
    "\n",
    "#Ajout d'une case agrégeant les surfaces Carrez et d'une case Surface des locaux\n",
    "surfacemoyenne_dpt['surface carrez'] = surfacemoyenne_dpt[\"Surface Carrez du 1er lot\"]+ surfacemoyenne_dpt[\"Surface Carrez du 2eme lot\"]+ surfacemoyenne_dpt[\"Surface Carrez du 3eme lot\"]+ surfacemoyenne_dpt[\"Surface Carrez du 4eme lot\"]+ surfacemoyenne_dpt[\"Surface Carrez du 5eme lot\"]\n",
    "surfacemoyenne_dpt.loc[surfacemoyenne_dpt['surface carrez'] > 0, 'surface'] = surfacemoyenne_dpt['surface carrez']\n",
    "surfacemoyenne_dpt.loc[surfacemoyenne_dpt['surface carrez'] <= 0, 'surface'] = surfacemoyenne_dpt['Surface reelle bati']\n",
    "surfacemoyenne_dpt.loc[surfacemoyenne_dpt['surface'] == 0, 'surface'] = surfacemoyenne_dpt['Surface terrain']\n",
    "\n",
    "surfacemoyenne_dpt['count'] = surfacemoyenne_dpt['Code departement'].value_counts()\n",
    "surfacemoyenne_dpt = surfacemoyenne_dpt.groupby('Code departement').median()\n",
    "surfacemoyenne_dpt['dept'] = surfacemoyenne_dpt.index\n",
    "\n",
    "surfacemoyenne_dpt['dept'] = surfacemoyenne_dpt['dept'].apply(lambda x: str(departements.get(x)) + ' (' + x + ')')\n",
    "\n",
    "fig = px.bar(surfacemoyenne_dpt, y='dept', x='surface', title='Surface médiane ayant fait l\\'objet d\\'une transaction en fonction du département de vente (2022)', labels={'surface': 'Surface médiane en m²', 'dept': 'Département'}, color='dept', orientation='h').update_yaxes(type='category', categoryorder='max ascending')\n",
    "fig.show()"
   ]
  },
  {
   "cell_type": "code",
   "execution_count": null,
   "metadata": {},
   "outputs": [],
   "source": [
    "surfacemediane_region = surfacemoyenne_dpt.copy()\n",
    "surfacemediane_region['dept'] = surfacemediane_region.index\n",
    "surfacemediane_region = surfacemediane_region[surfacemediane_region['dept'].isin(departements_par_region[\"Provence-Alpes-Côte d'Azur\"])]\n",
    "\n",
    "with open('departements-avec-outre-mer.geojson','r') as response:\n",
    "    map = json.load(response)\n",
    "# Plot\n",
    "fig = px.choropleth_mapbox(surfacemediane_region, geojson=map, color='surface',\n",
    "                           locations=\"dept\", featureidkey=\"properties.code\",center={\"lat\": 48.7517, \"lon\": 2.7073},\n",
    "                           mapbox_style=\"carto-positron\", zoom=4, title='Type de local ayant la valeur foncière moyenne la plus forte (2022)')\n",
    "fig.show()"
   ]
  },
  {
   "cell_type": "code",
   "execution_count": null,
   "metadata": {
    "colab": {
     "base_uri": "https://localhost:8080/"
    },
    "id": "Qy5CupblXw5S",
    "outputId": "e2503508-c504-4e55-ee96-183c0d2e9773"
   },
   "outputs": [],
   "source": [
    "#Département comportant le plus de transactions (par mois)\n",
    "nombreventes_dpt = data.groupby('Code departement').sum()\n",
    "nombreventes_dpt['count'] = data['Code departement'].value_counts()\n",
    "nombreventes_dpt['dept'] = nombreventes_dpt.index\n",
    "\n",
    "nombreventes_dpt['dept'] = nombreventes_dpt['dept'].apply(lambda x: str(departements.get(x)) + ' (' + x + ')')\n",
    "nombreventes_dpt = nombreventes_dpt.sort_values(by=['count'], axis=0, ascending=False)\n",
    "\n",
    "nombreventes_dpt_10_pgrand = nombreventes_dpt.head(10)\n",
    "nombreventes_dpt_10_ppetit = nombreventes_dpt.tail(10)\n",
    "#nombrevente_dpt = nombrevente_dpt.groupby([nombrevente_dpt.index.year.values,nombrevente_dpt.index.month.values]).sum()\n",
    "\n",
    "fig = px.bar(nombreventes_dpt_10_pgrand.sort_values(by=['count'], axis=0), y='dept', x='count', title='Volume de vente pour les 10 plus gros départements vendeurs (2022)', labels={'count': 'Nombre de transactions réalisées', 'dept': 'Département'}, color='dept', orientation='h').update_yaxes(type='category', categoryorder='max ascending')\n",
    "fig.show()"
   ]
  },
  {
   "cell_type": "code",
   "execution_count": null,
   "metadata": {
    "colab": {
     "base_uri": "https://localhost:8080/",
     "height": 453
    },
    "id": "fxf8uilBXxc7",
    "outputId": "b6b93707-378f-4ca8-cfbb-ca4fdc86b548"
   },
   "outputs": [],
   "source": [
    "fig = px.bar(nombreventes_dpt_10_ppetit, y='dept', x='count', title='Volume de vente pour les 10 plus petits départements vendeurs (2022)', labels={'count': 'Nombre de transactions réalisées', 'dept': 'Département'}, color='dept', orientation='h').update_yaxes(type='category')\n",
    "fig.show()"
   ]
  },
  {
   "cell_type": "code",
   "execution_count": null,
   "metadata": {
    "colab": {
     "base_uri": "https://localhost:8080/",
     "height": 542
    },
    "id": "Dahi0MGCZm06",
    "outputId": "2071f240-0cef-491b-dbbd-08318e8ee1b0"
   },
   "outputs": [],
   "source": [
    "#Répartition des départements en fonction du volume de transactions\n",
    "rep_dep_vol_transac = nombreventes_dpt\n",
    "rep_dep_vol_transac.loc[rep_dep_vol_transac['count'] < 50000, 'dept'] = 'Reste des départements'\n",
    "fig = px.pie(rep_dep_vol_transac, values='count', names='dept', title='Répartition des départements en fonction du volume de transactions (2022)', labels={'count': 'Nombre de transactions', 'dept': 'Département'})\n",
    "fig.show()"
   ]
  },
  {
   "cell_type": "code",
   "execution_count": null,
   "metadata": {},
   "outputs": [],
   "source": [
    "#Département comportant le plus de transactions (par mois)\n"
   ]
  },
  {
   "cell_type": "code",
   "execution_count": null,
   "metadata": {
    "id": "a_uje9lVbSf2"
   },
   "outputs": [],
   "source": [
    "#Tendance d'évolution de la valeur foncière médiane en 2018, 2019, 2021 et 2022\n",
    "import statsmodels.api as sm\n",
    "fig = px.scatter(data, x=\"Date mutation\", y=\"Valeur fonciere\", trendline=\"ols\")\n",
    "fig.show()"
   ]
  },
  {
   "cell_type": "code",
   "execution_count": null,
   "metadata": {
    "colab": {
     "base_uri": "https://localhost:8080/",
     "height": 604
    },
    "id": "BXsclui_KfgX",
    "outputId": "ef5f4e1e-0f3e-4571-f343-feae2565c597"
   },
   "outputs": [],
   "source": [
    "# Remplacer les valeurs NaN par des zéros\n",
    "data['Valeur fonciere'] = data['Valeur fonciere'].fillna(0)\n",
    "data_dep = data.groupby(data['Code departement']).mean()\n",
    "\n",
    "print(data_dep['Valeur fonciere'].mean())\n",
    "\n",
    "print(type(data_dep['Valeur fonciere'].mean()))\n",
    "data_dep['departement'] = data_dep.index\n",
    "print(type(data_dep['departement']))\n",
    "# Tracer le scatter plot\n",
    "plt.bar(data_dep['departement'], data_dep['Valeur fonciere'],width=0.5)"
   ]
  },
  {
   "cell_type": "code",
   "execution_count": null,
   "metadata": {
    "colab": {
     "base_uri": "https://localhost:8080/",
     "height": 857
    },
    "id": "7TntyJnvNFy0",
    "outputId": "63c0463c-b989-4690-c6c1-176020104c0c"
   },
   "outputs": [],
   "source": [
    "# POUR 2019\n",
    "# Remplacer les valeurs NaN par des zéros\n",
    "data2019['Valeur fonciere'] = data2019['Valeur fonciere'].fillna(0)\n",
    "data_dep19 = data2019.groupby(data2019['Code departement']).mean()\n",
    "\n",
    "print(data_dep19['Valeur fonciere'])\n",
    "\n",
    "print(type(data_dep19['Valeur fonciere']))\n",
    "data_dep19['Code departement'] = data_dep19.index\n",
    "print(type(data_dep19['Code departement']))\n",
    "# Tracer le scatter plot\n",
    "fig = px.bar(data_dep19, x='Code departement', y='Valeur fonciere', labels={'Code departement': 'Département', 'Valeur fonciere': 'Valeur foncière moyenne (2019)'})\n",
    "\n",
    "# Afficher le diagramme en barres\n",
    "fig.show()"
   ]
  },
  {
   "cell_type": "code",
   "execution_count": null,
   "metadata": {
    "colab": {
     "base_uri": "https://localhost:8080/",
     "height": 542
    },
    "id": "vOrCfAyiZFyk",
    "outputId": "5c510549-5c9f-4997-bdd2-99c965a82db4"
   },
   "outputs": [],
   "source": [
    "data_global = pd.DataFrame({\n",
    "    'Code departement' : data_dep19['Code departement'],\n",
    "    'Valeurs 2019' : data_dep19['Valeur fonciere'],\n",
    "    'Valeurs 2022' : data_dep['Valeur fonciere']\n",
    "})\n",
    "fig_global = px.bar(data_global, x='Code departement', y=['Valeurs 2022','Valeurs 2019'])\n",
    "fig_global.update_layout(xaxis_title='Département', yaxis_title='Valeurs foncières moyennes par année', legend_title_text='Légende')\n",
    "fig_global.show()"
   ]
  },
  {
   "cell_type": "code",
   "execution_count": null,
   "metadata": {
    "colab": {
     "base_uri": "https://localhost:8080/",
     "height": 542
    },
    "id": "_WSJdb0BhOyL",
    "outputId": "ce4f8059-f15c-4b8d-cc0b-190f5e599911"
   },
   "outputs": [],
   "source": [
    "with open('departements.geojson','r') as response:\n",
    "    map = json.load(response)\n",
    "# Plot\n",
    "fig = px.choropleth_mapbox(data_dep, geojson=map, color='Valeur fonciere',\n",
    "                           locations=\"departement\", featureidkey=\"properties.code\",center={\"lat\": 48.7517, \"lon\": 2.7073},\n",
    "                           mapbox_style=\"carto-positron\", zoom=7)\n",
    "fig.show()"
   ]
  },
  {
   "cell_type": "code",
   "execution_count": null,
   "metadata": {
    "colab": {
     "base_uri": "https://localhost:8080/",
     "height": 542
    },
    "id": "tTqNVkLbLfi2",
    "outputId": "4adb975c-e63f-493e-a140-71e979ed0abc"
   },
   "outputs": [],
   "source": [
    "with open('departements.geojson','r') as response:\n",
    "    map = json.load(response)\n",
    "# Plot\n",
    "fig = px.choropleth_mapbox(nombreventes_dpt, geojson=map, color='count',\n",
    "                           locations=\"dept\", featureidkey=\"properties.code\",center={\"lat\": 48.7517, \"lon\": 2.7073},\n",
    "                           mapbox_style=\"carto-positron\", zoom=7)\n",
    "fig.show()"
   ]
  },
  {
   "cell_type": "code",
   "execution_count": null,
   "metadata": {},
   "outputs": [],
   "source": [
    "#répartition des locaux à l'échelle d'un département type urbain\n",
    "replocaux_rhone = data[data['Code departement'] == '69']\n",
    "replocaux_rhone['Type local'] = replocaux_rhone['Type local'].fillna('Autres (terrains non bâtis...)')\n",
    "\n",
    "fig = px.pie(replocaux_rhone, values=replocaux_rhone['Type local'].value_counts().values, names=replocaux_rhone['Type local'].value_counts().index, title='Répartition des types de locaux vendus dans le Rhône (urbain) (2022)', labels={'names': 'Type local', 'values' : 'Nombre de locaux vendus'})\n",
    "fig.show()"
   ]
  },
  {
   "cell_type": "code",
   "execution_count": null,
   "metadata": {
    "scrolled": false
   },
   "outputs": [],
   "source": [
    "#répartition des locaux à l'échelle d'un département type rural\n",
    "replocaux_cantal = data[data['Code departement'] == '15']\n",
    "replocaux_cantal['Type local'] = replocaux_cantal['Type local'].fillna('Autres (terrains non bâtis...)')\n",
    "\n",
    "#garder la même répartition de couleurs\n",
    "fig = px.pie(replocaux_cantal, values=replocaux_cantal['Type local'].value_counts().values, names=replocaux_cantal['Type local'].value_counts().index, title='Répartition des types de locaux vendus dans le Cantal (rural) (2022)', labels={'names': 'Type local', 'values' : 'Nombre de locaux vendus'})\n",
    "fig.show()"
   ]
  },
  {
   "cell_type": "code",
   "execution_count": null,
   "metadata": {
    "scrolled": false
   },
   "outputs": [],
   "source": [
    "#type de local majoritaire à l'échelle nationale\n",
    "maxlocaux_nat = data[['Code departement', 'Type local']]\n",
    "maxlocaux_nat['Type local'] = maxlocaux_nat['Type local'].dropna()\n",
    "locaux_counts = maxlocaux_nat.groupby(['Code departement', 'Type local']).size().reset_index(name='count')\n",
    "locaux_majoritaires = locaux_counts.groupby('Code departement')['count'].idxmax()\n",
    "maxlocaux_nat = locaux_counts.loc[locaux_majoritaires]\n",
    "\n",
    "print(maxlocaux_nat)\n",
    "\n",
    "#maxlocaux_nat[''] = maxlocaux_nat.groupby('Code departement').apply(lambda x: x['Type local'].value_counts().sort_index().idxmax())\n",
    "\n",
    "with open('departements-avec-outre-mer.geojson','r') as response:\n",
    "    map = json.load(response)\n",
    "# Plot\n",
    "fig = px.choropleth_mapbox(maxlocaux_nat, geojson=map, color='Type local',\n",
    "                           locations=\"Code departement\", featureidkey=\"properties.code\",center={\"lat\": 48.7517, \"lon\": 2.7073},\n",
    "                           mapbox_style=\"carto-positron\", zoom=4, title='Type de local majoritaire (hors terrains à bâtir et autres) concernés par une transaction immobilière (2022)')\n",
    "fig.show()"
   ]
  },
  {
   "cell_type": "code",
   "execution_count": null,
   "metadata": {},
   "outputs": [],
   "source": [
    "#type de local ayant la valeur foncière moyenne la plus forte pour chaque département\n",
    "#à revoir\n",
    "# Calculez la valeur foncière moyenne pour chaque type de local et chaque département\n",
    "mean_value = data.groupby(['Code departement', 'Type local'])['Valeur fonciere'].mean().reset_index(name='mean_value')\n",
    "\n",
    "# Trouvez l'indice du type de local ayant la valeur foncière moyenne la plus élevée pour chaque département\n",
    "max_mean_idx = mean_value.groupby('Code departement')['mean_value'].idxmax()\n",
    "\n",
    "# Sélectionnez les lignes correspondantes aux indices trouvés\n",
    "max_mean_local_df = mean_value.loc[max_mean_idx]\n",
    "max_mean_local_df['Code departement'] = max_mean_local_df['Code departement'].astype(str).apply(lambda x: '0'+x if len(x) == 1 else x)\n",
    "\n",
    "\n",
    "print(max_mean_local_df)\n",
    "with open('departements-avec-outre-mer.geojson','r') as response:\n",
    "    map = json.load(response)\n",
    "# Plot\n",
    "fig = px.choropleth_mapbox(max_mean_local_df, geojson=map, color='Type local',\n",
    "                           locations=\"Code departement\", featureidkey=\"properties.code\",center={\"lat\": 48.7517, \"lon\": 2.7073},\n",
    "                           mapbox_style=\"carto-positron\", zoom=4, title='Type de local ayant la valeur foncière moyenne la plus forte (2022)')\n",
    "fig.show()"
   ]
  },
  {
   "cell_type": "code",
   "execution_count": 27,
   "metadata": {},
   "outputs": [
    {
     "name": "stdout",
     "output_type": "stream",
     "text": [
      "   Code INSEE   Type local  count\n",
      "0       75101  Appartement    518\n",
      "3       75102  Appartement    610\n",
      "6       75103  Appartement    991\n",
      "9       75104  Appartement    737\n",
      "13      75105  Appartement   1217\n",
      "17      75106  Appartement   1177\n",
      "22      75107   Dépendance   1857\n",
      "26      75108   Dépendance   1424\n",
      "28      75109  Appartement   1682\n",
      "32      75110  Appartement   2374\n",
      "35      75111  Appartement   3590\n",
      "40      75112   Dépendance   2963\n",
      "44      75113   Dépendance   2096\n",
      "48      75114   Dépendance   2486\n",
      "52      75115   Dépendance   5310\n",
      "56      75116   Dépendance   5506\n",
      "60      75117   Dépendance   4219\n",
      "63      75118  Appartement   4858\n",
      "68      75119   Dépendance   2544\n",
      "72      75120   Dépendance   3000\n"
     ]
    },
    {
     "name": "stderr",
     "output_type": "stream",
     "text": [
      "<ipython-input-27-3977c5dd2817>:3: SettingWithCopyWarning:\n",
      "\n",
      "\n",
      "A value is trying to be set on a copy of a slice from a DataFrame.\n",
      "Try using .loc[row_indexer,col_indexer] = value instead\n",
      "\n",
      "See the caveats in the documentation: https://pandas.pydata.org/pandas-docs/stable/user_guide/indexing.html#returning-a-view-versus-a-copy\n",
      "\n"
     ]
    },
    {
     "ename": "FileNotFoundError",
     "evalue": "[Errno 2] No such file or directory: 'arrondissements-paris.geojson'",
     "output_type": "error",
     "traceback": [
      "\u001b[1;31m---------------------------------------------------------------------------\u001b[0m",
      "\u001b[1;31mFileNotFoundError\u001b[0m                         Traceback (most recent call last)",
      "\u001b[1;32m<ipython-input-27-3977c5dd2817>\u001b[0m in \u001b[0;36m<module>\u001b[1;34m\u001b[0m\n\u001b[0;32m      8\u001b[0m \u001b[0mprint\u001b[0m\u001b[1;33m(\u001b[0m\u001b[0mparisdata\u001b[0m\u001b[1;33m)\u001b[0m\u001b[1;33m\u001b[0m\u001b[1;33m\u001b[0m\u001b[0m\n\u001b[0;32m      9\u001b[0m \u001b[1;33m\u001b[0m\u001b[0m\n\u001b[1;32m---> 10\u001b[1;33m \u001b[1;32mwith\u001b[0m \u001b[0mopen\u001b[0m\u001b[1;33m(\u001b[0m\u001b[1;34m'arrondissements-paris.geojson'\u001b[0m\u001b[1;33m,\u001b[0m\u001b[1;34m'r'\u001b[0m\u001b[1;33m)\u001b[0m \u001b[1;32mas\u001b[0m \u001b[0mresponse\u001b[0m\u001b[1;33m:\u001b[0m\u001b[1;33m\u001b[0m\u001b[1;33m\u001b[0m\u001b[0m\n\u001b[0m\u001b[0;32m     11\u001b[0m     \u001b[0mmap\u001b[0m \u001b[1;33m=\u001b[0m \u001b[0mjson\u001b[0m\u001b[1;33m.\u001b[0m\u001b[0mload\u001b[0m\u001b[1;33m(\u001b[0m\u001b[0mresponse\u001b[0m\u001b[1;33m)\u001b[0m\u001b[1;33m\u001b[0m\u001b[1;33m\u001b[0m\u001b[0m\n\u001b[0;32m     12\u001b[0m \u001b[1;31m# Plot\u001b[0m\u001b[1;33m\u001b[0m\u001b[1;33m\u001b[0m\u001b[1;33m\u001b[0m\u001b[0m\n",
      "\u001b[1;31mFileNotFoundError\u001b[0m: [Errno 2] No such file or directory: 'arrondissements-paris.geojson'"
     ]
    }
   ],
   "source": [
    "#Type de local majoritaire dans les arrondissements d'une grande ville (Paris)\n",
    "parisdata = data[data['Code departement'] == '75']\n",
    "parisdata['Code INSEE'] = parisdata['Code departement'].astype(str) + parisdata['Code commune'].astype(str)\n",
    "parisdata = parisdata[['Code INSEE', 'Type local']]\n",
    "locaux_counts = parisdata.groupby(['Code INSEE', 'Type local']).size().reset_index(name='count')\n",
    "locaux_majoritaires = locaux_counts.groupby('Code INSEE')['count'].idxmax()\n",
    "parisdata = locaux_counts.loc[locaux_majoritaires]\n",
    "print(parisdata)\n",
    "\n",
    "with open('arrondissements-paris.geojson','r') as response:\n",
    "    map = json.load(response)\n",
    "# Plot\n",
    "fig = px.choropleth_mapbox(parisdata, geojson=map, color='Type local',\n",
    "                           locations=\"Code INSEE\", featureidkey=\"properties.c_arinsee\",center={\"lat\": 48.7517, \"lon\": 2.7073},\n",
    "                           mapbox_style=\"carto-positron\", zoom=4, title='Type de local majoritairement concernés par une transaction immobilière à Paris (2022)')\n",
    "fig.show()"
   ]
  },
  {
   "cell_type": "code",
   "execution_count": 45,
   "metadata": {},
   "outputs": [
    {
     "name": "stdout",
     "output_type": "stream",
     "text": [
      "974\n",
      "https://raw.githubusercontent.com/gregoiredavid/france-geojson/master/departements/974-la-reunion/communes-974-la-reunion.geojson\n",
      "   Code INSEE                  Commune   Type local  Locaux concernés\n",
      "3       97401              LES AVIRONS       Maison                54\n",
      "7       97402               BRAS-PANON       Maison                25\n",
      "10      97403               ENTRE DEUX       Maison                31\n",
      "14      97404             L ETANG SALE       Maison                91\n",
      "18      97405               PETITE ILE       Maison                62\n",
      "21      97406  LA PLAINE DES PALMISTES       Maison                73\n",
      "22      97407                  LE PORT  Appartement                61\n",
      "26      97408            LA POSSESSION  Appartement               397\n",
      "33      97409              SAINT-ANDRE       Maison               145\n",
      "37      97410             SAINT-BENOIT       Maison                92\n",
      "39      97411              SAINT DENIS   Dépendance              1291\n",
      "45      97412             SAINT-JOSEPH       Maison               221\n",
      "49      97413                SAINT-LEU       Maison               161\n",
      "53      97414              SAINT-LOUIS       Maison               166\n",
      "55      97415               SAINT-PAUL   Dépendance               435\n",
      "59      97416             SAINT PIERRE   Dépendance               339\n",
      "64      97417           SAINT PHILIPPE       Maison                29\n",
      "68      97418             SAINTE MARIE       Maison               106\n",
      "71      97419              SAINTE ROSE       Maison                39\n",
      "73      97420           SAINTE SUZANNE   Dépendance               146\n",
      "78      97421                  SALAZIE       Maison                22\n",
      "82      97422                LE TAMPON       Maison               328\n",
      "83      97423        LES TROIS BASSINS  Appartement                32\n",
      "90      97424                   CILAOS       Maison                16\n"
     ]
    },
    {
     "data": {
      "application/vnd.plotly.v1+json": {
       "config": {
        "plotlyServerURL": "https://plot.ly"
       },
       "data": [
        {
         "colorscale": [
          [
           0,
           "#636efa"
          ],
          [
           1,
           "#636efa"
          ]
         ],
         "customdata": [
          [
           "LES AVIRONS",
           54
          ],
          [
           "BRAS-PANON",
           25
          ],
          [
           "ENTRE DEUX",
           31
          ],
          [
           "L ETANG SALE",
           91
          ],
          [
           "PETITE ILE",
           62
          ],
          [
           "LA PLAINE DES PALMISTES",
           73
          ],
          [
           "SAINT-ANDRE",
           145
          ],
          [
           "SAINT-BENOIT",
           92
          ],
          [
           "SAINT-JOSEPH",
           221
          ],
          [
           "SAINT-LEU",
           161
          ],
          [
           "SAINT-LOUIS",
           166
          ],
          [
           "SAINT PHILIPPE",
           29
          ],
          [
           "SAINTE MARIE",
           106
          ],
          [
           "SAINTE ROSE",
           39
          ],
          [
           "SALAZIE",
           22
          ],
          [
           "LE TAMPON",
           328
          ],
          [
           "CILAOS",
           16
          ]
         ],
         "featureidkey": "properties.code",
         "geojson": "https://raw.githubusercontent.com/gregoiredavid/france-geojson/master/departements/974-la-reunion/communes-974-la-reunion.geojson",
         "hovertemplate": "Type local=Maison<br>Code INSEE=%{location}<br>Commune=%{customdata[0]}<br>Locaux concernés=%{customdata[1]}<extra></extra>",
         "locations": [
          "97401",
          "97402",
          "97403",
          "97404",
          "97405",
          "97406",
          "97409",
          "97410",
          "97412",
          "97413",
          "97414",
          "97417",
          "97418",
          "97419",
          "97421",
          "97422",
          "97424"
         ],
         "name": "Maison",
         "showlegend": true,
         "showscale": false,
         "subplot": "mapbox",
         "type": "choroplethmapbox",
         "z": [
          1,
          1,
          1,
          1,
          1,
          1,
          1,
          1,
          1,
          1,
          1,
          1,
          1,
          1,
          1,
          1,
          1
         ]
        },
        {
         "colorscale": [
          [
           0,
           "#EF553B"
          ],
          [
           1,
           "#EF553B"
          ]
         ],
         "customdata": [
          [
           "LE PORT",
           61
          ],
          [
           "LA POSSESSION",
           397
          ],
          [
           "LES TROIS BASSINS",
           32
          ]
         ],
         "featureidkey": "properties.code",
         "geojson": "https://raw.githubusercontent.com/gregoiredavid/france-geojson/master/departements/974-la-reunion/communes-974-la-reunion.geojson",
         "hovertemplate": "Type local=Appartement<br>Code INSEE=%{location}<br>Commune=%{customdata[0]}<br>Locaux concernés=%{customdata[1]}<extra></extra>",
         "locations": [
          "97407",
          "97408",
          "97423"
         ],
         "name": "Appartement",
         "showlegend": true,
         "showscale": false,
         "subplot": "mapbox",
         "type": "choroplethmapbox",
         "z": [
          1,
          1,
          1
         ]
        },
        {
         "colorscale": [
          [
           0,
           "#00cc96"
          ],
          [
           1,
           "#00cc96"
          ]
         ],
         "customdata": [
          [
           "SAINT DENIS",
           1291
          ],
          [
           "SAINT-PAUL",
           435
          ],
          [
           "SAINT PIERRE",
           339
          ],
          [
           "SAINTE SUZANNE",
           146
          ]
         ],
         "featureidkey": "properties.code",
         "geojson": "https://raw.githubusercontent.com/gregoiredavid/france-geojson/master/departements/974-la-reunion/communes-974-la-reunion.geojson",
         "hovertemplate": "Type local=Dépendance<br>Code INSEE=%{location}<br>Commune=%{customdata[0]}<br>Locaux concernés=%{customdata[1]}<extra></extra>",
         "locations": [
          "97411",
          "97415",
          "97416",
          "97420"
         ],
         "name": "Dépendance",
         "showlegend": true,
         "showscale": false,
         "subplot": "mapbox",
         "type": "choroplethmapbox",
         "z": [
          1,
          1,
          1,
          1
         ]
        }
       ],
       "layout": {
        "legend": {
         "title": {
          "text": "Type local"
         },
         "tracegroupgap": 0
        },
        "mapbox": {
         "center": {
          "lat": 48.7517,
          "lon": 2.7073
         },
         "domain": {
          "x": [
           0,
           1
          ],
          "y": [
           0,
           1
          ]
         },
         "style": "carto-positron",
         "zoom": 4
        },
        "template": {
         "data": {
          "bar": [
           {
            "error_x": {
             "color": "#2a3f5f"
            },
            "error_y": {
             "color": "#2a3f5f"
            },
            "marker": {
             "line": {
              "color": "#E5ECF6",
              "width": 0.5
             },
             "pattern": {
              "fillmode": "overlay",
              "size": 10,
              "solidity": 0.2
             }
            },
            "type": "bar"
           }
          ],
          "barpolar": [
           {
            "marker": {
             "line": {
              "color": "#E5ECF6",
              "width": 0.5
             },
             "pattern": {
              "fillmode": "overlay",
              "size": 10,
              "solidity": 0.2
             }
            },
            "type": "barpolar"
           }
          ],
          "carpet": [
           {
            "aaxis": {
             "endlinecolor": "#2a3f5f",
             "gridcolor": "white",
             "linecolor": "white",
             "minorgridcolor": "white",
             "startlinecolor": "#2a3f5f"
            },
            "baxis": {
             "endlinecolor": "#2a3f5f",
             "gridcolor": "white",
             "linecolor": "white",
             "minorgridcolor": "white",
             "startlinecolor": "#2a3f5f"
            },
            "type": "carpet"
           }
          ],
          "choropleth": [
           {
            "colorbar": {
             "outlinewidth": 0,
             "ticks": ""
            },
            "type": "choropleth"
           }
          ],
          "contour": [
           {
            "colorbar": {
             "outlinewidth": 0,
             "ticks": ""
            },
            "colorscale": [
             [
              0,
              "#0d0887"
             ],
             [
              0.1111111111111111,
              "#46039f"
             ],
             [
              0.2222222222222222,
              "#7201a8"
             ],
             [
              0.3333333333333333,
              "#9c179e"
             ],
             [
              0.4444444444444444,
              "#bd3786"
             ],
             [
              0.5555555555555556,
              "#d8576b"
             ],
             [
              0.6666666666666666,
              "#ed7953"
             ],
             [
              0.7777777777777778,
              "#fb9f3a"
             ],
             [
              0.8888888888888888,
              "#fdca26"
             ],
             [
              1,
              "#f0f921"
             ]
            ],
            "type": "contour"
           }
          ],
          "contourcarpet": [
           {
            "colorbar": {
             "outlinewidth": 0,
             "ticks": ""
            },
            "type": "contourcarpet"
           }
          ],
          "heatmap": [
           {
            "colorbar": {
             "outlinewidth": 0,
             "ticks": ""
            },
            "colorscale": [
             [
              0,
              "#0d0887"
             ],
             [
              0.1111111111111111,
              "#46039f"
             ],
             [
              0.2222222222222222,
              "#7201a8"
             ],
             [
              0.3333333333333333,
              "#9c179e"
             ],
             [
              0.4444444444444444,
              "#bd3786"
             ],
             [
              0.5555555555555556,
              "#d8576b"
             ],
             [
              0.6666666666666666,
              "#ed7953"
             ],
             [
              0.7777777777777778,
              "#fb9f3a"
             ],
             [
              0.8888888888888888,
              "#fdca26"
             ],
             [
              1,
              "#f0f921"
             ]
            ],
            "type": "heatmap"
           }
          ],
          "heatmapgl": [
           {
            "colorbar": {
             "outlinewidth": 0,
             "ticks": ""
            },
            "colorscale": [
             [
              0,
              "#0d0887"
             ],
             [
              0.1111111111111111,
              "#46039f"
             ],
             [
              0.2222222222222222,
              "#7201a8"
             ],
             [
              0.3333333333333333,
              "#9c179e"
             ],
             [
              0.4444444444444444,
              "#bd3786"
             ],
             [
              0.5555555555555556,
              "#d8576b"
             ],
             [
              0.6666666666666666,
              "#ed7953"
             ],
             [
              0.7777777777777778,
              "#fb9f3a"
             ],
             [
              0.8888888888888888,
              "#fdca26"
             ],
             [
              1,
              "#f0f921"
             ]
            ],
            "type": "heatmapgl"
           }
          ],
          "histogram": [
           {
            "marker": {
             "pattern": {
              "fillmode": "overlay",
              "size": 10,
              "solidity": 0.2
             }
            },
            "type": "histogram"
           }
          ],
          "histogram2d": [
           {
            "colorbar": {
             "outlinewidth": 0,
             "ticks": ""
            },
            "colorscale": [
             [
              0,
              "#0d0887"
             ],
             [
              0.1111111111111111,
              "#46039f"
             ],
             [
              0.2222222222222222,
              "#7201a8"
             ],
             [
              0.3333333333333333,
              "#9c179e"
             ],
             [
              0.4444444444444444,
              "#bd3786"
             ],
             [
              0.5555555555555556,
              "#d8576b"
             ],
             [
              0.6666666666666666,
              "#ed7953"
             ],
             [
              0.7777777777777778,
              "#fb9f3a"
             ],
             [
              0.8888888888888888,
              "#fdca26"
             ],
             [
              1,
              "#f0f921"
             ]
            ],
            "type": "histogram2d"
           }
          ],
          "histogram2dcontour": [
           {
            "colorbar": {
             "outlinewidth": 0,
             "ticks": ""
            },
            "colorscale": [
             [
              0,
              "#0d0887"
             ],
             [
              0.1111111111111111,
              "#46039f"
             ],
             [
              0.2222222222222222,
              "#7201a8"
             ],
             [
              0.3333333333333333,
              "#9c179e"
             ],
             [
              0.4444444444444444,
              "#bd3786"
             ],
             [
              0.5555555555555556,
              "#d8576b"
             ],
             [
              0.6666666666666666,
              "#ed7953"
             ],
             [
              0.7777777777777778,
              "#fb9f3a"
             ],
             [
              0.8888888888888888,
              "#fdca26"
             ],
             [
              1,
              "#f0f921"
             ]
            ],
            "type": "histogram2dcontour"
           }
          ],
          "mesh3d": [
           {
            "colorbar": {
             "outlinewidth": 0,
             "ticks": ""
            },
            "type": "mesh3d"
           }
          ],
          "parcoords": [
           {
            "line": {
             "colorbar": {
              "outlinewidth": 0,
              "ticks": ""
             }
            },
            "type": "parcoords"
           }
          ],
          "pie": [
           {
            "automargin": true,
            "type": "pie"
           }
          ],
          "scatter": [
           {
            "fillpattern": {
             "fillmode": "overlay",
             "size": 10,
             "solidity": 0.2
            },
            "type": "scatter"
           }
          ],
          "scatter3d": [
           {
            "line": {
             "colorbar": {
              "outlinewidth": 0,
              "ticks": ""
             }
            },
            "marker": {
             "colorbar": {
              "outlinewidth": 0,
              "ticks": ""
             }
            },
            "type": "scatter3d"
           }
          ],
          "scattercarpet": [
           {
            "marker": {
             "colorbar": {
              "outlinewidth": 0,
              "ticks": ""
             }
            },
            "type": "scattercarpet"
           }
          ],
          "scattergeo": [
           {
            "marker": {
             "colorbar": {
              "outlinewidth": 0,
              "ticks": ""
             }
            },
            "type": "scattergeo"
           }
          ],
          "scattergl": [
           {
            "marker": {
             "colorbar": {
              "outlinewidth": 0,
              "ticks": ""
             }
            },
            "type": "scattergl"
           }
          ],
          "scattermapbox": [
           {
            "marker": {
             "colorbar": {
              "outlinewidth": 0,
              "ticks": ""
             }
            },
            "type": "scattermapbox"
           }
          ],
          "scatterpolar": [
           {
            "marker": {
             "colorbar": {
              "outlinewidth": 0,
              "ticks": ""
             }
            },
            "type": "scatterpolar"
           }
          ],
          "scatterpolargl": [
           {
            "marker": {
             "colorbar": {
              "outlinewidth": 0,
              "ticks": ""
             }
            },
            "type": "scatterpolargl"
           }
          ],
          "scatterternary": [
           {
            "marker": {
             "colorbar": {
              "outlinewidth": 0,
              "ticks": ""
             }
            },
            "type": "scatterternary"
           }
          ],
          "surface": [
           {
            "colorbar": {
             "outlinewidth": 0,
             "ticks": ""
            },
            "colorscale": [
             [
              0,
              "#0d0887"
             ],
             [
              0.1111111111111111,
              "#46039f"
             ],
             [
              0.2222222222222222,
              "#7201a8"
             ],
             [
              0.3333333333333333,
              "#9c179e"
             ],
             [
              0.4444444444444444,
              "#bd3786"
             ],
             [
              0.5555555555555556,
              "#d8576b"
             ],
             [
              0.6666666666666666,
              "#ed7953"
             ],
             [
              0.7777777777777778,
              "#fb9f3a"
             ],
             [
              0.8888888888888888,
              "#fdca26"
             ],
             [
              1,
              "#f0f921"
             ]
            ],
            "type": "surface"
           }
          ],
          "table": [
           {
            "cells": {
             "fill": {
              "color": "#EBF0F8"
             },
             "line": {
              "color": "white"
             }
            },
            "header": {
             "fill": {
              "color": "#C8D4E3"
             },
             "line": {
              "color": "white"
             }
            },
            "type": "table"
           }
          ]
         },
         "layout": {
          "annotationdefaults": {
           "arrowcolor": "#2a3f5f",
           "arrowhead": 0,
           "arrowwidth": 1
          },
          "autotypenumbers": "strict",
          "coloraxis": {
           "colorbar": {
            "outlinewidth": 0,
            "ticks": ""
           }
          },
          "colorscale": {
           "diverging": [
            [
             0,
             "#8e0152"
            ],
            [
             0.1,
             "#c51b7d"
            ],
            [
             0.2,
             "#de77ae"
            ],
            [
             0.3,
             "#f1b6da"
            ],
            [
             0.4,
             "#fde0ef"
            ],
            [
             0.5,
             "#f7f7f7"
            ],
            [
             0.6,
             "#e6f5d0"
            ],
            [
             0.7,
             "#b8e186"
            ],
            [
             0.8,
             "#7fbc41"
            ],
            [
             0.9,
             "#4d9221"
            ],
            [
             1,
             "#276419"
            ]
           ],
           "sequential": [
            [
             0,
             "#0d0887"
            ],
            [
             0.1111111111111111,
             "#46039f"
            ],
            [
             0.2222222222222222,
             "#7201a8"
            ],
            [
             0.3333333333333333,
             "#9c179e"
            ],
            [
             0.4444444444444444,
             "#bd3786"
            ],
            [
             0.5555555555555556,
             "#d8576b"
            ],
            [
             0.6666666666666666,
             "#ed7953"
            ],
            [
             0.7777777777777778,
             "#fb9f3a"
            ],
            [
             0.8888888888888888,
             "#fdca26"
            ],
            [
             1,
             "#f0f921"
            ]
           ],
           "sequentialminus": [
            [
             0,
             "#0d0887"
            ],
            [
             0.1111111111111111,
             "#46039f"
            ],
            [
             0.2222222222222222,
             "#7201a8"
            ],
            [
             0.3333333333333333,
             "#9c179e"
            ],
            [
             0.4444444444444444,
             "#bd3786"
            ],
            [
             0.5555555555555556,
             "#d8576b"
            ],
            [
             0.6666666666666666,
             "#ed7953"
            ],
            [
             0.7777777777777778,
             "#fb9f3a"
            ],
            [
             0.8888888888888888,
             "#fdca26"
            ],
            [
             1,
             "#f0f921"
            ]
           ]
          },
          "colorway": [
           "#636efa",
           "#EF553B",
           "#00cc96",
           "#ab63fa",
           "#FFA15A",
           "#19d3f3",
           "#FF6692",
           "#B6E880",
           "#FF97FF",
           "#FECB52"
          ],
          "font": {
           "color": "#2a3f5f"
          },
          "geo": {
           "bgcolor": "white",
           "lakecolor": "white",
           "landcolor": "#E5ECF6",
           "showlakes": true,
           "showland": true,
           "subunitcolor": "white"
          },
          "hoverlabel": {
           "align": "left"
          },
          "hovermode": "closest",
          "mapbox": {
           "style": "light"
          },
          "paper_bgcolor": "white",
          "plot_bgcolor": "#E5ECF6",
          "polar": {
           "angularaxis": {
            "gridcolor": "white",
            "linecolor": "white",
            "ticks": ""
           },
           "bgcolor": "#E5ECF6",
           "radialaxis": {
            "gridcolor": "white",
            "linecolor": "white",
            "ticks": ""
           }
          },
          "scene": {
           "xaxis": {
            "backgroundcolor": "#E5ECF6",
            "gridcolor": "white",
            "gridwidth": 2,
            "linecolor": "white",
            "showbackground": true,
            "ticks": "",
            "zerolinecolor": "white"
           },
           "yaxis": {
            "backgroundcolor": "#E5ECF6",
            "gridcolor": "white",
            "gridwidth": 2,
            "linecolor": "white",
            "showbackground": true,
            "ticks": "",
            "zerolinecolor": "white"
           },
           "zaxis": {
            "backgroundcolor": "#E5ECF6",
            "gridcolor": "white",
            "gridwidth": 2,
            "linecolor": "white",
            "showbackground": true,
            "ticks": "",
            "zerolinecolor": "white"
           }
          },
          "shapedefaults": {
           "line": {
            "color": "#2a3f5f"
           }
          },
          "ternary": {
           "aaxis": {
            "gridcolor": "white",
            "linecolor": "white",
            "ticks": ""
           },
           "baxis": {
            "gridcolor": "white",
            "linecolor": "white",
            "ticks": ""
           },
           "bgcolor": "#E5ECF6",
           "caxis": {
            "gridcolor": "white",
            "linecolor": "white",
            "ticks": ""
           }
          },
          "title": {
           "x": 0.05
          },
          "xaxis": {
           "automargin": true,
           "gridcolor": "white",
           "linecolor": "white",
           "ticks": "",
           "title": {
            "standoff": 15
           },
           "zerolinecolor": "white",
           "zerolinewidth": 2
          },
          "yaxis": {
           "automargin": true,
           "gridcolor": "white",
           "linecolor": "white",
           "ticks": "",
           "title": {
            "standoff": 15
           },
           "zerolinecolor": "white",
           "zerolinewidth": 2
          }
         }
        },
        "title": {
         "text": "Type de local majoritairement concernés par une transaction immobilière dans le département La Réunion (2022)"
        }
       }
      },
      "text/html": [
       "<div>                            <div id=\"c26033b3-bb2a-487a-a73c-d0fe60915826\" class=\"plotly-graph-div\" style=\"height:525px; width:100%;\"></div>            <script type=\"text/javascript\">                require([\"plotly\"], function(Plotly) {                    window.PLOTLYENV=window.PLOTLYENV || {};                                    if (document.getElementById(\"c26033b3-bb2a-487a-a73c-d0fe60915826\")) {                    Plotly.newPlot(                        \"c26033b3-bb2a-487a-a73c-d0fe60915826\",                        [{\"colorscale\":[[0.0,\"#636efa\"],[1.0,\"#636efa\"]],\"customdata\":[[\"LES AVIRONS\",54],[\"BRAS-PANON\",25],[\"ENTRE DEUX\",31],[\"L ETANG SALE\",91],[\"PETITE ILE\",62],[\"LA PLAINE DES PALMISTES\",73],[\"SAINT-ANDRE\",145],[\"SAINT-BENOIT\",92],[\"SAINT-JOSEPH\",221],[\"SAINT-LEU\",161],[\"SAINT-LOUIS\",166],[\"SAINT PHILIPPE\",29],[\"SAINTE MARIE\",106],[\"SAINTE ROSE\",39],[\"SALAZIE\",22],[\"LE TAMPON\",328],[\"CILAOS\",16]],\"featureidkey\":\"properties.code\",\"geojson\":\"https://raw.githubusercontent.com/gregoiredavid/france-geojson/master/departements/974-la-reunion/communes-974-la-reunion.geojson\",\"hovertemplate\":\"Type local=Maison<br>Code INSEE=%{location}<br>Commune=%{customdata[0]}<br>Locaux concern\\u00e9s=%{customdata[1]}<extra></extra>\",\"locations\":[\"97401\",\"97402\",\"97403\",\"97404\",\"97405\",\"97406\",\"97409\",\"97410\",\"97412\",\"97413\",\"97414\",\"97417\",\"97418\",\"97419\",\"97421\",\"97422\",\"97424\"],\"name\":\"Maison\",\"showlegend\":true,\"showscale\":false,\"subplot\":\"mapbox\",\"z\":[1,1,1,1,1,1,1,1,1,1,1,1,1,1,1,1,1],\"type\":\"choroplethmapbox\"},{\"colorscale\":[[0.0,\"#EF553B\"],[1.0,\"#EF553B\"]],\"customdata\":[[\"LE PORT\",61],[\"LA POSSESSION\",397],[\"LES TROIS BASSINS\",32]],\"featureidkey\":\"properties.code\",\"geojson\":\"https://raw.githubusercontent.com/gregoiredavid/france-geojson/master/departements/974-la-reunion/communes-974-la-reunion.geojson\",\"hovertemplate\":\"Type local=Appartement<br>Code INSEE=%{location}<br>Commune=%{customdata[0]}<br>Locaux concern\\u00e9s=%{customdata[1]}<extra></extra>\",\"locations\":[\"97407\",\"97408\",\"97423\"],\"name\":\"Appartement\",\"showlegend\":true,\"showscale\":false,\"subplot\":\"mapbox\",\"z\":[1,1,1],\"type\":\"choroplethmapbox\"},{\"colorscale\":[[0.0,\"#00cc96\"],[1.0,\"#00cc96\"]],\"customdata\":[[\"SAINT DENIS\",1291],[\"SAINT-PAUL\",435],[\"SAINT PIERRE\",339],[\"SAINTE SUZANNE\",146]],\"featureidkey\":\"properties.code\",\"geojson\":\"https://raw.githubusercontent.com/gregoiredavid/france-geojson/master/departements/974-la-reunion/communes-974-la-reunion.geojson\",\"hovertemplate\":\"Type local=D\\u00e9pendance<br>Code INSEE=%{location}<br>Commune=%{customdata[0]}<br>Locaux concern\\u00e9s=%{customdata[1]}<extra></extra>\",\"locations\":[\"97411\",\"97415\",\"97416\",\"97420\"],\"name\":\"D\\u00e9pendance\",\"showlegend\":true,\"showscale\":false,\"subplot\":\"mapbox\",\"z\":[1,1,1,1],\"type\":\"choroplethmapbox\"}],                        {\"template\":{\"data\":{\"histogram2dcontour\":[{\"type\":\"histogram2dcontour\",\"colorbar\":{\"outlinewidth\":0,\"ticks\":\"\"},\"colorscale\":[[0.0,\"#0d0887\"],[0.1111111111111111,\"#46039f\"],[0.2222222222222222,\"#7201a8\"],[0.3333333333333333,\"#9c179e\"],[0.4444444444444444,\"#bd3786\"],[0.5555555555555556,\"#d8576b\"],[0.6666666666666666,\"#ed7953\"],[0.7777777777777778,\"#fb9f3a\"],[0.8888888888888888,\"#fdca26\"],[1.0,\"#f0f921\"]]}],\"choropleth\":[{\"type\":\"choropleth\",\"colorbar\":{\"outlinewidth\":0,\"ticks\":\"\"}}],\"histogram2d\":[{\"type\":\"histogram2d\",\"colorbar\":{\"outlinewidth\":0,\"ticks\":\"\"},\"colorscale\":[[0.0,\"#0d0887\"],[0.1111111111111111,\"#46039f\"],[0.2222222222222222,\"#7201a8\"],[0.3333333333333333,\"#9c179e\"],[0.4444444444444444,\"#bd3786\"],[0.5555555555555556,\"#d8576b\"],[0.6666666666666666,\"#ed7953\"],[0.7777777777777778,\"#fb9f3a\"],[0.8888888888888888,\"#fdca26\"],[1.0,\"#f0f921\"]]}],\"heatmap\":[{\"type\":\"heatmap\",\"colorbar\":{\"outlinewidth\":0,\"ticks\":\"\"},\"colorscale\":[[0.0,\"#0d0887\"],[0.1111111111111111,\"#46039f\"],[0.2222222222222222,\"#7201a8\"],[0.3333333333333333,\"#9c179e\"],[0.4444444444444444,\"#bd3786\"],[0.5555555555555556,\"#d8576b\"],[0.6666666666666666,\"#ed7953\"],[0.7777777777777778,\"#fb9f3a\"],[0.8888888888888888,\"#fdca26\"],[1.0,\"#f0f921\"]]}],\"heatmapgl\":[{\"type\":\"heatmapgl\",\"colorbar\":{\"outlinewidth\":0,\"ticks\":\"\"},\"colorscale\":[[0.0,\"#0d0887\"],[0.1111111111111111,\"#46039f\"],[0.2222222222222222,\"#7201a8\"],[0.3333333333333333,\"#9c179e\"],[0.4444444444444444,\"#bd3786\"],[0.5555555555555556,\"#d8576b\"],[0.6666666666666666,\"#ed7953\"],[0.7777777777777778,\"#fb9f3a\"],[0.8888888888888888,\"#fdca26\"],[1.0,\"#f0f921\"]]}],\"contourcarpet\":[{\"type\":\"contourcarpet\",\"colorbar\":{\"outlinewidth\":0,\"ticks\":\"\"}}],\"contour\":[{\"type\":\"contour\",\"colorbar\":{\"outlinewidth\":0,\"ticks\":\"\"},\"colorscale\":[[0.0,\"#0d0887\"],[0.1111111111111111,\"#46039f\"],[0.2222222222222222,\"#7201a8\"],[0.3333333333333333,\"#9c179e\"],[0.4444444444444444,\"#bd3786\"],[0.5555555555555556,\"#d8576b\"],[0.6666666666666666,\"#ed7953\"],[0.7777777777777778,\"#fb9f3a\"],[0.8888888888888888,\"#fdca26\"],[1.0,\"#f0f921\"]]}],\"surface\":[{\"type\":\"surface\",\"colorbar\":{\"outlinewidth\":0,\"ticks\":\"\"},\"colorscale\":[[0.0,\"#0d0887\"],[0.1111111111111111,\"#46039f\"],[0.2222222222222222,\"#7201a8\"],[0.3333333333333333,\"#9c179e\"],[0.4444444444444444,\"#bd3786\"],[0.5555555555555556,\"#d8576b\"],[0.6666666666666666,\"#ed7953\"],[0.7777777777777778,\"#fb9f3a\"],[0.8888888888888888,\"#fdca26\"],[1.0,\"#f0f921\"]]}],\"mesh3d\":[{\"type\":\"mesh3d\",\"colorbar\":{\"outlinewidth\":0,\"ticks\":\"\"}}],\"scatter\":[{\"fillpattern\":{\"fillmode\":\"overlay\",\"size\":10,\"solidity\":0.2},\"type\":\"scatter\"}],\"parcoords\":[{\"type\":\"parcoords\",\"line\":{\"colorbar\":{\"outlinewidth\":0,\"ticks\":\"\"}}}],\"scatterpolargl\":[{\"type\":\"scatterpolargl\",\"marker\":{\"colorbar\":{\"outlinewidth\":0,\"ticks\":\"\"}}}],\"bar\":[{\"error_x\":{\"color\":\"#2a3f5f\"},\"error_y\":{\"color\":\"#2a3f5f\"},\"marker\":{\"line\":{\"color\":\"#E5ECF6\",\"width\":0.5},\"pattern\":{\"fillmode\":\"overlay\",\"size\":10,\"solidity\":0.2}},\"type\":\"bar\"}],\"scattergeo\":[{\"type\":\"scattergeo\",\"marker\":{\"colorbar\":{\"outlinewidth\":0,\"ticks\":\"\"}}}],\"scatterpolar\":[{\"type\":\"scatterpolar\",\"marker\":{\"colorbar\":{\"outlinewidth\":0,\"ticks\":\"\"}}}],\"histogram\":[{\"marker\":{\"pattern\":{\"fillmode\":\"overlay\",\"size\":10,\"solidity\":0.2}},\"type\":\"histogram\"}],\"scattergl\":[{\"type\":\"scattergl\",\"marker\":{\"colorbar\":{\"outlinewidth\":0,\"ticks\":\"\"}}}],\"scatter3d\":[{\"type\":\"scatter3d\",\"line\":{\"colorbar\":{\"outlinewidth\":0,\"ticks\":\"\"}},\"marker\":{\"colorbar\":{\"outlinewidth\":0,\"ticks\":\"\"}}}],\"scattermapbox\":[{\"type\":\"scattermapbox\",\"marker\":{\"colorbar\":{\"outlinewidth\":0,\"ticks\":\"\"}}}],\"scatterternary\":[{\"type\":\"scatterternary\",\"marker\":{\"colorbar\":{\"outlinewidth\":0,\"ticks\":\"\"}}}],\"scattercarpet\":[{\"type\":\"scattercarpet\",\"marker\":{\"colorbar\":{\"outlinewidth\":0,\"ticks\":\"\"}}}],\"carpet\":[{\"aaxis\":{\"endlinecolor\":\"#2a3f5f\",\"gridcolor\":\"white\",\"linecolor\":\"white\",\"minorgridcolor\":\"white\",\"startlinecolor\":\"#2a3f5f\"},\"baxis\":{\"endlinecolor\":\"#2a3f5f\",\"gridcolor\":\"white\",\"linecolor\":\"white\",\"minorgridcolor\":\"white\",\"startlinecolor\":\"#2a3f5f\"},\"type\":\"carpet\"}],\"table\":[{\"cells\":{\"fill\":{\"color\":\"#EBF0F8\"},\"line\":{\"color\":\"white\"}},\"header\":{\"fill\":{\"color\":\"#C8D4E3\"},\"line\":{\"color\":\"white\"}},\"type\":\"table\"}],\"barpolar\":[{\"marker\":{\"line\":{\"color\":\"#E5ECF6\",\"width\":0.5},\"pattern\":{\"fillmode\":\"overlay\",\"size\":10,\"solidity\":0.2}},\"type\":\"barpolar\"}],\"pie\":[{\"automargin\":true,\"type\":\"pie\"}]},\"layout\":{\"autotypenumbers\":\"strict\",\"colorway\":[\"#636efa\",\"#EF553B\",\"#00cc96\",\"#ab63fa\",\"#FFA15A\",\"#19d3f3\",\"#FF6692\",\"#B6E880\",\"#FF97FF\",\"#FECB52\"],\"font\":{\"color\":\"#2a3f5f\"},\"hovermode\":\"closest\",\"hoverlabel\":{\"align\":\"left\"},\"paper_bgcolor\":\"white\",\"plot_bgcolor\":\"#E5ECF6\",\"polar\":{\"bgcolor\":\"#E5ECF6\",\"angularaxis\":{\"gridcolor\":\"white\",\"linecolor\":\"white\",\"ticks\":\"\"},\"radialaxis\":{\"gridcolor\":\"white\",\"linecolor\":\"white\",\"ticks\":\"\"}},\"ternary\":{\"bgcolor\":\"#E5ECF6\",\"aaxis\":{\"gridcolor\":\"white\",\"linecolor\":\"white\",\"ticks\":\"\"},\"baxis\":{\"gridcolor\":\"white\",\"linecolor\":\"white\",\"ticks\":\"\"},\"caxis\":{\"gridcolor\":\"white\",\"linecolor\":\"white\",\"ticks\":\"\"}},\"coloraxis\":{\"colorbar\":{\"outlinewidth\":0,\"ticks\":\"\"}},\"colorscale\":{\"sequential\":[[0.0,\"#0d0887\"],[0.1111111111111111,\"#46039f\"],[0.2222222222222222,\"#7201a8\"],[0.3333333333333333,\"#9c179e\"],[0.4444444444444444,\"#bd3786\"],[0.5555555555555556,\"#d8576b\"],[0.6666666666666666,\"#ed7953\"],[0.7777777777777778,\"#fb9f3a\"],[0.8888888888888888,\"#fdca26\"],[1.0,\"#f0f921\"]],\"sequentialminus\":[[0.0,\"#0d0887\"],[0.1111111111111111,\"#46039f\"],[0.2222222222222222,\"#7201a8\"],[0.3333333333333333,\"#9c179e\"],[0.4444444444444444,\"#bd3786\"],[0.5555555555555556,\"#d8576b\"],[0.6666666666666666,\"#ed7953\"],[0.7777777777777778,\"#fb9f3a\"],[0.8888888888888888,\"#fdca26\"],[1.0,\"#f0f921\"]],\"diverging\":[[0,\"#8e0152\"],[0.1,\"#c51b7d\"],[0.2,\"#de77ae\"],[0.3,\"#f1b6da\"],[0.4,\"#fde0ef\"],[0.5,\"#f7f7f7\"],[0.6,\"#e6f5d0\"],[0.7,\"#b8e186\"],[0.8,\"#7fbc41\"],[0.9,\"#4d9221\"],[1,\"#276419\"]]},\"xaxis\":{\"gridcolor\":\"white\",\"linecolor\":\"white\",\"ticks\":\"\",\"title\":{\"standoff\":15},\"zerolinecolor\":\"white\",\"automargin\":true,\"zerolinewidth\":2},\"yaxis\":{\"gridcolor\":\"white\",\"linecolor\":\"white\",\"ticks\":\"\",\"title\":{\"standoff\":15},\"zerolinecolor\":\"white\",\"automargin\":true,\"zerolinewidth\":2},\"scene\":{\"xaxis\":{\"backgroundcolor\":\"#E5ECF6\",\"gridcolor\":\"white\",\"linecolor\":\"white\",\"showbackground\":true,\"ticks\":\"\",\"zerolinecolor\":\"white\",\"gridwidth\":2},\"yaxis\":{\"backgroundcolor\":\"#E5ECF6\",\"gridcolor\":\"white\",\"linecolor\":\"white\",\"showbackground\":true,\"ticks\":\"\",\"zerolinecolor\":\"white\",\"gridwidth\":2},\"zaxis\":{\"backgroundcolor\":\"#E5ECF6\",\"gridcolor\":\"white\",\"linecolor\":\"white\",\"showbackground\":true,\"ticks\":\"\",\"zerolinecolor\":\"white\",\"gridwidth\":2}},\"shapedefaults\":{\"line\":{\"color\":\"#2a3f5f\"}},\"annotationdefaults\":{\"arrowcolor\":\"#2a3f5f\",\"arrowhead\":0,\"arrowwidth\":1},\"geo\":{\"bgcolor\":\"white\",\"landcolor\":\"#E5ECF6\",\"subunitcolor\":\"white\",\"showland\":true,\"showlakes\":true,\"lakecolor\":\"white\"},\"title\":{\"x\":0.05},\"mapbox\":{\"style\":\"light\"}}},\"mapbox\":{\"domain\":{\"x\":[0.0,1.0],\"y\":[0.0,1.0]},\"center\":{\"lat\":48.7517,\"lon\":2.7073},\"zoom\":4,\"style\":\"carto-positron\"},\"legend\":{\"title\":{\"text\":\"Type local\"},\"tracegroupgap\":0},\"title\":{\"text\":\"Type de local majoritairement concern\\u00e9s par une transaction immobili\\u00e8re dans le d\\u00e9partement La R\\u00e9union (2022)\"}},                        {\"responsive\": true}                    ).then(function(){\n",
       "                            \n",
       "var gd = document.getElementById('c26033b3-bb2a-487a-a73c-d0fe60915826');\n",
       "var x = new MutationObserver(function (mutations, observer) {{\n",
       "        var display = window.getComputedStyle(gd).display;\n",
       "        if (!display || display === 'none') {{\n",
       "            console.log([gd, 'removed!']);\n",
       "            Plotly.purge(gd);\n",
       "            observer.disconnect();\n",
       "        }}\n",
       "}});\n",
       "\n",
       "// Listen for the removal of the full notebook cells\n",
       "var notebookContainer = gd.closest('#notebook-container');\n",
       "if (notebookContainer) {{\n",
       "    x.observe(notebookContainer, {childList: true});\n",
       "}}\n",
       "\n",
       "// Listen for the clearing of the current output cell\n",
       "var outputEl = gd.closest('.output');\n",
       "if (outputEl) {{\n",
       "    x.observe(outputEl, {childList: true});\n",
       "}}\n",
       "\n",
       "                        })                };                });            </script>        </div>"
      ]
     },
     "metadata": {},
     "output_type": "display_data"
    }
   ],
   "source": [
    "#Type de local majoritaire dans les communes d'un petit département rural (Vaucluse) *\n",
    "from unidecode import unidecode\n",
    "\n",
    "def getMapDataURL_Departement(codeDep):\n",
    "    nomDep = departements.get(codeDep)\n",
    "    nomDepFormate = unidecode(nomDep.lower())\n",
    "    nomDepFormate = nomDepFormate.replace(' ', '-')\n",
    "    return nomDep, f'https://raw.githubusercontent.com/gregoiredavid/france-geojson/master/departements/{codeDep}-{nomDepFormate}/communes-{codeDep}-{nomDepFormate}.geojson'\n",
    "\n",
    "def getCentreDepartement(codeINSEE):\n",
    "    response = requests.get(f'https://geo.api.gouv.fr/communes/{codeINSEE}?fields=centre&format=json&geometry=centre')\n",
    "    if response.status_code == 200:\n",
    "        donnees = response.json()\n",
    "        centre = donnees.get('centre', {}).get('coordinates', [48.89832425138175, 2.2356448513901768])\n",
    "        return centre\n",
    "    else: \n",
    "        return [48.89832425138175, 2.2356448513901768]\n",
    "    \n",
    "codeDep = '974'\n",
    "vauclusedata = data[data['Code departement'] == codeDep]\n",
    "nomDep, MapDataURL = getMapDataURL_Departement(codeDep)\n",
    "print(MapDataURL)\n",
    "\n",
    "\"\"\"\n",
    "vauclusedata.loc[vauclusedata['Commune'] == 'CABRIERES-D AIGUES', 'Commune'] = 'CABRIERES-D\\'AIGUES'\n",
    "vauclusedata.loc[vauclusedata['Commune'] == 'CABRIERES-D AVIGNON', 'Commune'] = 'CABRIERES-D\\'AVIGNON'\n",
    "vauclusedata.loc[vauclusedata['Commune'] == 'CRESTET (LE)', 'Commune'] = 'CRESTET'\n",
    "vauclusedata.loc[vauclusedata['Commune'] == 'L ISLE SUR LA SORGUE', 'Commune'] = 'L\\'ISLE SUR LA SORGUE'\n",
    "vauclusedata.loc[vauclusedata['Commune'] == 'LA MOTTE D AIGUES', 'Commune'] = 'LA MOTTE D\\'AIGUES'\n",
    "vauclusedata.loc[vauclusedata['Commune'] == 'LA TOUR D AIGUES', 'Commune'] = 'LA TOUR D\\'AIGUES'\n",
    "vauclusedata.loc[vauclusedata['Commune'] == 'LES TAILLADES', 'Commune'] = 'TAILLADES'\n",
    "vauclusedata.loc[vauclusedata['Commune'] == 'PEYPIN-D AIGUES', 'Commune'] = 'PEYPIN-D\\'AIGUES'\n",
    "vauclusedata.loc[vauclusedata['Commune'] == 'SAINT-MARCELIN-LES-VAISON', 'Commune'] = 'SAINT-MARCELLIN-LES-VAISON'\n",
    "vauclusedata.loc[vauclusedata['Commune'] == 'SAVOILLANS', 'Commune'] = 'SAVOILLAN'\n",
    "vauclusedata.loc[vauclusedata['Commune'] == 'ST HIPPOLYTE LE GRAVERON', 'Commune'] = 'Saint-Hippolyte-le-Graveyron'\n",
    "\"\"\"\n",
    "\n",
    "vauclusedata = vauclusedata[['Code INSEE', 'Commune', 'Type local']]\n",
    "locaux_counts = vauclusedata.groupby(['Code INSEE', 'Commune', 'Type local']).size().reset_index(name='Locaux concernés')\n",
    "locaux_majoritaires = locaux_counts.groupby('Code INSEE')['Locaux concernés'].idxmax()\n",
    "vauclusedata = locaux_counts.loc[locaux_majoritaires]\n",
    "\n",
    "print(vauclusedata)\n",
    "\n",
    "\"\"\"\n",
    "import requests\n",
    "\n",
    "def codeINSEE(nomCommune, codeDep):\n",
    "    response = requests.get(f'https://geo.api.gouv.fr/communes?nom={nomCommune}&codeDepartement={codeDep}&fields=code&format=json')\n",
    "    if response.status_code == 200:\n",
    "        response_json = response.json()\n",
    "        return response_json[0]['code']\n",
    "    else: \n",
    "        print(nomCommune)\n",
    "        return codeINSEE \n",
    "\"\"\"\n",
    "fig = px.choropleth_mapbox(vauclusedata, geojson=MapDataURL, color='Type local',\n",
    "                           locations=\"Code INSEE\", featureidkey=\"properties.code\",center={\"lat\": 48.7517, \"lon\": 2.7073}, hover_data=['Commune', 'Locaux concernés'],\n",
    "                           mapbox_style=\"carto-positron\", zoom=4, title=f'Type de local majoritairement concernés par une transaction immobilière dans le département {nomDep} (2022)')\n",
    "fig.show()"
   ]
  },
  {
   "cell_type": "code",
   "execution_count": null,
   "metadata": {},
   "outputs": [],
   "source": [
    "#pour les terrains non bâtis, quel type de culture est majoritaire\n",
    "typeculture_nat = data[pd.isna(data['Nature culture speciale']) == False]\n",
    "print(typeculture_nat)\n",
    "\n",
    "culture_counts = typeculture_nat.groupby(['Code departement','Nature culture speciale']).size().reset_index(name='Nombre de cultures concernées')\n",
    "culture_majoritaires = culture_counts.groupby('Code departement')['Nombre de cultures concernées'].idxmax()\n",
    "typeculture_nat = culture_counts.loc[culture_majoritaires]\n",
    "\n",
    "print(typeculture_nat)\n",
    "\n",
    "with open('departements-avec-outre-mer.geojson','r') as response:\n",
    "    map = json.load(response)\n",
    "# Plot\n",
    "fig = px.choropleth_mapbox(typeculture_nat, geojson=map, color='Nature culture speciale',\n",
    "                           locations=\"Code departement\", featureidkey=\"properties.code\",center={\"lat\": 48.7517, \"lon\": 2.7073},\n",
    "                           mapbox_style=\"carto-positron\", zoom=4, title='Type de local ayant la valeur foncière moyenne la plus forte (2022)')\n",
    "fig.show()"
   ]
  }
 ],
 "metadata": {
  "accelerator": "GPU",
  "colab": {
   "provenance": []
  },
  "gpuClass": "standard",
  "kernelspec": {
   "display_name": "Python 3",
   "language": "python",
   "name": "python3"
  },
  "language_info": {
   "codemirror_mode": {
    "name": "ipython",
    "version": 3
   },
   "file_extension": ".py",
   "mimetype": "text/x-python",
   "name": "python",
   "nbconvert_exporter": "python",
   "pygments_lexer": "ipython3",
   "version": "3.8.5"
  }
 },
 "nbformat": 4,
 "nbformat_minor": 1
}
