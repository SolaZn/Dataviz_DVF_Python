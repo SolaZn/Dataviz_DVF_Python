{
 "cells": [
  {
   "cell_type": "code",
   "execution_count": 124,
   "metadata": {
    "colab": {
     "base_uri": "https://localhost:8080/",
     "height": 380
    },
    "id": "ybT0EC4DwP2k",
    "outputId": "ae726c4e-edc9-4cb6-b038-b69b254521f9"
   },
   "outputs": [],
   "source": [
    "#Importations\n",
    "import pandas as pd\n",
    "import numpy as np\n",
    "import matplotlib.pyplot as plt\n",
    "#import plotly.express as px\n"
   ]
  },
  {
   "cell_type": "code",
   "execution_count": 125,
   "metadata": {},
   "outputs": [
    {
     "name": "stderr",
     "output_type": "stream",
     "text": [
      "C:\\Users\\pierr\\anaconda3\\lib\\site-packages\\IPython\\core\\interactiveshell.py:3071: DtypeWarning: Columns (18,23,24,26,28,41) have mixed types.Specify dtype option on import or set low_memory=False.\n",
      "  has_raised = await self.run_ast_nodes(code_ast.body, cell_name,\n"
     ]
    },
    {
     "name": "stdout",
     "output_type": "stream",
     "text": [
      "         Identifiant de document  Reference document  1 Articles CGI  \\\n",
      "0                            NaN                 NaN             NaN   \n",
      "1                            NaN                 NaN             NaN   \n",
      "2                            NaN                 NaN             NaN   \n",
      "3                            NaN                 NaN             NaN   \n",
      "4                            NaN                 NaN             NaN   \n",
      "...                          ...                 ...             ...   \n",
      "3803880                      NaN                 NaN             NaN   \n",
      "3803881                      NaN                 NaN             NaN   \n",
      "3803882                      NaN                 NaN             NaN   \n",
      "3803883                      NaN                 NaN             NaN   \n",
      "3803884                      NaN                 NaN             NaN   \n",
      "\n",
      "         2 Articles CGI  3 Articles CGI  4 Articles CGI  5 Articles CGI  \\\n",
      "0                   NaN             NaN             NaN             NaN   \n",
      "1                   NaN             NaN             NaN             NaN   \n",
      "2                   NaN             NaN             NaN             NaN   \n",
      "3                   NaN             NaN             NaN             NaN   \n",
      "4                   NaN             NaN             NaN             NaN   \n",
      "...                 ...             ...             ...             ...   \n",
      "3803880             NaN             NaN             NaN             NaN   \n",
      "3803881             NaN             NaN             NaN             NaN   \n",
      "3803882             NaN             NaN             NaN             NaN   \n",
      "3803883             NaN             NaN             NaN             NaN   \n",
      "3803884             NaN             NaN             NaN             NaN   \n",
      "\n",
      "         No disposition Date mutation Nature mutation  ...  \\\n",
      "0                     1    03/01/2022           Vente  ...   \n",
      "1                     1    03/01/2022           Vente  ...   \n",
      "2                     1    03/01/2022           Vente  ...   \n",
      "3                     1    03/01/2022           Vente  ...   \n",
      "4                     1    04/01/2022           Vente  ...   \n",
      "...                 ...           ...             ...  ...   \n",
      "3803880               1    30/12/2022           Vente  ...   \n",
      "3803881               1    19/12/2022           Vente  ...   \n",
      "3803882               1    19/12/2022           Vente  ...   \n",
      "3803883               1    30/12/2022           Vente  ...   \n",
      "3803884               1    21/11/2022           Vente  ...   \n",
      "\n",
      "         Surface Carrez du 5eme lot  Nombre de lots Code type local  \\\n",
      "0                               NaN               1             2.0   \n",
      "1                               NaN               0             NaN   \n",
      "2                               NaN               0             NaN   \n",
      "3                               NaN               1             2.0   \n",
      "4                               NaN               0             NaN   \n",
      "...                             ...             ...             ...   \n",
      "3803880                         NaN               1             4.0   \n",
      "3803881                         NaN               2             3.0   \n",
      "3803882                         NaN               2             2.0   \n",
      "3803883                         NaN               1             3.0   \n",
      "3803884                         NaN               1             3.0   \n",
      "\n",
      "                                       Type local Identifiant local  \\\n",
      "0                                     Appartement               NaN   \n",
      "1                                             NaN               NaN   \n",
      "2                                             NaN               NaN   \n",
      "3                                     Appartement               NaN   \n",
      "4                                             NaN               NaN   \n",
      "...                                           ...               ...   \n",
      "3803880  Local industriel. commercial ou assimilé               NaN   \n",
      "3803881                                Dépendance               NaN   \n",
      "3803882                               Appartement               NaN   \n",
      "3803883                                Dépendance               NaN   \n",
      "3803884                                Dépendance               NaN   \n",
      "\n",
      "        Surface reelle bati  Nombre pieces principales Nature culture  \\\n",
      "0                      24.0                        1.0            NaN   \n",
      "1                       NaN                        NaN              S   \n",
      "2                       NaN                        NaN              S   \n",
      "3                     140.0                        3.0            NaN   \n",
      "4                       NaN                        NaN              T   \n",
      "...                     ...                        ...            ...   \n",
      "3803880               327.0                        0.0            NaN   \n",
      "3803881                 0.0                        0.0            NaN   \n",
      "3803882                40.0                        3.0            NaN   \n",
      "3803883                 0.0                        0.0            NaN   \n",
      "3803884                 0.0                        0.0            NaN   \n",
      "\n",
      "        Nature culture speciale  Surface terrain  \n",
      "0                           NaN              NaN  \n",
      "1                           NaN             84.0  \n",
      "2                           NaN             88.0  \n",
      "3                           NaN              NaN  \n",
      "4                           NaN            510.0  \n",
      "...                         ...              ...  \n",
      "3803880                     NaN              NaN  \n",
      "3803881                     NaN              NaN  \n",
      "3803882                     NaN              NaN  \n",
      "3803883                     NaN              NaN  \n",
      "3803884                     NaN              NaN  \n",
      "\n",
      "[3803885 rows x 43 columns]\n"
     ]
    }
   ],
   "source": [
    "\n",
    "data = pd.read_csv('valeursfoncieres-2022.txt', sep='|', decimal=',')\n"
   ]
  },
  {
   "cell_type": "code",
   "execution_count": 126,
   "metadata": {},
   "outputs": [
    {
     "name": "stdout",
     "output_type": "stream",
     "text": [
      "<class 'pandas.core.frame.DataFrame'>\n",
      "RangeIndex: 3803885 entries, 0 to 3803884\n",
      "Data columns (total 43 columns):\n",
      " #   Column                      Dtype  \n",
      "---  ------                      -----  \n",
      " 0   Identifiant de document     float64\n",
      " 1   Reference document          float64\n",
      " 2   1 Articles CGI              float64\n",
      " 3   2 Articles CGI              float64\n",
      " 4   3 Articles CGI              float64\n",
      " 5   4 Articles CGI              float64\n",
      " 6   5 Articles CGI              float64\n",
      " 7   No disposition              int64  \n",
      " 8   Date mutation               object \n",
      " 9   Nature mutation             object \n",
      " 10  Valeur fonciere             float64\n",
      " 11  No voie                     float64\n",
      " 12  B/T/Q                       object \n",
      " 13  Type de voie                object \n",
      " 14  Code voie                   object \n",
      " 15  Voie                        object \n",
      " 16  Code postal                 float64\n",
      " 17  Commune                     object \n",
      " 18  Code departement            object \n",
      " 19  Code commune                int64  \n",
      " 20  Prefixe de section          float64\n",
      " 21  Section                     object \n",
      " 22  No plan                     int64  \n",
      " 23  No Volume                   object \n",
      " 24  1er lot                     object \n",
      " 25  Surface Carrez du 1er lot   float64\n",
      " 26  2eme lot                    object \n",
      " 27  Surface Carrez du 2eme lot  float64\n",
      " 28  3eme lot                    object \n",
      " 29  Surface Carrez du 3eme lot  float64\n",
      " 30  4eme lot                    float64\n",
      " 31  Surface Carrez du 4eme lot  float64\n",
      " 32  5eme lot                    float64\n",
      " 33  Surface Carrez du 5eme lot  float64\n",
      " 34  Nombre de lots              int64  \n",
      " 35  Code type local             float64\n",
      " 36  Type local                  object \n",
      " 37  Identifiant local           float64\n",
      " 38  Surface reelle bati         float64\n",
      " 39  Nombre pieces principales   float64\n",
      " 40  Nature culture              object \n",
      " 41  Nature culture speciale     object \n",
      " 42  Surface terrain             float64\n",
      "dtypes: float64(23), int64(4), object(16)\n",
      "memory usage: 1.2+ GB\n"
     ]
    }
   ],
   "source": [
    "data.info()"
   ]
  },
  {
   "cell_type": "code",
   "execution_count": null,
   "metadata": {},
   "outputs": [],
   "source": []
  },
  {
   "cell_type": "code",
   "execution_count": 2,
   "metadata": {
    "id": "QRVihXCYwUNY"
   },
   "outputs": [
    {
     "data": {
      "text/plain": [
       "0         NaN\n",
       "1         NaN\n",
       "2         NaN\n",
       "3         NaN\n",
       "4         NaN\n",
       "           ..\n",
       "3803880   NaN\n",
       "3803881   NaN\n",
       "3803882   NaN\n",
       "3803883   NaN\n",
       "3803884   NaN\n",
       "Name: Identifiant local, Length: 3803885, dtype: float64"
      ]
     },
     "execution_count": 2,
     "metadata": {},
     "output_type": "execute_result"
    }
   ],
   "source": [
    "#1 à 7, 38, \n",
    "data.pop('Identifiant de document')\n",
    "data.pop('Reference document')\n",
    "data.pop('1 Articles CGI')\n",
    "data.pop('2 Articles CGI')\n",
    "data.pop('3 Articles CGI')\n",
    "data.pop('4 Articles CGI')\n",
    "data.pop('5 Articles CGI')\n",
    "data.pop('Identifiant local')"
   ]
  },
  {
   "cell_type": "code",
   "execution_count": 3,
   "metadata": {
    "id": "mLd-wAnfwZ4f"
   },
   "outputs": [
    {
     "name": "stdout",
     "output_type": "stream",
     "text": [
      "         No disposition Date mutation Nature mutation Valeur fonciere  \\\n",
      "0                     1    03/01/2022           Vente        55000,00   \n",
      "1                     1    03/01/2022           Vente       143000,00   \n",
      "2                     1    03/01/2022           Vente       143000,00   \n",
      "3                     1    03/01/2022           Vente       143000,00   \n",
      "4                     1    04/01/2022           Vente          300,00   \n",
      "...                 ...           ...             ...             ...   \n",
      "3803880               1    30/12/2022           Vente      3500000,00   \n",
      "3803881               1    19/12/2022           Vente       525000,00   \n",
      "3803882               1    19/12/2022           Vente       525000,00   \n",
      "3803883               1    30/12/2022           Vente        15500,00   \n",
      "3803884               1    21/11/2022           Vente        30000,00   \n",
      "\n",
      "         No voie B/T/Q Type de voie Code voie               Voie  Code postal  \\\n",
      "0           13.0   NaN          RUE      2280      DE LA LIBERTE       1000.0   \n",
      "1            NaN   NaN          NaN      B010       CHAMP COCHET       1480.0   \n",
      "2            NaN   NaN          NaN      B010       CHAMP COCHET       1480.0   \n",
      "3           98.0   NaN          RTE      0055       DE LA DOMBES       1480.0   \n",
      "4            NaN   NaN          NaN      B031        AUX PIERRES       1480.0   \n",
      "...          ...   ...          ...       ...                ...          ...   \n",
      "3803880     19.0   NaN          RUE      4879        JEAN DOLENT      75014.0   \n",
      "3803881      3.0   NaN          RUE      3842  FREDERIC MAGISSON      75015.0   \n",
      "3803882      3.0   NaN          RUE      3842  FREDERIC MAGISSON      75015.0   \n",
      "3803883     69.0   NaN          RUE      0679           BARRAULT      75013.0   \n",
      "3803884     48.0   NaN          RUE      8358     DE LA ROQUETTE      75011.0   \n",
      "\n",
      "         ... 5eme lot Surface Carrez du 5eme lot  Nombre de lots  \\\n",
      "0        ...      NaN                        NaN               1   \n",
      "1        ...      NaN                        NaN               0   \n",
      "2        ...      NaN                        NaN               0   \n",
      "3        ...      NaN                        NaN               1   \n",
      "4        ...      NaN                        NaN               0   \n",
      "...      ...      ...                        ...             ...   \n",
      "3803880  ...      NaN                        NaN               1   \n",
      "3803881  ...      NaN                        NaN               2   \n",
      "3803882  ...      NaN                        NaN               2   \n",
      "3803883  ...      NaN                        NaN               1   \n",
      "3803884  ...      NaN                        NaN               1   \n",
      "\n",
      "         Code type local                                Type local  \\\n",
      "0                    2.0                               Appartement   \n",
      "1                    NaN                                       NaN   \n",
      "2                    NaN                                       NaN   \n",
      "3                    2.0                               Appartement   \n",
      "4                    NaN                                       NaN   \n",
      "...                  ...                                       ...   \n",
      "3803880              4.0  Local industriel. commercial ou assimilé   \n",
      "3803881              3.0                                Dépendance   \n",
      "3803882              2.0                               Appartement   \n",
      "3803883              3.0                                Dépendance   \n",
      "3803884              3.0                                Dépendance   \n",
      "\n",
      "         Surface reelle bati Nombre pieces principales Nature culture  \\\n",
      "0                       24.0                       1.0            NaN   \n",
      "1                        NaN                       NaN              S   \n",
      "2                        NaN                       NaN              S   \n",
      "3                      140.0                       3.0            NaN   \n",
      "4                        NaN                       NaN              T   \n",
      "...                      ...                       ...            ...   \n",
      "3803880                327.0                       0.0            NaN   \n",
      "3803881                  0.0                       0.0            NaN   \n",
      "3803882                 40.0                       3.0            NaN   \n",
      "3803883                  0.0                       0.0            NaN   \n",
      "3803884                  0.0                       0.0            NaN   \n",
      "\n",
      "        Nature culture speciale Surface terrain  \n",
      "0                           NaN             NaN  \n",
      "1                           NaN            84.0  \n",
      "2                           NaN            88.0  \n",
      "3                           NaN             NaN  \n",
      "4                           NaN           510.0  \n",
      "...                         ...             ...  \n",
      "3803880                     NaN             NaN  \n",
      "3803881                     NaN             NaN  \n",
      "3803882                     NaN             NaN  \n",
      "3803883                     NaN             NaN  \n",
      "3803884                     NaN             NaN  \n",
      "\n",
      "[3803885 rows x 35 columns]\n"
     ]
    }
   ],
   "source": [
    "print(data)"
   ]
  },
  {
   "cell_type": "code",
   "execution_count": 4,
   "metadata": {
    "id": "V4FJ05smwcj7"
   },
   "outputs": [
    {
     "name": "stdout",
     "output_type": "stream",
     "text": [
      "POTAG    37160\n",
      "PARC     16793\n",
      "PATUR    15578\n",
      "PIN      10825\n",
      "FRICH     9670\n",
      "         ...  \n",
      "TAMAR        1\n",
      "CERCL        1\n",
      "ROUI         1\n",
      "FRAMB        1\n",
      "GLAIS        1\n",
      "Name: Nature culture speciale, Length: 124, dtype: int64\n",
      "\n",
      "\n",
      "1      3619806\n",
      "2       157088\n",
      "3        18501\n",
      "4         2512\n",
      "5         1108\n",
      "        ...   \n",
      "798          1\n",
      "797          1\n",
      "796          1\n",
      "795          1\n",
      "604          1\n",
      "Name: No disposition, Length: 1203, dtype: int64\n"
     ]
    }
   ],
   "source": [
    "print(data['Nature culture speciale'].value_counts())\n",
    "print('\\n')\n",
    "print(data['No disposition'].value_counts())"
   ]
  },
  {
   "cell_type": "markdown",
   "metadata": {
    "id": "CJou4w9EwgPC"
   },
   "source": [
    "# Première visualisation test\n",
    "\n",
    "\n",
    "\n",
    "---\n",
    "\n",
    "--> Volume de ventes (en terme de nombre) en fonction du mois de l'année 2022\n",
    "\n"
   ]
  },
  {
   "cell_type": "code",
   "execution_count": 5,
   "metadata": {
    "id": "p9ANMFpawe4o"
   },
   "outputs": [],
   "source": [
    "#On aura besoin des colonnes \"Date de mutation\"\n",
    "data['Date mutation'] = pd.to_datetime(data['Date mutation'])\n",
    "#viz1_monthly = viz1.groupby(viz1.dt.month)\n",
    "#viz1 = viz1.apply(lambda date: [date[:-3] for date in viz1])"
   ]
  },
  {
   "cell_type": "code",
   "execution_count": 6,
   "metadata": {
    "id": "55zOiHnywyp6"
   },
   "outputs": [
    {
     "name": "stdout",
     "output_type": "stream",
     "text": [
      "0            55000.0\n",
      "1           143000.0\n",
      "2           143000.0\n",
      "3           143000.0\n",
      "4              300.0\n",
      "             ...    \n",
      "3803880    3500000.0\n",
      "3803881     525000.0\n",
      "3803882     525000.0\n",
      "3803883      15500.0\n",
      "3803884      30000.0\n",
      "Name: Valeur fonciere, Length: 3803885, dtype: float64\n"
     ]
    }
   ],
   "source": [
    "data['Valeur fonciere'] = data['Valeur fonciere'].str.replace(',','.')\n",
    "data['Valeur fonciere'] = data['Valeur fonciere'].astype(float)\n",
    "print(data['Valeur fonciere'])\n",
    "\n",
    "#import matplotlib.pyplot as plt\n",
    "#plt.scatter(data['Valeur fonciere'], viz1)"
   ]
  },
  {
   "cell_type": "code",
   "execution_count": 7,
   "metadata": {
    "id": "hqUDCGj2w1UR"
   },
   "outputs": [
    {
     "name": "stdout",
     "output_type": "stream",
     "text": [
      "0           24.10\n",
      "1             NaN\n",
      "2             NaN\n",
      "3          123.23\n",
      "4             NaN\n",
      "            ...  \n",
      "3803880       NaN\n",
      "3803881     46.65\n",
      "3803882     46.65\n",
      "3803883       NaN\n",
      "3803884       NaN\n",
      "Name: Surface Carrez du 1er lot, Length: 3803885, dtype: float64\n"
     ]
    }
   ],
   "source": [
    "data['Surface Carrez du 1er lot'] = data['Surface Carrez du 1er lot'].str.replace(',','.')\n",
    "data['Surface Carrez du 1er lot'] = data['Surface Carrez du 1er lot'].astype(float)\n",
    "print(data['Surface Carrez du 1er lot'])\n"
   ]
  },
  {
   "cell_type": "code",
   "execution_count": 8,
   "metadata": {
    "id": "eP4bGBLQy2jg"
   },
   "outputs": [
    {
     "name": "stdout",
     "output_type": "stream",
     "text": [
      "0         NaN\n",
      "1         NaN\n",
      "2         NaN\n",
      "3         NaN\n",
      "4         NaN\n",
      "           ..\n",
      "3803880   NaN\n",
      "3803881   NaN\n",
      "3803882   NaN\n",
      "3803883   NaN\n",
      "3803884   NaN\n",
      "Name: Surface Carrez du 2eme lot, Length: 3803885, dtype: float64\n"
     ]
    }
   ],
   "source": [
    "data['Surface Carrez du 2eme lot'] = data['Surface Carrez du 2eme lot'].str.replace(',','.')\n",
    "data['Surface Carrez du 2eme lot'] = data['Surface Carrez du 2eme lot'].astype(float)\n",
    "print(data['Surface Carrez du 2eme lot'])"
   ]
  },
  {
   "cell_type": "code",
   "execution_count": 9,
   "metadata": {
    "id": "0Ojkx2vJy3dE"
   },
   "outputs": [
    {
     "name": "stdout",
     "output_type": "stream",
     "text": [
      "0         NaN\n",
      "1         NaN\n",
      "2         NaN\n",
      "3         NaN\n",
      "4         NaN\n",
      "           ..\n",
      "3803880   NaN\n",
      "3803881   NaN\n",
      "3803882   NaN\n",
      "3803883   NaN\n",
      "3803884   NaN\n",
      "Name: Surface Carrez du 3eme lot, Length: 3803885, dtype: float64\n"
     ]
    }
   ],
   "source": [
    "data['Surface Carrez du 3eme lot'] = data['Surface Carrez du 3eme lot'].str.replace(',','.')\n",
    "data['Surface Carrez du 3eme lot'] = data['Surface Carrez du 3eme lot'].astype(float)\n",
    "print(data['Surface Carrez du 3eme lot'])"
   ]
  },
  {
   "cell_type": "code",
   "execution_count": 10,
   "metadata": {
    "id": "ypsmDBpay5fL"
   },
   "outputs": [
    {
     "name": "stdout",
     "output_type": "stream",
     "text": [
      "0         NaN\n",
      "1         NaN\n",
      "2         NaN\n",
      "3         NaN\n",
      "4         NaN\n",
      "           ..\n",
      "3803880   NaN\n",
      "3803881   NaN\n",
      "3803882   NaN\n",
      "3803883   NaN\n",
      "3803884   NaN\n",
      "Name: Surface Carrez du 4eme lot, Length: 3803885, dtype: float64\n"
     ]
    }
   ],
   "source": [
    "data['Surface Carrez du 4eme lot'] = data['Surface Carrez du 4eme lot'].str.replace(',','.')\n",
    "data['Surface Carrez du 4eme lot'] = data['Surface Carrez du 4eme lot'].astype(float)\n",
    "print(data['Surface Carrez du 4eme lot'])"
   ]
  },
  {
   "cell_type": "code",
   "execution_count": 11,
   "metadata": {
    "id": "DOXTeATxy7x_"
   },
   "outputs": [
    {
     "name": "stdout",
     "output_type": "stream",
     "text": [
      "0         NaN\n",
      "1         NaN\n",
      "2         NaN\n",
      "3         NaN\n",
      "4         NaN\n",
      "           ..\n",
      "3803880   NaN\n",
      "3803881   NaN\n",
      "3803882   NaN\n",
      "3803883   NaN\n",
      "3803884   NaN\n",
      "Name: Surface Carrez du 5eme lot, Length: 3803885, dtype: float64\n"
     ]
    }
   ],
   "source": [
    "data['Surface Carrez du 5eme lot'] = data['Surface Carrez du 5eme lot'].str.replace(',','.')\n",
    "data['Surface Carrez du 5eme lot'] = data['Surface Carrez du 5eme lot'].astype(float)\n",
    "print(data['Surface Carrez du 5eme lot'])"
   ]
  },
  {
   "cell_type": "code",
   "execution_count": 56,
   "metadata": {
    "id": "XEd6Cz_F1ojP"
   },
   "outputs": [],
   "source": [
    "data['Code departement'] = data['Code departement'].astype(str).str.replace('2A','20').str.replace('2B','20').str.replace('971','97').str.replace('972','97').str.replace('973','97').str.replace('974','97').str.replace('976','97').astype(int)"
   ]
  },
  {
   "cell_type": "code",
   "execution_count": 13,
   "metadata": {},
   "outputs": [
    {
     "data": {
      "text/plain": [
       "<matplotlib.collections.PathCollection at 0x23208e8f580>"
      ]
     },
     "execution_count": 13,
     "metadata": {},
     "output_type": "execute_result"
    },
    {
     "data": {
      "image/png": "[encoded data removed]",
      "text/plain": [
       "<Figure size 432x288 with 1 Axes>"
      ]
     },
     "metadata": {
      "needs_background": "light"
     },
     "output_type": "display_data"
    }
   ],
   "source": [
    "datafiltre = data[data['Valeur fonciere'] < 300000000]\n",
    "plt.scatter(datafiltre['Date mutation'], datafiltre['Valeur fonciere'])"
   ]
  },
  {
   "cell_type": "code",
   "execution_count": 54,
   "metadata": {},
   "outputs": [
    {
     "data": {
      "text/plain": [
       "Text(0.5, 1.0, 'Volume de ventes (en M€) par mois')"
      ]
     },
     "execution_count": 54,
     "metadata": {},
     "output_type": "execute_result"
    },
    {
     "data": {
      "image/png": "[encoded data removed]",
      "text/plain": [
       "<Figure size 432x288 with 1 Axes>"
      ]
     },
     "metadata": {
      "needs_background": "light"
     },
     "output_type": "display_data"
    }
   ],
   "source": [
    "nombreventes_mois = datafiltre.groupby('Date mutation').sum()\n",
    "nombreventes_mois = nombreventes_mois.groupby([nombreventes_mois.index.year.values,nombreventes_mois.index.month.values]).sum()\n",
    "nombreventes_mois['mois'] = nombreventes_mois.index\n",
    "#bins = np.arange(0, nombreventes_mois['Valeur fonciere'].max(), 1000000000)\n",
    "\n",
    "nombreventes_mois.plot.bar(x='mois', y='Valeur fonciere')\n",
    "plt.title('Volume de ventes (en M€) par mois')"
   ]
  },
  {
   "cell_type": "code",
   "execution_count": null,
   "metadata": {},
   "outputs": [],
   "source": [
    "#Surface moyenne des terrains en fonction du département de vente\n",
    "surfacemoyenne_dpt = "
   ]
  },
  {
   "cell_type": "code",
   "execution_count": 121,
   "metadata": {},
   "outputs": [
    {
     "data": {
      "image/png": "[encoded data removed]",
      "text/plain": [
       "<Figure size 432x288 with 1 Axes>"
      ]
     },
     "metadata": {
      "needs_background": "light"
     },
     "output_type": "display_data"
    }
   ],
   "source": [
    "#Département comportant le plus de transactions (par mois)\n",
    "nombreventes_dpt = data.groupby('Code departement').sum()\n",
    "nombreventes_dpt['count'] = data['Code departement'].value_counts()\n",
    "nombreventes_dpt['dept'] = nombreventes_dpt.index\n",
    "\n",
    "nombreventes_dpt = nombreventes_dpt.sort_values(by=['count'], axis=0, ascending=False)\n",
    "\n",
    "nombreventes_dpt_10_pgrand = nombreventes_dpt.head(10)\n",
    "nombreventes_dpt_10_ppetit = nombreventes_dpt.tail(10)\n",
    "#nombrevente_dpt = nombrevente_dpt.groupby([nombrevente_dpt.index.year.values,nombrevente_dpt.index.month.values]).sum()\n",
    "\n",
    "    \n",
    "nombreventes_dpt_10_pgrand.plot.barh(y='count')\n",
    "plt.title('Volume de vente (en nombre) pour les 10 plus gros départements vendeurs')\n",
    "plt.show()"
   ]
  },
  {
   "cell_type": "code",
   "execution_count": 122,
   "metadata": {
    "scrolled": true
   },
   "outputs": [
    {
     "data": {
      "image/png": "[encoded data removed]",
      "text/plain": [
       "<Figure size 432x288 with 1 Axes>"
      ]
     },
     "metadata": {
      "needs_background": "light"
     },
     "output_type": "display_data"
    }
   ],
   "source": [
    "nombreventes_dpt_10_ppetit.plot.barh(y='count')\n",
    "plt.title('Volume de vente (en nombre) pour les 10 plus petits départements vendeurs')\n",
    "plt.show()"
   ]
  },
  {
   "cell_type": "code",
   "execution_count": null,
   "metadata": {},
   "outputs": [],
   "source": []
  }
 ],
 "metadata": {
  "accelerator": "GPU",
  "colab": {
   "gpuType": "T4",
   "provenance": []
  },
  "gpuClass": "standard",
  "kernelspec": {
   "display_name": "Python 3",
   "language": "python",
   "name": "python3"
  },
  "language_info": {
   "codemirror_mode": {
    "name": "ipython",
    "version": 3
   },
   "file_extension": ".py",
   "mimetype": "text/x-python",
   "name": "python",
   "nbconvert_exporter": "python",
   "pygments_lexer": "ipython3",
   "version": "3.8.3"
  }
 },
 "nbformat": 4,
 "nbformat_minor": 1
}
